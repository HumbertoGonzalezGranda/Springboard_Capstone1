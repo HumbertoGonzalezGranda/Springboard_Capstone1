{
 "cells": [
  {
   "cell_type": "markdown",
   "metadata": {},
   "source": [
    "## Feature Engineering on Diff Data\n",
    "USA World Series Results,\n",
    "Run on \"Diff\" data\n",
    "Added new features for \"bands\" KO win % difference"
   ]
  },
  {
   "cell_type": "markdown",
   "metadata": {},
   "source": [
    "# @To Do\n",
    "\n",
    "- [ ] Look at scaling or normalizing data\n",
    "- [ ] Look at Neural Networks\n",
    "- [ ] Resolve issue of target being numeric or string label\n",
    "- [ ] Explore relationship between Posession Time + Attacking Rucks + Passes"
   ]
  },
  {
   "cell_type": "code",
   "execution_count": null,
   "metadata": {
    "collapsed": true
   },
   "outputs": [],
   "source": [
    "import pandas as pd\n",
    "import numpy as np"
   ]
  },
  {
   "cell_type": "code",
   "execution_count": null,
   "metadata": {},
   "outputs": [],
   "source": [
    "#Import Data - USA match differentials\n",
    "df = pd.read_csv('../data/output/final_diffs_all.csv')\n",
    "#Import validation set from last two stops of 2017-18 World Series (London & Paris)\n",
    "#df = pd.read_csv('../data/output/final_diffs_validate.csv')\n",
    "df.head()"
   ]
  },
  {
   "cell_type": "code",
   "execution_count": null,
   "metadata": {
    "collapsed": true
   },
   "outputs": [],
   "source": [
    "# Replace NaN's with zero\n",
    "df.fillna(value=0, inplace=True)"
   ]
  },
  {
   "cell_type": "code",
   "execution_count": null,
   "metadata": {
    "collapsed": true
   },
   "outputs": [],
   "source": [
    "# create result label: change from 1,0,2 to win, loss, tie\n",
    "# if 'Score_Diff' is > 0 = win, if < 0, else tie\n",
    "def createResult(x):\n",
    "    if x > 0:\n",
    "        return 1 #\"W\"\n",
    "    elif x < 0:\n",
    "        return 0 #\"L\"\n",
    "    elif x == 0:\n",
    "        return 2 #\"T\"\n",
    "\n",
    "df.loc[:,'Result'] = df.loc[:,'Score_Diff'].apply(createResult)"
   ]
  },
  {
   "cell_type": "code",
   "execution_count": null,
   "metadata": {
    "scrolled": false
   },
   "outputs": [],
   "source": [
    "df.head()"
   ]
  },
  {
   "cell_type": "code",
   "execution_count": null,
   "metadata": {},
   "outputs": [],
   "source": [
    "df.Contestable_KO_Win_pct_Diff.describe()"
   ]
  },
  {
   "cell_type": "code",
   "execution_count": null,
   "metadata": {},
   "outputs": [],
   "source": [
    "df.Contestable_KO_Win_pct_Diff"
   ]
  },
  {
   "cell_type": "code",
   "execution_count": null,
   "metadata": {
    "scrolled": false
   },
   "outputs": [],
   "source": [
    "#Create columns for KO win % bands based on Contestable_KO_Win_pct_Diff\n",
    "# Tmp DF to hold values\n",
    "tmp = pd.DataFrame(columns=['-175 : -150', '-149 : -125', '-124 : -100', '-99 : -75', '-74 : -25', '-24 : -1', '0 : 25', '26 : 50', '51 : 75', '76 : 100', '101 : 125', '126 : 150'])\n",
    "\n",
    "#Iterate through rows and create classification for KO Win%\n",
    "for index, row in df.iterrows():\n",
    "    \n",
    "    if row['Contestable_KO_Win_pct_Diff'] > -175.0 and row['Contestable_KO_Win_pct_Diff'] <= -150.0:\n",
    "        bin0 = row['-175 : -150'] = float(-1.50*50)\n",
    "        bin1 = row['-149 : -125'] = float(0)\n",
    "        bin2 = row['-124 : -100'] = float(0)\n",
    "        bin3 = row['-99 : -75'] = float(0)\n",
    "        bin4 = row['-74 : -25'] = float(0)\n",
    "        bin5 = row['-24 : -1'] = float(0)\n",
    "        bin6 = row['0 : 25'] = float(0)\n",
    "        bin7 = row['26 : 50'] = float(0)\n",
    "        bin8 = row['51 : 75'] = float(0)\n",
    "        bin9 = row['76 : 100'] = float(0)\n",
    "        bin10 = row['101 : 125'] = float(0)\n",
    "        bin11 = row['126 : 150'] = float(0)\n",
    "        \n",
    "    elif row['Contestable_KO_Win_pct_Diff'] > -150.0 and row['Contestable_KO_Win_pct_Diff'] <= -125.0:\n",
    "        bin0 = row['-175 : -150'] = float(0)\n",
    "        bin1 = row['-149 : -125'] = float(-1.25*50)\n",
    "        bin2 = row['-124 : -100'] = float(0)\n",
    "        bin3 = row['-99 : -75'] = float(0)\n",
    "        bin4 = row['-74 : -25'] = float(0)\n",
    "        bin5 = row['-24 : -1'] = float(0)\n",
    "        bin6 = row['0 : 25'] = float(0)\n",
    "        bin7 = row['26 : 50'] = float(0)\n",
    "        bin8 = row['51 : 75'] = float(0)\n",
    "        bin9 = row['76 : 100'] = float(0)\n",
    "        bin10 = row['101 : 125'] = float(0)\n",
    "        bin11 = row['126 : 150'] = float(0)  \n",
    "      \n",
    "    elif row['Contestable_KO_Win_pct_Diff'] > -125.0 and row['Contestable_KO_Win_pct_Diff'] <= -100.0:\n",
    "        bin0 = row['-175 : -150'] = float(0)\n",
    "        bin1 = row['-149 : -125'] = float(0)\n",
    "        bin2 = row['-124 : -100'] = float(-1.00*50)\n",
    "        bin3 = row['-99 : -75'] = float(0)\n",
    "        bin4 = row['-74 : -25'] = float(0)\n",
    "        bin5 = row['-24 : -1'] = float(0)\n",
    "        bin6 = row['0 : 25'] = float(0)\n",
    "        bin7 = row['26 : 50'] = float(0)\n",
    "        bin8 = row['51 : 75'] = float(0)\n",
    "        bin9 = row['76 : 100'] = float(0)\n",
    "        bin10 = row['101 : 125'] = float(0)\n",
    "        bin11 = row['126 : 150'] = float(0)         \n",
    "         \n",
    "    elif row['Contestable_KO_Win_pct_Diff'] > -100.0 and row['Contestable_KO_Win_pct_Diff'] <= -75.0:\n",
    "        bin0 = row['-175 : -150'] = float(0)\n",
    "        bin1 = row['-149 : -125'] = float(0)\n",
    "        bin2 = row['-124 : -100'] = float(0)\n",
    "        bin3 = row['-99 : -75'] = float(-0.75*50)\n",
    "        bin4 = row['-74 : -25'] = float(0)\n",
    "        bin5 = row['-24 : -1'] = float(0)\n",
    "        bin6 = row['0 : 25'] = float(0)\n",
    "        bin7 = row['26 : 50'] = float(0)\n",
    "        bin8 = row['51 : 75'] = float(0)\n",
    "        bin9 = row['76 : 100'] = float(0)\n",
    "        bin10 = row['101 : 125'] = float(0)\n",
    "        bin11 = row['126 : 150'] = float(0)        \n",
    "          \n",
    "    elif row['Contestable_KO_Win_pct_Diff'] > -75.0 and row['Contestable_KO_Win_pct_Diff'] <= -25.0:\n",
    "        bin0 = row['-175 : -150'] = float(0)\n",
    "        bin1 = row['-149 : -125'] = float(0)\n",
    "        bin2 = row['-124 : -100'] = float(0)\n",
    "        bin3 = row['-99 : -75'] = float(0)\n",
    "        bin4 = row['-74 : -25'] = float(-0.25*50)\n",
    "        bin5 = row['-24 : -1'] = float(0)\n",
    "        bin6 = row['0 : 25'] = float(0)\n",
    "        bin7 = row['26 : 50'] = float(0)\n",
    "        bin8 = row['51 : 75'] = float(0)\n",
    "        bin9 = row['76 : 100'] = float(0)\n",
    "        bin10 = row['101 : 125'] = float(0)\n",
    "        bin11 = row['126 : 150'] = float(0)        \n",
    "          \n",
    "    elif row['Contestable_KO_Win_pct_Diff'] > -25.0 and row['Contestable_KO_Win_pct_Diff'] <= -1.0:\n",
    "        bin0 = row['-175 : -150'] = float(0)\n",
    "        bin1 = row['-149 : -125'] = float(0)\n",
    "        bin2 = row['-124 : -100'] = float(0)\n",
    "        bin3 = row['-99 : -75'] = float(0)\n",
    "        bin4 = row['-74 : -25'] = float(0)\n",
    "        bin5 = row['-24 : -1'] = float(-0.10*50)\n",
    "        bin6 = row['0 : 25'] = float(0)\n",
    "        bin7 = row['26 : 50'] = float(0)\n",
    "        bin8 = row['51 : 75'] = float(0)\n",
    "        bin9 = row['76 : 100'] = float(0)\n",
    "        bin10 = row['101 : 125'] = float(0)\n",
    "        bin11 = row['126 : 150'] = float(0)          \n",
    "        \n",
    "    elif row['Contestable_KO_Win_pct_Diff'] >= 0 and row['Contestable_KO_Win_pct_Diff'] <= 25.0:\n",
    "        bin0 = row['-175 : -150'] = float(0)\n",
    "        bin1 = row['-149 : -125'] = float(0)\n",
    "        bin2 = row['-124 : -100'] = float(0)\n",
    "        bin3 = row['-99 : -75'] = float(0)\n",
    "        bin4 = row['-74 : -25'] = float(0)\n",
    "        bin5 = row['-24 : -1'] = float(0)\n",
    "        bin6 = row['0 : 25'] = float(0.25*50)\n",
    "        bin7 = row['26 : 50'] = float(0)\n",
    "        bin8 = row['51 : 75'] = float(0)\n",
    "        bin9 = row['76 : 100'] = float(0)\n",
    "        bin10 = row['101 : 125'] = float(0)\n",
    "        bin11 = row['126 : 150'] = float(0)\n",
    "\n",
    "    elif row['Contestable_KO_Win_pct_Diff'] > 25.0 and row['Contestable_KO_Win_pct_Diff'] <= 50.0:\n",
    "        bin0 = row['-175 : -150'] = float(0)\n",
    "        bin1 = row['-149 : -125'] = float(0)\n",
    "        bin2 = row['-124 : -100'] = float(0)\n",
    "        bin3 = row['-99 : -75'] = float(0)\n",
    "        bin4 = row['-74 : -25'] = float(0)\n",
    "        bin5 = row['-24 : -1'] = float(0)\n",
    "        bin6 = row['0 : 25'] = float(0)\n",
    "        bin7 = row['26 : 50'] = float(0.50*50)\n",
    "        bin8 = row['51 : 75'] = float(0)\n",
    "        bin9 = row['76 : 100'] = float(0)\n",
    "        bin10 = row['101 : 125'] = float(0)\n",
    "        bin11 = row['126 : 150'] = float(0)\n",
    "\n",
    "    elif row['Contestable_KO_Win_pct_Diff'] > 50.0 and row['Contestable_KO_Win_pct_Diff'] <= 75.0:\n",
    "        bin0 = row['-175 : -150'] = float(0)\n",
    "        bin1 = row['-149 : -125'] = float(0)\n",
    "        bin2 = row['-124 : -100'] = float(0)\n",
    "        bin3 = row['-99 : -75'] = float(0)\n",
    "        bin4 = row['-74 : -25'] = float(0)\n",
    "        bin5 = row['-24 : -1'] = float(0)\n",
    "        bin6 = row['0 : 25'] = float(0)\n",
    "        bin7 = row['26 : 50'] = float(0)\n",
    "        bin8 = row['51 : 75'] = float(0.75*50)\n",
    "        bin9 = row['76 : 100'] = float(0)\n",
    "        bin10 = row['101 : 125'] = float(0)\n",
    "        bin11 = row['126 : 150'] = float(0)\n",
    "\n",
    "    elif row['Contestable_KO_Win_pct_Diff'] > 75.0 and row['Contestable_KO_Win_pct_Diff'] <= 100.0:\n",
    "        #zero = row['0'] = float(0)\n",
    "        bin0 = row['-175 : -150'] = float(0)\n",
    "        bin1 = row['-149 : -125'] = float(0)\n",
    "        bin2 = row['-124 : -100'] = float(0)\n",
    "        bin3 = row['-99 : -75'] = float(0)\n",
    "        bin4 = row['-74 : -25'] = float(0)\n",
    "        bin5 = row['-24 : -1'] = float(0)\n",
    "        bin6 = row['0 : 25'] = float(0)\n",
    "        bin7 = row['26 : 50'] = float(0)\n",
    "        bin8 = row['51 : 75'] = float(0)\n",
    "        bin9 = row['76 : 100'] = float(1.00*50)\n",
    "        bin10 = row['101 : 125'] = float(0)\n",
    "        bin11 = row['126 : 150'] = float(0)\n",
    "\n",
    "    elif row['Contestable_KO_Win_pct_Diff'] > 100.0 and row['Contestable_KO_Win_pct_Diff'] <= 125.0:\n",
    "        bin0 = row['-175 : -150'] = float(0)\n",
    "        bin1 = row['-149 : -125'] = float(0)\n",
    "        bin2 = row['-124 : -100'] = float(0)\n",
    "        bin3 = row['-99 : -75'] = float(0)\n",
    "        bin4 = row['-74 : -25'] = float(0)\n",
    "        bin5 = row['-24 : -1'] = float(0)\n",
    "        bin6 = row['0 : 25'] = float(0)\n",
    "        bin7 = row['26 : 50'] = float(0)\n",
    "        bin8 = row['51 : 75'] = float(0)\n",
    "        bin9 = row['76 : 100'] = float(0)\n",
    "        bin10 = row['101 : 125'] = float(1.25*50)\n",
    "        bin11 = row['126 : 150'] = float(0)        \n",
    "        \n",
    "\n",
    "    elif row['Contestable_KO_Win_pct_Diff'] > 125.0 and row['Contestable_KO_Win_pct_Diff'] <= 150.0:\n",
    "        #zero = row['0'] = float(0)\n",
    "        bin0 = row['-175 : -150'] = float(0)\n",
    "        bin1 = row['-149 : -125'] = float(0)\n",
    "        bin2 = row['-124 : -100'] = float(0)\n",
    "        bin3 = row['-99 : -75'] = float(0)\n",
    "        bin4 = row['-74 : -25'] = float(0)\n",
    "        bin5 = row['-24 : -1'] = float(0)\n",
    "        bin6 = row['0 - 25'] = float(0)\n",
    "        bin7 = row['26 - 50'] = float(0)\n",
    "        bin8 = row['51 - 75'] = float(0)\n",
    "        bin9 = row['76 - 100'] = float(0)\n",
    "        bin10 = row['101 - 125'] = float(0)\n",
    "        bin11 = row['126 - 150'] = float(1.50*50) \n",
    "        \n",
    "    tmp.loc[index] = (bin0, bin1, bin2, bin3, bin4, bin5, bin6, bin7, bin8, bin9, bin10, bin11)\n",
    "    \n",
    "#df.info()\n",
    "#type(df.Result[1])\n",
    "df = pd.concat([df, tmp], axis=1)\n",
    "\n",
    "df.to_csv(\"../data/output/matchdata_ko_bands.csv\", header=True, index=False)\n",
    "\n",
    "#print(list(df.columns))\n",
    "# ['Team', 'Date', 'Tournament', 'Match', 'Possession Time', 'Scores', 'Tries', 'Conversions', 'Passes', 'Contestable_KO_Win_pct_Diff', 'Pens_Frees Against', 'Ruck_Maul', 'Yellow_Red Cards', 'TurnoversConceded', 'Ruck_retention', 'Lineout_Win_Pct', 'Scrum_Win_Pct', 'Result', '0', '0 - 25', '25 - 50', '50 - 75', '75 - 100']\n",
    "df.head()"
   ]
  },
  {
   "cell_type": "code",
   "execution_count": null,
   "metadata": {},
   "outputs": [],
   "source": [
    "df.info()\n",
    "#list(df.columns)"
   ]
  },
  {
   "cell_type": "code",
   "execution_count": null,
   "metadata": {},
   "outputs": [],
   "source": [
    "# reorder columns\n",
    "df = df[['Opp','Tournament','Poss_Time_Diff','Score_Diff','Conv_Diff','Tries_Diff','Passes_Diff','Contestable_KO_Win_pct_Diff','PenFK_Against_Diff','RuckMaul_Diff','Ruck_Win_pct_Diff','Cards_diff','Lineout_Win_Pct_Diff','Scrum_Win_Pct_Diff','-175 : -150','-149 : -125','-124 : -100','-99 : -75','-74 : -25','-24 : -1','0 : 25','26 : 50','51 : 75','76 : 100', '101 : 125','126 : 150','Result']]\n",
    "df.head()"
   ]
  },
  {
   "cell_type": "code",
   "execution_count": null,
   "metadata": {
    "collapsed": true
   },
   "outputs": [],
   "source": [
    "df.to_csv(\"../data/output/new_features_diffdata.csv\", header=True, index=False)\n",
    "#Create validation set\n",
    "#df.to_csv(\"../data/output/new_features_diffdata_validate.csv\", header=True, index=False)"
   ]
  }
 ],
 "metadata": {
  "kernelspec": {
   "display_name": "Python 3",
   "language": "python",
   "name": "python3"
  },
  "language_info": {
   "codemirror_mode": {
    "name": "ipython",
    "version": 3
   },
   "file_extension": ".py",
   "mimetype": "text/x-python",
   "name": "python",
   "nbconvert_exporter": "python",
   "pygments_lexer": "ipython3",
   "version": "3.6.3"
  }
 },
 "nbformat": 4,
 "nbformat_minor": 2
}
