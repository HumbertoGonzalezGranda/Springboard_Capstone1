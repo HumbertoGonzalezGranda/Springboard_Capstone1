{
 "cells": [
  {
   "cell_type": "markdown",
   "metadata": {},
   "source": [
    "## XGBoost Model parameter tuning and evalution using Gridsearch\n",
    "USA World Series Results,\n",
    "Run on \"Diff\" data"
   ]
  },
  {
   "cell_type": "markdown",
   "metadata": {},
   "source": [
    "# @To Do\n",
    "\n",
    "- [ ] Look at scaling or normalizing data\n",
    "- [ ] Look at Neural Networks\n",
    "- [ ] Resolve issue of target being numeric or string label\n",
    "- [ ] Explore relationship between Posession Time + Attacking Rucks + Passes"
   ]
  },
  {
   "cell_type": "code",
   "execution_count": 89,
   "metadata": {
    "collapsed": true
   },
   "outputs": [],
   "source": [
    "import pandas as pd\n",
    "import numpy as np\n",
    "import matplotlib.pyplot as plt\n",
    "import seaborn as sns\n",
    "%matplotlib inline"
   ]
  },
  {
   "cell_type": "code",
   "execution_count": 125,
   "metadata": {},
   "outputs": [
    {
     "data": {
      "text/html": [
       "<div>\n",
       "<style>\n",
       "    .dataframe thead tr:only-child th {\n",
       "        text-align: right;\n",
       "    }\n",
       "\n",
       "    .dataframe thead th {\n",
       "        text-align: left;\n",
       "    }\n",
       "\n",
       "    .dataframe tbody tr th {\n",
       "        vertical-align: top;\n",
       "    }\n",
       "</style>\n",
       "<table border=\"1\" class=\"dataframe\">\n",
       "  <thead>\n",
       "    <tr style=\"text-align: right;\">\n",
       "      <th></th>\n",
       "      <th>Opp</th>\n",
       "      <th>Tournament</th>\n",
       "      <th>Poss_Time_Diff</th>\n",
       "      <th>Score_Diff</th>\n",
       "      <th>Conv_Diff</th>\n",
       "      <th>Tries_Diff</th>\n",
       "      <th>Passes_Diff</th>\n",
       "      <th>Contestable_KO_Win_pct_Diff</th>\n",
       "      <th>PenFK_Against_Diff</th>\n",
       "      <th>RuckMaul_Diff</th>\n",
       "      <th>...</th>\n",
       "      <th>-99 : -75</th>\n",
       "      <th>-74 : -25</th>\n",
       "      <th>-24 : -1</th>\n",
       "      <th>0 : 25</th>\n",
       "      <th>26 : 50</th>\n",
       "      <th>51 : 75</th>\n",
       "      <th>76 : 100</th>\n",
       "      <th>101 : 125</th>\n",
       "      <th>126 : 150</th>\n",
       "      <th>Result</th>\n",
       "    </tr>\n",
       "  </thead>\n",
       "  <tbody>\n",
       "    <tr>\n",
       "      <th>0</th>\n",
       "      <td>AUSTRALIA</td>\n",
       "      <td>2015_Cape_Town</td>\n",
       "      <td>13.966480</td>\n",
       "      <td>-10.638298</td>\n",
       "      <td>-14.285714</td>\n",
       "      <td>0.250000</td>\n",
       "      <td>25.925926</td>\n",
       "      <td>-50.000000</td>\n",
       "      <td>0.000000</td>\n",
       "      <td>0.000000</td>\n",
       "      <td>...</td>\n",
       "      <td>0.0</td>\n",
       "      <td>-12.5</td>\n",
       "      <td>0.0</td>\n",
       "      <td>0.0</td>\n",
       "      <td>0.0</td>\n",
       "      <td>0.0</td>\n",
       "      <td>0.0</td>\n",
       "      <td>0.0</td>\n",
       "      <td>0.0</td>\n",
       "      <td>0</td>\n",
       "    </tr>\n",
       "    <tr>\n",
       "      <th>1</th>\n",
       "      <td>WALES</td>\n",
       "      <td>2015_Cape_Town</td>\n",
       "      <td>7.471264</td>\n",
       "      <td>15.555556</td>\n",
       "      <td>14.285714</td>\n",
       "      <td>0.083333</td>\n",
       "      <td>27.868852</td>\n",
       "      <td>25.000000</td>\n",
       "      <td>-20.000000</td>\n",
       "      <td>-100.000000</td>\n",
       "      <td>...</td>\n",
       "      <td>0.0</td>\n",
       "      <td>0.0</td>\n",
       "      <td>0.0</td>\n",
       "      <td>12.5</td>\n",
       "      <td>0.0</td>\n",
       "      <td>0.0</td>\n",
       "      <td>0.0</td>\n",
       "      <td>0.0</td>\n",
       "      <td>0.0</td>\n",
       "      <td>1</td>\n",
       "    </tr>\n",
       "    <tr>\n",
       "      <th>2</th>\n",
       "      <td>KENYA</td>\n",
       "      <td>2015_Cape_Town</td>\n",
       "      <td>-33.136095</td>\n",
       "      <td>-44.444444</td>\n",
       "      <td>-33.333333</td>\n",
       "      <td>-0.750000</td>\n",
       "      <td>-10.638298</td>\n",
       "      <td>-16.666667</td>\n",
       "      <td>66.666667</td>\n",
       "      <td>60.000000</td>\n",
       "      <td>...</td>\n",
       "      <td>0.0</td>\n",
       "      <td>0.0</td>\n",
       "      <td>-5.0</td>\n",
       "      <td>0.0</td>\n",
       "      <td>0.0</td>\n",
       "      <td>0.0</td>\n",
       "      <td>0.0</td>\n",
       "      <td>0.0</td>\n",
       "      <td>0.0</td>\n",
       "      <td>0</td>\n",
       "    </tr>\n",
       "    <tr>\n",
       "      <th>3</th>\n",
       "      <td>NEW ZEALAND</td>\n",
       "      <td>2015_Cape_Town</td>\n",
       "      <td>51.758794</td>\n",
       "      <td>33.333333</td>\n",
       "      <td>33.333333</td>\n",
       "      <td>0.000000</td>\n",
       "      <td>76.119403</td>\n",
       "      <td>-75.000000</td>\n",
       "      <td>-50.000000</td>\n",
       "      <td>-100.000000</td>\n",
       "      <td>...</td>\n",
       "      <td>-37.5</td>\n",
       "      <td>0.0</td>\n",
       "      <td>0.0</td>\n",
       "      <td>0.0</td>\n",
       "      <td>0.0</td>\n",
       "      <td>0.0</td>\n",
       "      <td>0.0</td>\n",
       "      <td>0.0</td>\n",
       "      <td>0.0</td>\n",
       "      <td>1</td>\n",
       "    </tr>\n",
       "    <tr>\n",
       "      <th>4</th>\n",
       "      <td>FIJI</td>\n",
       "      <td>2015_Cape_Town</td>\n",
       "      <td>12.880562</td>\n",
       "      <td>-20.833333</td>\n",
       "      <td>-25.000000</td>\n",
       "      <td>0.266667</td>\n",
       "      <td>38.461538</td>\n",
       "      <td>-66.666667</td>\n",
       "      <td>-33.333333</td>\n",
       "      <td>-33.333333</td>\n",
       "      <td>...</td>\n",
       "      <td>0.0</td>\n",
       "      <td>-12.5</td>\n",
       "      <td>0.0</td>\n",
       "      <td>0.0</td>\n",
       "      <td>0.0</td>\n",
       "      <td>0.0</td>\n",
       "      <td>0.0</td>\n",
       "      <td>0.0</td>\n",
       "      <td>0.0</td>\n",
       "      <td>0</td>\n",
       "    </tr>\n",
       "  </tbody>\n",
       "</table>\n",
       "<p>5 rows × 27 columns</p>\n",
       "</div>"
      ],
      "text/plain": [
       "           Opp      Tournament  Poss_Time_Diff  Score_Diff  Conv_Diff  \\\n",
       "0    AUSTRALIA  2015_Cape_Town       13.966480  -10.638298 -14.285714   \n",
       "1        WALES  2015_Cape_Town        7.471264   15.555556  14.285714   \n",
       "2        KENYA  2015_Cape_Town      -33.136095  -44.444444 -33.333333   \n",
       "3  NEW ZEALAND  2015_Cape_Town       51.758794   33.333333  33.333333   \n",
       "4         FIJI  2015_Cape_Town       12.880562  -20.833333 -25.000000   \n",
       "\n",
       "   Tries_Diff  Passes_Diff  Contestable_KO_Win_pct_Diff  PenFK_Against_Diff  \\\n",
       "0    0.250000    25.925926                   -50.000000            0.000000   \n",
       "1    0.083333    27.868852                    25.000000          -20.000000   \n",
       "2   -0.750000   -10.638298                   -16.666667           66.666667   \n",
       "3    0.000000    76.119403                   -75.000000          -50.000000   \n",
       "4    0.266667    38.461538                   -66.666667          -33.333333   \n",
       "\n",
       "   RuckMaul_Diff   ...    -99 : -75  -74 : -25  -24 : -1  0 : 25  26 : 50  \\\n",
       "0       0.000000   ...          0.0      -12.5       0.0     0.0      0.0   \n",
       "1    -100.000000   ...          0.0        0.0       0.0    12.5      0.0   \n",
       "2      60.000000   ...          0.0        0.0      -5.0     0.0      0.0   \n",
       "3    -100.000000   ...        -37.5        0.0       0.0     0.0      0.0   \n",
       "4     -33.333333   ...          0.0      -12.5       0.0     0.0      0.0   \n",
       "\n",
       "   51 : 75  76 : 100  101 : 125  126 : 150  Result  \n",
       "0      0.0       0.0        0.0        0.0       0  \n",
       "1      0.0       0.0        0.0        0.0       1  \n",
       "2      0.0       0.0        0.0        0.0       0  \n",
       "3      0.0       0.0        0.0        0.0       1  \n",
       "4      0.0       0.0        0.0        0.0       0  \n",
       "\n",
       "[5 rows x 27 columns]"
      ]
     },
     "execution_count": 125,
     "metadata": {},
     "output_type": "execute_result"
    }
   ],
   "source": [
    "#Import Data - USA's differential data\n",
    "df = pd.read_csv('../data/output/new_features_diffdata.csv')\n",
    "#Import validation data\n",
    "valdf = pd.read_csv('../data/output/new_features_diffdata_validate.csv')\n",
    "df.head()"
   ]
  },
  {
   "cell_type": "code",
   "execution_count": 91,
   "metadata": {},
   "outputs": [
    {
     "name": "stdout",
     "output_type": "stream",
     "text": [
      "<class 'pandas.core.frame.DataFrame'>\n",
      "RangeIndex: 12 entries, 0 to 11\n",
      "Data columns (total 27 columns):\n",
      "Opp                            12 non-null object\n",
      "Tournament                     12 non-null object\n",
      "Poss_Time_Diff                 12 non-null float64\n",
      "Score_Diff                     12 non-null float64\n",
      "Conv_Diff                      12 non-null float64\n",
      "Tries_Diff                     12 non-null float64\n",
      "Passes_Diff                    12 non-null float64\n",
      "Contestable_KO_Win_pct_Diff    12 non-null float64\n",
      "PenFK_Against_Diff             12 non-null float64\n",
      "RuckMaul_Diff                  12 non-null float64\n",
      "Ruck_Win_pct_Diff              12 non-null float64\n",
      "Cards_diff                     12 non-null int64\n",
      "Lineout_Win_Pct_Diff           12 non-null float64\n",
      "Scrum_Win_Pct_Diff             12 non-null float64\n",
      "-175 : -150                    12 non-null float64\n",
      "-149 : -125                    12 non-null float64\n",
      "-124 : -100                    12 non-null float64\n",
      "-99 : -75                      12 non-null float64\n",
      "-74 : -25                      12 non-null float64\n",
      "-24 : -1                       12 non-null float64\n",
      "0 : 25                         12 non-null float64\n",
      "26 : 50                        12 non-null float64\n",
      "51 : 75                        12 non-null float64\n",
      "76 : 100                       12 non-null float64\n",
      "101 : 125                      12 non-null float64\n",
      "126 : 150                      12 non-null float64\n",
      "Result                         12 non-null int64\n",
      "dtypes: float64(23), int64(2), object(2)\n",
      "memory usage: 2.6+ KB\n"
     ]
    },
    {
     "data": {
      "text/plain": [
       "['Opp',\n",
       " 'Tournament',\n",
       " 'Poss_Time_Diff',\n",
       " 'Score_Diff',\n",
       " 'Conv_Diff',\n",
       " 'Tries_Diff',\n",
       " 'Passes_Diff',\n",
       " 'Contestable_KO_Win_pct_Diff',\n",
       " 'PenFK_Against_Diff',\n",
       " 'RuckMaul_Diff',\n",
       " 'Ruck_Win_pct_Diff',\n",
       " 'Cards_diff',\n",
       " 'Lineout_Win_Pct_Diff',\n",
       " 'Scrum_Win_Pct_Diff',\n",
       " '-175 : -150',\n",
       " '-149 : -125',\n",
       " '-124 : -100',\n",
       " '-99 : -75',\n",
       " '-74 : -25',\n",
       " '-24 : -1',\n",
       " '0 : 25',\n",
       " '26 : 50',\n",
       " '51 : 75',\n",
       " '76 : 100',\n",
       " '101 : 125',\n",
       " '126 : 150',\n",
       " 'Result']"
      ]
     },
     "execution_count": 91,
     "metadata": {},
     "output_type": "execute_result"
    }
   ],
   "source": [
    "df.info()\n",
    "list(df.columns)"
   ]
  },
  {
   "cell_type": "code",
   "execution_count": 92,
   "metadata": {
    "collapsed": true
   },
   "outputs": [],
   "source": [
    "from sklearn.model_selection import train_test_split"
   ]
  },
  {
   "cell_type": "code",
   "execution_count": 126,
   "metadata": {
    "collapsed": true
   },
   "outputs": [],
   "source": [
    "#Drop features that are unneccessary/str or will bias the prediction\n",
    "rf_data = df.drop((['Opp', 'Score_Diff', 'Tries_Diff','Tournament', 'Conv_Diff','Contestable_KO_Win_pct_Diff']), axis=1)\n",
    "\n",
    "#Drop rows with Result == \"T\" (Ties). This label messes up classification models\n",
    "rf_data.drop(rf_data[rf_data.Result == 2].index, inplace=True)"
   ]
  },
  {
   "cell_type": "code",
   "execution_count": 127,
   "metadata": {},
   "outputs": [
    {
     "data": {
      "text/plain": [
       "count    151.000000\n",
       "mean       0.562914\n",
       "std        0.497677\n",
       "min        0.000000\n",
       "25%        0.000000\n",
       "50%        1.000000\n",
       "75%        1.000000\n",
       "max        1.000000\n",
       "Name: Result, dtype: float64"
      ]
     },
     "execution_count": 127,
     "metadata": {},
     "output_type": "execute_result"
    }
   ],
   "source": [
    "rf_data.head()\n",
    "#Check to insure 'Result' only contains 2 values (W, L)\n",
    "rf_data['Result'].describe()\n",
    "#rf_data.describe()"
   ]
  },
  {
   "cell_type": "markdown",
   "metadata": {},
   "source": [
    "### Set up train/test split"
   ]
  },
  {
   "cell_type": "code",
   "execution_count": 128,
   "metadata": {
    "collapsed": true
   },
   "outputs": [],
   "source": [
    "#Pull out the variable we're trying to predict: 'Result'\n",
    "X = rf_data.drop('Result',axis=1)\n",
    "y = rf_data['Result']\n",
    "#X_train, X_test, y_train, y_test = train_test_split( X, y, test_size=0.30)"
   ]
  },
  {
   "cell_type": "code",
   "execution_count": 129,
   "metadata": {
    "collapsed": true
   },
   "outputs": [],
   "source": [
    "#Split into train/test/validate sets\n",
    "#OR, keep as is and use new data for validate\n",
    "#156 rows in original dataframe\n",
    "X_train, X_test, y_train, y_test = train_test_split(X, y, test_size=0.3, random_state=101)"
   ]
  },
  {
   "cell_type": "markdown",
   "metadata": {},
   "source": [
    "### Validation set\n",
    "Imported last two series stops (London & Paris - 12 matches total) to use as a validation set.\n",
    "\n",
    "Need to incorporate into larger data set later."
   ]
  },
  {
   "cell_type": "code",
   "execution_count": 150,
   "metadata": {
    "collapsed": true
   },
   "outputs": [],
   "source": [
    "#Drop features that are unneccessary/str or will bias the prediction\n",
    "rf_val_data = valdf.drop((['Opp', 'Score_Diff', 'Tries_Diff','Tournament', 'Conv_Diff','Contestable_KO_Win_pct_Diff']), axis=1)\n",
    "\n",
    "#Drop rows with Result == \"T\" (Ties). This label messes up classification models\n",
    "rf_val_data.drop(rf_val_data[rf_val_data.Result == 2].index, inplace=True)"
   ]
  },
  {
   "cell_type": "code",
   "execution_count": 151,
   "metadata": {
    "collapsed": true
   },
   "outputs": [],
   "source": [
    "#Pull out the variable we're trying to predict: 'Result'\n",
    "X_val = rf_val_data.drop('Result',axis=1)\n",
    "y_val = rf_val_data['Result']"
   ]
  },
  {
   "cell_type": "markdown",
   "metadata": {},
   "source": [
    "## Train an XGBoost Classifier Model\n",
    "Info from https://jessesw.com/XG-Boost/"
   ]
  },
  {
   "cell_type": "code",
   "execution_count": 130,
   "metadata": {
    "collapsed": true
   },
   "outputs": [],
   "source": [
    "import xgboost as xgb\n",
    "from sklearn.model_selection import GridSearchCV"
   ]
  },
  {
   "cell_type": "markdown",
   "metadata": {},
   "source": [
    "## Set up hyperparameter tuning/Grid Search¶"
   ]
  },
  {
   "cell_type": "code",
   "execution_count": 131,
   "metadata": {},
   "outputs": [],
   "source": [
    "#Set parameters for first grid search. Start tuning on the maximum depth of the trees first, \n",
    "#along with the min_child_weight, which is very similar to min_samples_split in sklearn’s version \n",
    "#of gradient boosted trees. We set the objective to ‘binary:logistic’ since this is a binary \n",
    "#classification problem\n",
    "cv_params = {'max_depth': [3,5,7], 'min_child_weight': [1,3,5]}\n",
    "ind_params = {'learning_rate': 0.1, 'n_estimators': 100, 'seed':101, 'subsample': 0.8, 'colsample_bytree': 0.8, \n",
    "             'objective': 'binary:logistic', 'random_state':101}\n",
    "\n",
    "optimized_GBM = GridSearchCV(xgb.XGBClassifier(**ind_params), \n",
    "                            cv_params, \n",
    "                             scoring = 'accuracy', cv = 5, n_jobs = -1) \n",
    "# Optimize for accuracy"
   ]
  },
  {
   "cell_type": "code",
   "execution_count": 132,
   "metadata": {},
   "outputs": [
    {
     "data": {
      "text/plain": [
       "GridSearchCV(cv=5, error_score='raise',\n",
       "       estimator=XGBClassifier(base_score=0.5, booster='gbtree', colsample_bylevel=1,\n",
       "       colsample_bytree=0.8, gamma=0, learning_rate=0.1, max_delta_step=0,\n",
       "       max_depth=3, min_child_weight=1, missing=None, n_estimators=100,\n",
       "       n_jobs=1, nthread=None, objective='binary:logistic',\n",
       "       random_state=101, reg_alpha=0, reg_lambda=1, scale_pos_weight=1,\n",
       "       seed=101, silent=True, subsample=0.8),\n",
       "       fit_params=None, iid=True, n_jobs=-1,\n",
       "       param_grid={'max_depth': [3, 5, 7], 'min_child_weight': [1, 3, 5]},\n",
       "       pre_dispatch='2*n_jobs', refit=True, return_train_score='warn',\n",
       "       scoring='accuracy', verbose=0)"
      ]
     },
     "execution_count": 132,
     "metadata": {},
     "output_type": "execute_result"
    }
   ],
   "source": [
    "optimized_GBM"
   ]
  },
  {
   "cell_type": "code",
   "execution_count": 133,
   "metadata": {},
   "outputs": [
    {
     "data": {
      "text/plain": [
       "GridSearchCV(cv=5, error_score='raise',\n",
       "       estimator=XGBClassifier(base_score=0.5, booster='gbtree', colsample_bylevel=1,\n",
       "       colsample_bytree=0.8, gamma=0, learning_rate=0.1, max_delta_step=0,\n",
       "       max_depth=3, min_child_weight=1, missing=None, n_estimators=100,\n",
       "       n_jobs=1, nthread=None, objective='binary:logistic',\n",
       "       random_state=101, reg_alpha=0, reg_lambda=1, scale_pos_weight=1,\n",
       "       seed=101, silent=True, subsample=0.8),\n",
       "       fit_params=None, iid=True, n_jobs=-1,\n",
       "       param_grid={'max_depth': [3, 5, 7], 'min_child_weight': [1, 3, 5]},\n",
       "       pre_dispatch='2*n_jobs', refit=True, return_train_score='warn',\n",
       "       scoring='accuracy', verbose=0)"
      ]
     },
     "execution_count": 133,
     "metadata": {},
     "output_type": "execute_result"
    }
   ],
   "source": [
    "# Run the grid search\n",
    "optimized_GBM.fit(X_train, y_train)"
   ]
  },
  {
   "cell_type": "code",
   "execution_count": 134,
   "metadata": {},
   "outputs": [
    {
     "name": "stderr",
     "output_type": "stream",
     "text": [
      "/Users/admin/anaconda3/lib/python3.6/site-packages/sklearn/model_selection/_search.py:761: DeprecationWarning: The grid_scores_ attribute was deprecated in version 0.18 in favor of the more elaborate cv_results_ attribute. The grid_scores_ attribute will not be available from 0.20\n",
      "  DeprecationWarning)\n"
     ]
    },
    {
     "data": {
      "text/plain": [
       "[mean: 0.59048, std: 0.04373, params: {'max_depth': 3, 'min_child_weight': 1},\n",
       " mean: 0.60952, std: 0.11613, params: {'max_depth': 3, 'min_child_weight': 3},\n",
       " mean: 0.59048, std: 0.03654, params: {'max_depth': 3, 'min_child_weight': 5},\n",
       " mean: 0.58095, std: 0.06394, params: {'max_depth': 5, 'min_child_weight': 1},\n",
       " mean: 0.60952, std: 0.11613, params: {'max_depth': 5, 'min_child_weight': 3},\n",
       " mean: 0.59048, std: 0.03654, params: {'max_depth': 5, 'min_child_weight': 5},\n",
       " mean: 0.57143, std: 0.03654, params: {'max_depth': 7, 'min_child_weight': 1},\n",
       " mean: 0.60952, std: 0.11613, params: {'max_depth': 7, 'min_child_weight': 3},\n",
       " mean: 0.59048, std: 0.03654, params: {'max_depth': 7, 'min_child_weight': 5}]"
      ]
     },
     "execution_count": 134,
     "metadata": {},
     "output_type": "execute_result"
    }
   ],
   "source": [
    "# Check grid scores (see deprecation warning - change from grid_scores_ to cv_results_ attribute\n",
    "optimized_GBM.grid_scores_\n",
    "# score decreased from RF to 62% from 71%:\n",
    "# mean: 0.62857, std: 0.13399, params: {'max_depth': 3, 'min_child_weight': 5}"
   ]
  },
  {
   "cell_type": "markdown",
   "metadata": {},
   "source": [
    "### Select best parameters\n",
    "\n",
    "use these parameters (resulting in mean: 0.60952):\n",
    "\n",
    "mean: 0.60952, std: 0.11613, params: {'max_depth': 3, 'min_child_weight': 3}\n",
    "\n",
    "** params: {'max_depth': 3, 'min_child_weight': 3} **\n",
    "\n",
    "Adjust subsampling along with lowering the learning rate to see if that helps"
   ]
  },
  {
   "cell_type": "code",
   "execution_count": 137,
   "metadata": {},
   "outputs": [
    {
     "data": {
      "text/plain": [
       "GridSearchCV(cv=5, error_score='raise',\n",
       "       estimator=XGBClassifier(base_score=0.5, booster='gbtree', colsample_bylevel=1,\n",
       "       colsample_bytree=0.8, gamma=0, learning_rate=0.1, max_delta_step=0,\n",
       "       max_depth=3, min_child_weight=3, missing=None, n_estimators=100,\n",
       "       n_jobs=1, nthread=None, objective='binary:logistic',\n",
       "       random_state=101, reg_alpha=0, reg_lambda=1, scale_pos_weight=1,\n",
       "       seed=101, silent=True, subsample=1),\n",
       "       fit_params=None, iid=True, n_jobs=-1,\n",
       "       param_grid={'learning_rate': [0.1, 0.01], 'subsample': [0.7, 0.8, 0.9]},\n",
       "       pre_dispatch='2*n_jobs', refit=True, return_train_score='warn',\n",
       "       scoring='accuracy', verbose=0)"
      ]
     },
     "execution_count": 137,
     "metadata": {},
     "output_type": "execute_result"
    }
   ],
   "source": [
    "cv_params = {'learning_rate': [0.1, 0.01], 'subsample': [0.7,0.8,0.9]}\n",
    "ind_params = {'n_estimators': 100, 'seed':101, 'colsample_bytree': 0.8, \n",
    "             'objective': 'binary:logistic', 'max_depth': 3, 'min_child_weight': 3, 'random_state': 101}\n",
    "\n",
    "\n",
    "optimized_GBM = GridSearchCV(xgb.XGBClassifier(**ind_params), \n",
    "                            cv_params, \n",
    "                             scoring = 'accuracy', cv = 5, n_jobs = -1)\n",
    "# Run the grid search again\n",
    "optimized_GBM.fit(X_train, y_train)"
   ]
  },
  {
   "cell_type": "code",
   "execution_count": 138,
   "metadata": {},
   "outputs": [
    {
     "name": "stderr",
     "output_type": "stream",
     "text": [
      "/Users/admin/anaconda3/lib/python3.6/site-packages/sklearn/model_selection/_search.py:761: DeprecationWarning: The grid_scores_ attribute was deprecated in version 0.18 in favor of the more elaborate cv_results_ attribute. The grid_scores_ attribute will not be available from 0.20\n",
      "  DeprecationWarning)\n"
     ]
    },
    {
     "data": {
      "text/plain": [
       "[mean: 0.59048, std: 0.02459, params: {'learning_rate': 0.1, 'subsample': 0.7},\n",
       " mean: 0.60952, std: 0.11613, params: {'learning_rate': 0.1, 'subsample': 0.8},\n",
       " mean: 0.57143, std: 0.09588, params: {'learning_rate': 0.1, 'subsample': 0.9},\n",
       " mean: 0.58095, std: 0.10429, params: {'learning_rate': 0.01, 'subsample': 0.7},\n",
       " mean: 0.54286, std: 0.04857, params: {'learning_rate': 0.01, 'subsample': 0.8},\n",
       " mean: 0.58095, std: 0.04819, params: {'learning_rate': 0.01, 'subsample': 0.9}]"
      ]
     },
     "execution_count": 138,
     "metadata": {},
     "output_type": "execute_result"
    }
   ],
   "source": [
    "# check the Grid Scores again - increased to 0.67619 by tweaking parameters\n",
    "# Increased CV folds to cv=11, {'max_depth': 5, 'min_child_weight': 1}\n",
    "# mean: 0.68571, std: 0.13895, params: {'learning_rate': 0.1, 'subsample': 0.8}\n",
    "optimized_GBM.grid_scores_"
   ]
  },
  {
   "cell_type": "markdown",
   "metadata": {},
   "source": [
    "### Final parameters:\n",
    "No increase in mean.\n",
    "\n",
    "Stayed at 60% (mean: 0.60952, std: 0.11613):\n",
    "\n",
    "**params: {'learning_rate': 0.1, 'subsample': 0.8, 'max_depth': 3, 'min_child_weight': 3}**\n",
    "\n",
    "ind_params = {'n_estimators': 100, 'seed':101, 'colsample_bytree': 0.8, \n",
    "             'objective': 'binary:logistic', 'max_depth': 5, 'min_child_weight': 1}"
   ]
  },
  {
   "cell_type": "markdown",
   "metadata": {},
   "source": [
    "## Create a DMatrix\n",
    "To increase the performance of XGBoost's speed through many iterations of the training set, and since we are using only XGBoost's API and not sklearn's anymore, we can create a DMatrix. This sorts the data initially to optimize for XGBoost when it builds trees, making the algorithm more efficient. This is especially helpful when you have a very large number of training examples. To create a DMatrix:"
   ]
  },
  {
   "cell_type": "code",
   "execution_count": 139,
   "metadata": {
    "collapsed": true
   },
   "outputs": [],
   "source": [
    "# Create our DMatrix to make XGBoost more efficient\n",
    "xgdmat = xgb.DMatrix(X_train, y_train) "
   ]
  },
  {
   "cell_type": "markdown",
   "metadata": {
    "collapsed": true
   },
   "source": [
    "## Early Stopping CV"
   ]
  },
  {
   "cell_type": "code",
   "execution_count": 140,
   "metadata": {
    "collapsed": true
   },
   "outputs": [],
   "source": [
    "our_params = {'eta': 0.1, 'seed':101, 'subsample': 0.8, 'colsample_bytree': 0.8, \n",
    "             'objective': 'binary:logistic', 'max_depth':3, 'min_child_weight':3} \n",
    "# Grid Search CV optimized settings\n",
    "\n",
    "cv_xgb = xgb.cv(params = our_params, dtrain = xgdmat, num_boost_round = 3000, nfold = 5,\n",
    "                metrics = ['error'], # Make sure you enter metrics inside a list or you may encounter issues!\n",
    "                early_stopping_rounds = 100) # Look for early stopping that minimizes error"
   ]
  },
  {
   "cell_type": "code",
   "execution_count": 141,
   "metadata": {},
   "outputs": [
    {
     "data": {
      "text/html": [
       "<div>\n",
       "<style>\n",
       "    .dataframe thead tr:only-child th {\n",
       "        text-align: right;\n",
       "    }\n",
       "\n",
       "    .dataframe thead th {\n",
       "        text-align: left;\n",
       "    }\n",
       "\n",
       "    .dataframe tbody tr th {\n",
       "        vertical-align: top;\n",
       "    }\n",
       "</style>\n",
       "<table border=\"1\" class=\"dataframe\">\n",
       "  <thead>\n",
       "    <tr style=\"text-align: right;\">\n",
       "      <th></th>\n",
       "      <th>test-error-mean</th>\n",
       "      <th>test-error-std</th>\n",
       "      <th>train-error-mean</th>\n",
       "      <th>train-error-std</th>\n",
       "    </tr>\n",
       "  </thead>\n",
       "  <tbody>\n",
       "    <tr>\n",
       "      <th>68</th>\n",
       "      <td>0.409524</td>\n",
       "      <td>0.098054</td>\n",
       "      <td>0.128572</td>\n",
       "      <td>0.024281</td>\n",
       "    </tr>\n",
       "    <tr>\n",
       "      <th>69</th>\n",
       "      <td>0.409524</td>\n",
       "      <td>0.077372</td>\n",
       "      <td>0.130952</td>\n",
       "      <td>0.027147</td>\n",
       "    </tr>\n",
       "    <tr>\n",
       "      <th>70</th>\n",
       "      <td>0.400000</td>\n",
       "      <td>0.083027</td>\n",
       "      <td>0.126191</td>\n",
       "      <td>0.023329</td>\n",
       "    </tr>\n",
       "    <tr>\n",
       "      <th>71</th>\n",
       "      <td>0.400000</td>\n",
       "      <td>0.064594</td>\n",
       "      <td>0.126191</td>\n",
       "      <td>0.025644</td>\n",
       "    </tr>\n",
       "    <tr>\n",
       "      <th>72</th>\n",
       "      <td>0.361904</td>\n",
       "      <td>0.071270</td>\n",
       "      <td>0.123810</td>\n",
       "      <td>0.026726</td>\n",
       "    </tr>\n",
       "  </tbody>\n",
       "</table>\n",
       "</div>"
      ],
      "text/plain": [
       "    test-error-mean  test-error-std  train-error-mean  train-error-std\n",
       "68         0.409524        0.098054          0.128572         0.024281\n",
       "69         0.409524        0.077372          0.130952         0.027147\n",
       "70         0.400000        0.083027          0.126191         0.023329\n",
       "71         0.400000        0.064594          0.126191         0.025644\n",
       "72         0.361904        0.071270          0.123810         0.026726"
      ]
     },
     "execution_count": 141,
     "metadata": {},
     "output_type": "execute_result"
    }
   ],
   "source": [
    "cv_xgb.tail(5)"
   ]
  },
  {
   "cell_type": "markdown",
   "metadata": {
    "collapsed": true
   },
   "source": [
    "### Results\n",
    "Test error mean of 0.361904\t, or 64% accuracy\n",
    "\n",
    "Now that we have our best settings, create this as an XGBoost object model that we can reference later."
   ]
  },
  {
   "cell_type": "code",
   "execution_count": 142,
   "metadata": {},
   "outputs": [],
   "source": [
    "our_params = {'eta': 0.1, 'seed':101, 'subsample': 0.8, 'colsample_bytree': 0.8, \n",
    "             'objective': 'binary:logistic', 'max_depth':3, 'min_child_weight':3} \n",
    "\n",
    "final_gb = xgb.train(our_params, xgdmat, num_boost_round = 8)"
   ]
  },
  {
   "cell_type": "code",
   "execution_count": 143,
   "metadata": {
    "collapsed": true
   },
   "outputs": [],
   "source": [
    "# Plot feature importances\n",
    "%matplotlib inline\n",
    "sns.set(font_scale = 1.5)"
   ]
  },
  {
   "cell_type": "code",
   "execution_count": 144,
   "metadata": {},
   "outputs": [
    {
     "data": {
      "text/plain": [
       "<matplotlib.axes._subplots.AxesSubplot at 0x115317358>"
      ]
     },
     "execution_count": 144,
     "metadata": {},
     "output_type": "execute_result"
    },
    {
     "data": {
      "image/png": "[encoded data removed]",
      "text/plain": [
       "<matplotlib.figure.Figure at 0x1153174a8>"
      ]
     },
     "metadata": {},
     "output_type": "display_data"
    }
   ],
   "source": [
    "xgb.plot_importance(final_gb)"
   ]
  },
  {
   "cell_type": "code",
   "execution_count": 145,
   "metadata": {},
   "outputs": [
    {
     "data": {
      "text/plain": [
       "{'-74 : -25': 1,\n",
       " 'Lineout_Win_Pct_Diff': 6,\n",
       " 'Passes_Diff': 4,\n",
       " 'PenFK_Against_Diff': 5,\n",
       " 'Poss_Time_Diff': 8,\n",
       " 'Ruck_Win_pct_Diff': 3}"
      ]
     },
     "execution_count": 145,
     "metadata": {},
     "output_type": "execute_result"
    }
   ],
   "source": [
    "importances = final_gb.get_fscore()\n",
    "importances"
   ]
  },
  {
   "cell_type": "code",
   "execution_count": 146,
   "metadata": {},
   "outputs": [],
   "source": [
    "testdmat = xgb.DMatrix(X_test, y_test)"
   ]
  },
  {
   "cell_type": "code",
   "execution_count": 147,
   "metadata": {},
   "outputs": [
    {
     "data": {
      "text/plain": [
       "array([ 0.55055583,  0.36222729,  0.54875743,  0.51356804,  0.65300494,\n",
       "        0.68655783,  0.51317465,  0.42307195,  0.48296693,  0.43283442,\n",
       "        0.43243164,  0.70292139,  0.67027897,  0.60458958,  0.6352703 ,\n",
       "        0.50926286,  0.43283442,  0.44277969,  0.59696484,  0.65300494,\n",
       "        0.55929011,  0.56835306,  0.34267974,  0.52789211,  0.61272705,\n",
       "        0.36222729,  0.51317465,  0.65238124,  0.60458958,  0.70292139,\n",
       "        0.52577513,  0.49668893,  0.49388483,  0.34267974,  0.65536571,\n",
       "        0.49297404,  0.41794661,  0.619672  ,  0.34267974,  0.44647565,\n",
       "        0.49668893,  0.54707444,  0.50608599,  0.51809716,  0.54523569,\n",
       "        0.49668893], dtype=float32)"
      ]
     },
     "execution_count": 147,
     "metadata": {},
     "output_type": "execute_result"
    }
   ],
   "source": [
    "from sklearn.metrics import accuracy_score\n",
    "y_pred = final_gb.predict(testdmat) # Predict using our testdmat\n",
    "y_pred"
   ]
  },
  {
   "cell_type": "code",
   "execution_count": 148,
   "metadata": {},
   "outputs": [
    {
     "data": {
      "text/plain": [
       "array([ 1.,  0.,  1.,  1.,  1.,  1.,  1.,  0.,  0.,  0.,  0.,  1.,  1.,\n",
       "        1.,  1.,  1.,  0.,  0.,  1.,  1.,  1.,  1.,  0.,  1.,  1.,  0.,\n",
       "        1.,  1.,  1.,  1.,  1.,  0.,  0.,  0.,  1.,  0.,  0.,  1.,  0.,\n",
       "        0.,  0.,  1.,  1.,  1.,  1.,  0.], dtype=float32)"
      ]
     },
     "execution_count": 148,
     "metadata": {},
     "output_type": "execute_result"
    }
   ],
   "source": [
    "y_pred[y_pred > 0.5] = 1\n",
    "y_pred[y_pred <= 0.5] = 0\n",
    "y_pred"
   ]
  },
  {
   "cell_type": "code",
   "execution_count": 149,
   "metadata": {},
   "outputs": [
    {
     "data": {
      "text/plain": [
       "(0.54347826086956519, 0.45652173913043481)"
      ]
     },
     "execution_count": 149,
     "metadata": {},
     "output_type": "execute_result"
    }
   ],
   "source": [
    "accuracy_score(y_pred, y_test), 1-accuracy_score(y_pred, y_test)"
   ]
  },
  {
   "cell_type": "markdown",
   "metadata": {},
   "source": [
    "**Accuracy is 54%**"
   ]
  },
  {
   "cell_type": "markdown",
   "metadata": {},
   "source": [
    "### Predict Values using Validation Set"
   ]
  },
  {
   "cell_type": "code",
   "execution_count": 153,
   "metadata": {
    "collapsed": true
   },
   "outputs": [],
   "source": [
    "valdmat = xgb.DMatrix(X_val, y_val)"
   ]
  },
  {
   "cell_type": "code",
   "execution_count": 154,
   "metadata": {},
   "outputs": [
    {
     "data": {
      "text/plain": [
       "array([ 0.5513401 ,  0.42541432,  0.68655783,  0.45883197,  0.54523569,\n",
       "        0.66967052,  0.34267974,  0.67027897,  0.54875743,  0.55788893], dtype=float32)"
      ]
     },
     "execution_count": 154,
     "metadata": {},
     "output_type": "execute_result"
    }
   ],
   "source": [
    "y_val_pred = final_gb.predict(valdmat) # Predict using our testdmat\n",
    "y_val_pred"
   ]
  },
  {
   "cell_type": "code",
   "execution_count": 155,
   "metadata": {},
   "outputs": [
    {
     "data": {
      "text/plain": [
       "array([ 1.,  0.,  1.,  0.,  1.,  1.,  0.,  1.,  1.,  1.], dtype=float32)"
      ]
     },
     "execution_count": 155,
     "metadata": {},
     "output_type": "execute_result"
    }
   ],
   "source": [
    "y_val_pred[y_val_pred > 0.5] = 1\n",
    "y_val_pred[y_val_pred <= 0.5] = 0\n",
    "y_val_pred"
   ]
  },
  {
   "cell_type": "code",
   "execution_count": 157,
   "metadata": {},
   "outputs": [
    {
     "data": {
      "text/plain": [
       "(0.69999999999999996, 0.30000000000000004)"
      ]
     },
     "execution_count": 157,
     "metadata": {},
     "output_type": "execute_result"
    }
   ],
   "source": [
    "accuracy_score(y_val_pred, y_val), 1-accuracy_score(y_val_pred, y_val)"
   ]
  },
  {
   "cell_type": "markdown",
   "metadata": {},
   "source": [
    "**Accuracy is 70%**"
   ]
  }
 ],
 "metadata": {
  "kernelspec": {
   "display_name": "Python 3",
   "language": "python",
   "name": "python3"
  },
  "language_info": {
   "codemirror_mode": {
    "name": "ipython",
    "version": 3
   },
   "file_extension": ".py",
   "mimetype": "text/x-python",
   "name": "python",
   "nbconvert_exporter": "python",
   "pygments_lexer": "ipython3",
   "version": "3.6.3"
  }
 },
 "nbformat": 4,
 "nbformat_minor": 2
}
