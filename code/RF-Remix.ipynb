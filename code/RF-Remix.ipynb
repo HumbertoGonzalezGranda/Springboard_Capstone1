{
 "cells": [
  {
   "cell_type": "markdown",
   "metadata": {},
   "source": [
    "## Model Fit and Predict - Random Forest Models on Diff Data\n",
    "Take the best model parameters from the Grid Search done in <code>Model_Eval_RF-Remix</code>, use to fit and predict."
   ]
  },
  {
   "cell_type": "code",
   "execution_count": 18,
   "metadata": {},
   "outputs": [],
   "source": [
    "import pandas as pd\n",
    "import numpy as np\n",
    "import matplotlib.pyplot as plt\n",
    "import seaborn as sns\n",
    "%matplotlib inline\n",
    "\n",
    "from sklearn.model_selection import train_test_split"
   ]
  },
  {
   "cell_type": "code",
   "execution_count": 19,
   "metadata": {
    "scrolled": false
   },
   "outputs": [],
   "source": [
    "#Import Data - USA's differential data\n",
    "df = pd.read_csv('../data/output/new_features_diffdata.csv')\n",
    "\n",
    "#Import validation data\n",
    "#valdf = pd.read_csv('../data/output/new_features_diffdata_validate.csv')\n",
    "#valdf.head()"
   ]
  },
  {
   "cell_type": "markdown",
   "metadata": {},
   "source": [
    "## Randomize Data"
   ]
  },
  {
   "cell_type": "code",
   "execution_count": 20,
   "metadata": {},
   "outputs": [],
   "source": [
    "#Shuffle dataframes before running model to prevent overfitting\n",
    "from sklearn.utils import shuffle\n",
    "df = shuffle(df)\n",
    "#shuffle validation set\n",
    "#valdf = shuffle(valdf)"
   ]
  },
  {
   "cell_type": "code",
   "execution_count": 21,
   "metadata": {},
   "outputs": [],
   "source": [
    "#Diagnostic\n",
    "#df.info()\n",
    "#list(df.columns)\n",
    "#df.head()"
   ]
  },
  {
   "cell_type": "markdown",
   "metadata": {},
   "source": [
    "### Pre-processing data"
   ]
  },
  {
   "cell_type": "code",
   "execution_count": 22,
   "metadata": {},
   "outputs": [],
   "source": [
    "#Create a list of features to drop that are unneccessary or will bias the prediction\n",
    "droplist = ['Opp', 'Score_Diff', 'Tries_Diff','Tournament', 'Conv_Diff','-175 : -150', '-149 : -125','-124 : -100', '-99 : -75', '-74 : -25','-24 : -1','0 : 25','26 : 50','51 : 75','76 : 100','101 : 125','126 : 150']\n",
    "\n",
    "rf_data = df.drop((droplist), axis=1)\n",
    "\n",
    "#Drop rows with Result == \"2\" (Ties). This label messes up classification models\n",
    "rf_data.drop(rf_data[rf_data.Result == 2].index, inplace=True)"
   ]
  },
  {
   "cell_type": "code",
   "execution_count": 23,
   "metadata": {},
   "outputs": [],
   "source": [
    "#Pull out the variable we're trying to predict: 'Result'\n",
    "X = rf_data.drop('Result',axis=1)\n",
    "y = rf_data['Result']\n",
    "#X_train, X_test, y_train, y_test = train_test_split( X, y, test_size=0.30)"
   ]
  },
  {
   "cell_type": "markdown",
   "metadata": {},
   "source": [
    "### Train/Test Split"
   ]
  },
  {
   "cell_type": "code",
   "execution_count": 24,
   "metadata": {},
   "outputs": [],
   "source": [
    "#Split into train/test/validate sets\n",
    "#OR, keep as is and use new data for validate\n",
    "#156 rows in original dataframe\n",
    "X_train, X_test, y_train, y_test = train_test_split(X, y, test_size=0.3, random_state=77)"
   ]
  },
  {
   "cell_type": "markdown",
   "metadata": {},
   "source": [
    "### Scale data"
   ]
  },
  {
   "cell_type": "code",
   "execution_count": 26,
   "metadata": {},
   "outputs": [
    {
     "data": {
      "text/plain": [
       "StandardScaler(copy=True, with_mean=True, with_std=True)"
      ]
     },
     "execution_count": 26,
     "metadata": {},
     "output_type": "execute_result"
    }
   ],
   "source": [
    "from sklearn.preprocessing import StandardScaler\n",
    "scaler = StandardScaler().fit(X_train)\n",
    "scaler"
   ]
  },
  {
   "cell_type": "code",
   "execution_count": 27,
   "metadata": {},
   "outputs": [
    {
     "data": {
      "text/html": [
       "<div>\n",
       "<style scoped>\n",
       "    .dataframe tbody tr th:only-of-type {\n",
       "        vertical-align: middle;\n",
       "    }\n",
       "\n",
       "    .dataframe tbody tr th {\n",
       "        vertical-align: top;\n",
       "    }\n",
       "\n",
       "    .dataframe thead th {\n",
       "        text-align: right;\n",
       "    }\n",
       "</style>\n",
       "<table border=\"1\" class=\"dataframe\">\n",
       "  <thead>\n",
       "    <tr style=\"text-align: right;\">\n",
       "      <th></th>\n",
       "      <th>Poss_Time_Diff</th>\n",
       "      <th>Passes_Diff</th>\n",
       "      <th>Contestable_KO_Win_pct_Diff</th>\n",
       "      <th>PenFK_Against_Diff</th>\n",
       "      <th>RuckMaul_Diff</th>\n",
       "      <th>Ruck_Win_pct_Diff</th>\n",
       "      <th>Cards_diff</th>\n",
       "      <th>Lineout_Win_Pct_Diff</th>\n",
       "      <th>Scrum_Win_Pct_Diff</th>\n",
       "    </tr>\n",
       "  </thead>\n",
       "  <tbody>\n",
       "    <tr>\n",
       "      <th>74</th>\n",
       "      <td>2.336449</td>\n",
       "      <td>1.960784</td>\n",
       "      <td>75.0</td>\n",
       "      <td>0.000000</td>\n",
       "      <td>0.0</td>\n",
       "      <td>0.000000</td>\n",
       "      <td>0.0</td>\n",
       "      <td>-1.00</td>\n",
       "      <td>0.5</td>\n",
       "    </tr>\n",
       "    <tr>\n",
       "      <th>88</th>\n",
       "      <td>-20.519481</td>\n",
       "      <td>0.000000</td>\n",
       "      <td>0.0</td>\n",
       "      <td>33.333333</td>\n",
       "      <td>20.0</td>\n",
       "      <td>0.000000</td>\n",
       "      <td>0.0</td>\n",
       "      <td>0.00</td>\n",
       "      <td>0.0</td>\n",
       "    </tr>\n",
       "    <tr>\n",
       "      <th>111</th>\n",
       "      <td>-18.584071</td>\n",
       "      <td>-24.675325</td>\n",
       "      <td>50.0</td>\n",
       "      <td>-20.000000</td>\n",
       "      <td>0.0</td>\n",
       "      <td>-0.083333</td>\n",
       "      <td>50.0</td>\n",
       "      <td>-1.00</td>\n",
       "      <td>-1.0</td>\n",
       "    </tr>\n",
       "    <tr>\n",
       "      <th>145</th>\n",
       "      <td>48.169014</td>\n",
       "      <td>71.428571</td>\n",
       "      <td>-50.0</td>\n",
       "      <td>0.000000</td>\n",
       "      <td>0.0</td>\n",
       "      <td>-0.083333</td>\n",
       "      <td>100.0</td>\n",
       "      <td>0.75</td>\n",
       "      <td>0.0</td>\n",
       "    </tr>\n",
       "    <tr>\n",
       "      <th>98</th>\n",
       "      <td>35.576923</td>\n",
       "      <td>56.962025</td>\n",
       "      <td>-100.0</td>\n",
       "      <td>-33.333333</td>\n",
       "      <td>-100.0</td>\n",
       "      <td>0.208333</td>\n",
       "      <td>0.0</td>\n",
       "      <td>0.00</td>\n",
       "      <td>0.0</td>\n",
       "    </tr>\n",
       "  </tbody>\n",
       "</table>\n",
       "</div>"
      ],
      "text/plain": [
       "     Poss_Time_Diff  Passes_Diff  Contestable_KO_Win_pct_Diff  \\\n",
       "74         2.336449     1.960784                         75.0   \n",
       "88       -20.519481     0.000000                          0.0   \n",
       "111      -18.584071   -24.675325                         50.0   \n",
       "145       48.169014    71.428571                        -50.0   \n",
       "98        35.576923    56.962025                       -100.0   \n",
       "\n",
       "     PenFK_Against_Diff  RuckMaul_Diff  Ruck_Win_pct_Diff  Cards_diff  \\\n",
       "74             0.000000            0.0           0.000000         0.0   \n",
       "88            33.333333           20.0           0.000000         0.0   \n",
       "111          -20.000000            0.0          -0.083333        50.0   \n",
       "145            0.000000            0.0          -0.083333       100.0   \n",
       "98           -33.333333         -100.0           0.208333         0.0   \n",
       "\n",
       "     Lineout_Win_Pct_Diff  Scrum_Win_Pct_Diff  \n",
       "74                  -1.00                 0.5  \n",
       "88                   0.00                 0.0  \n",
       "111                 -1.00                -1.0  \n",
       "145                  0.75                 0.0  \n",
       "98                   0.00                 0.0  "
      ]
     },
     "execution_count": 27,
     "metadata": {},
     "output_type": "execute_result"
    }
   ],
   "source": [
    "X_train.head()"
   ]
  },
  {
   "cell_type": "code",
   "execution_count": 43,
   "metadata": {},
   "outputs": [],
   "source": [
    "# transform X_train and X_test\n",
    "Xtrain_scaled = scaler.transform(X_train)\n",
    "Xtest_scaled = scaler.transform(X_test)"
   ]
  },
  {
   "cell_type": "code",
   "execution_count": 44,
   "metadata": {},
   "outputs": [],
   "source": [
    "#Xtrain_scaled[:1]"
   ]
  },
  {
   "cell_type": "markdown",
   "metadata": {},
   "source": [
    "## Create and fit a Random Forest Classifier Model\n",
    "Use the parameters found in Grid Search done in <code>Model_Eval_RF-Remix</code> to create and fit model"
   ]
  },
  {
   "cell_type": "code",
   "execution_count": 45,
   "metadata": {},
   "outputs": [],
   "source": [
    "from sklearn.ensemble import RandomForestClassifier\n",
    "#Set Random Forest Parameters\n",
    "rfc = RandomForestClassifier(bootstrap=True, class_weight=None, criterion='gini',\n",
    "            max_depth=None, max_features='auto', max_leaf_nodes=None,\n",
    "            min_impurity_decrease=0.0, min_impurity_split=None,\n",
    "            min_samples_leaf=1, min_samples_split=2,\n",
    "            min_weight_fraction_leaf=0.0, n_estimators='warn', n_jobs=None,\n",
    "            oob_score=False, random_state=None, verbose=0,\n",
    "            warm_start=False)"
   ]
  },
  {
   "cell_type": "code",
   "execution_count": 46,
   "metadata": {},
   "outputs": [
    {
     "name": "stderr",
     "output_type": "stream",
     "text": [
      "/Users/admin/anaconda3/lib/python3.6/site-packages/sklearn/ensemble/forest.py:248: FutureWarning: The default value of n_estimators will change from 10 in version 0.20 to 100 in 0.22.\n",
      "  \"10 in version 0.20 to 100 in 0.22.\", FutureWarning)\n"
     ]
    }
   ],
   "source": [
    "# fit the pipeline model\n",
    "rfc.fit(Xtrain_scaled, y_train)\n",
    "\n",
    "#Predict Classifier\n",
    "rfc_pred = rfc.predict(Xtest_scaled)"
   ]
  },
  {
   "cell_type": "markdown",
   "metadata": {},
   "source": [
    "## Random Forest Model Eval"
   ]
  },
  {
   "cell_type": "code",
   "execution_count": 47,
   "metadata": {},
   "outputs": [
    {
     "name": "stdout",
     "output_type": "stream",
     "text": [
      "0.6304347826086957\n"
     ]
    }
   ],
   "source": [
    "#Accuracy scores\n",
    "from sklearn.metrics import accuracy_score\n",
    "\n",
    "rfc_acc = accuracy_score(y_test, rfc_pred)\n",
    "print(rfc_acc)"
   ]
  },
  {
   "cell_type": "code",
   "execution_count": 48,
   "metadata": {},
   "outputs": [
    {
     "name": "stdout",
     "output_type": "stream",
     "text": [
      "Feature Importance\n",
      "                             importance\n",
      "Poss_Time_Diff                 0.248541\n",
      "Passes_Diff                    0.161080\n",
      "Ruck_Win_pct_Diff              0.127010\n",
      "PenFK_Against_Diff             0.121239\n",
      "Contestable_KO_Win_pct_Diff    0.102114\n",
      "RuckMaul_Diff                  0.091140\n",
      "Scrum_Win_Pct_Diff             0.077583\n",
      "Lineout_Win_Pct_Diff           0.050379\n",
      "Cards_diff                     0.020913\n"
     ]
    }
   ],
   "source": [
    "#Find Feature Importances\n",
    "feature_importances = pd.DataFrame(rfc.feature_importances_,\n",
    "                                   index = X_train.columns,\n",
    "                                    columns=['importance']).sort_values('importance', ascending=False)\n",
    "\n",
    "print(\"Feature Importance\")\n",
    "print(feature_importances)"
   ]
  },
  {
   "cell_type": "code",
   "execution_count": 65,
   "metadata": {},
   "outputs": [
    {
     "data": {
      "text/plain": [
       "Index(['importance'], dtype='object')"
      ]
     },
     "execution_count": 65,
     "metadata": {},
     "output_type": "execute_result"
    }
   ],
   "source": [
    "type(feature_importances)\n",
    "feature_importances.iloc[0]\n",
    "feature_importances.index\n",
    "feature_importances.columns"
   ]
  },
  {
   "cell_type": "code",
   "execution_count": 72,
   "metadata": {},
   "outputs": [
    {
     "name": "stdout",
     "output_type": "stream",
     "text": [
      "[0.24854062 0.16107986 0.10211383 0.12123923 0.09114045 0.12701049\n",
      " 0.02091281 0.05037934 0.07758337]\n"
     ]
    },
    {
     "data": {
      "image/png": "[encoded data removed]",
      "text/plain": [
       "<Figure size 432x288 with 1 Axes>"
      ]
     },
     "metadata": {
      "needs_background": "light"
     },
     "output_type": "display_data"
    }
   ],
   "source": [
    "# Plot feature importance\n",
    "print(rfc.feature_importances_)\n",
    "# plot\n",
    "#plt.bar(range(len(rfc.feature_importances_)), rfc.feature_importances_)\n",
    "plt.xticks(rotation='vertical')\n",
    "plt.bar(feature_importances.index, feature_importances.importance)\n",
    "plt.show()"
   ]
  },
  {
   "cell_type": "code",
   "execution_count": 53,
   "metadata": {},
   "outputs": [
    {
     "name": "stdout",
     "output_type": "stream",
     "text": [
      "Confusion Matrix\n",
      "[[14 11]\n",
      " [ 6 15]]\n",
      "\n",
      "\n",
      "Classification Report\n",
      "              precision    recall  f1-score   support\n",
      "\n",
      "           0       0.70      0.56      0.62        25\n",
      "           1       0.58      0.71      0.64        21\n",
      "\n",
      "   micro avg       0.63      0.63      0.63        46\n",
      "   macro avg       0.64      0.64      0.63        46\n",
      "weighted avg       0.64      0.63      0.63        46\n",
      "\n"
     ]
    }
   ],
   "source": [
    "from sklearn.metrics import classification_report,confusion_matrix\n",
    "\n",
    "#Output confusion matrix\n",
    "print(\"Confusion Matrix\")\n",
    "print(confusion_matrix(y_test,rfc_pred))\n",
    "\n",
    "#import libraries to ignore UndefinedMetricWarning\n",
    "import warnings\n",
    "import sklearn.exceptions\n",
    "warnings.filterwarnings(\"ignore\", category=sklearn.exceptions.UndefinedMetricWarning)\n",
    "\n",
    "#get the model's accuracy score\n",
    "accuracy_score(y_test, rfc_pred)\n",
    "print(\"\\n\")\n",
    "print(\"Classification Report\")\n",
    "print(classification_report(y_test,rfc_pred))"
   ]
  },
  {
   "cell_type": "markdown",
   "metadata": {},
   "source": [
    "### Save the model in a Pickle"
   ]
  },
  {
   "cell_type": "code",
   "execution_count": 52,
   "metadata": {},
   "outputs": [],
   "source": [
    "import pickle\n",
    "# save the model to disk\n",
    "filename = 'RF_Model.sav'\n",
    "pickle.dump(rfc, open(filename, 'wb'))\n",
    " \n",
    "# some time later...\n",
    " \n",
    "# load the model from disk\n",
    "#loaded_model = pickle.load(open(filename, 'rb'))\n",
    "#result = loaded_model.score(X_test, Y_test)\n",
    "#print(result)"
   ]
  }
 ],
 "metadata": {
  "hide_input": false,
  "kernelspec": {
   "display_name": "Python 3",
   "language": "python",
   "name": "python3"
  },
  "language_info": {
   "codemirror_mode": {
    "name": "ipython",
    "version": 3
   },
   "file_extension": ".py",
   "mimetype": "text/x-python",
   "name": "python",
   "nbconvert_exporter": "python",
   "pygments_lexer": "ipython3",
   "version": "3.6.6"
  }
 },
 "nbformat": 4,
 "nbformat_minor": 2
}
