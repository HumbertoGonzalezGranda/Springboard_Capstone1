{
 "cells": [
  {
   "cell_type": "markdown",
   "metadata": {},
   "source": [
    "## Capstone Project 1 - Inferential Statistics"
   ]
  },
  {
   "cell_type": "markdown",
   "metadata": {},
   "source": [
    "### Introduction\n",
    "\n",
    "As a large volume of exploratory data analysis (EDA) was done in the [Data Storytelling project](https://github.com/chudzikr/Data_Storytelling/blob/master/Data%20Storytelling%20Exercise.ipynb), I will be taking a slightly different approach to this assignment, and will be testing a hypothesis, rather than doing EDA.\n",
    "\n",
    "When discussing the USA 7s team (the subject of my Capstone 1 project), commentators and pundits often state that \"winning their own restarts\" is the key to the USA's success. In Rugby 7s, the team that scores restarts play with a kickoff to the other team.  However, as long as the ball travels 10 meters, the kicking team can regain their own kickoff.  With the athelticism and pinpoint kicking that the USA has in their team, they led the 2017-18 Sevens World Series in \"Contestable Restarts Regained\".\n",
    "\n",
    "Through a hypothesis test, I would like to test that commonly-held belief that the key to USA 7s wins is winning their own restarts. <span style=\"color:red\">Look at only 2017-18?</span>\n",
    "\n",
    "The data we will be using in the test is \"differential\" data for the 2017-18 World Series, developed during the data wrangling and feature engineering process for the Captstone 1 project. In a sports match, looking at the data from one team's match results only explains half of the story - there is always an opposition who explain the other half.  To account for this, I developed differential measures, which is the difference between the USA's match results in a particular measure, and their opponents result in that measure.  In this test, they measure of interest is \"Contestable_KO_Win_pct_Diff,\" which is the difference between the USA's Contestable Kickoff (Restart) Win Percentage and their opponent's.\n",
    "\n",
    "To start, we will do some basic EDA, to get a feel for the data and ensure there are no issues to be dealt with before testing the hypothesis."
   ]
  },
  {
   "cell_type": "code",
   "execution_count": 168,
   "metadata": {},
   "outputs": [],
   "source": [
    "import warnings\n",
    "warnings.simplefilter(action='ignore', category=FutureWarning)\n",
    "warnings.simplefilter(action='ignore', category=UserWarning)\n",
    "\n",
    "import numpy as np \n",
    "import pandas as pd \n",
    "import matplotlib.pyplot as plt \n",
    "import seaborn as sns\n",
    "from scipy import stats\n",
    "import statsmodels.api as sm\n",
    "\n",
    "# Show plots inline\n",
    "%matplotlib inline"
   ]
  },
  {
   "cell_type": "code",
   "execution_count": 170,
   "metadata": {},
   "outputs": [],
   "source": [
    "# import 2017-18 'diff' data\n",
    "df = pd.read_csv('../data/output/final_diffs_all.csv')"
   ]
  },
  {
   "cell_type": "code",
   "execution_count": 171,
   "metadata": {},
   "outputs": [
    {
     "data": {
      "text/html": [
       "<div>\n",
       "<style scoped>\n",
       "    .dataframe tbody tr th:only-of-type {\n",
       "        vertical-align: middle;\n",
       "    }\n",
       "\n",
       "    .dataframe tbody tr th {\n",
       "        vertical-align: top;\n",
       "    }\n",
       "\n",
       "    .dataframe thead th {\n",
       "        text-align: right;\n",
       "    }\n",
       "</style>\n",
       "<table border=\"1\" class=\"dataframe\">\n",
       "  <thead>\n",
       "    <tr style=\"text-align: right;\">\n",
       "      <th></th>\n",
       "      <th>Opp</th>\n",
       "      <th>Tournament</th>\n",
       "      <th>Poss_Time_Diff</th>\n",
       "      <th>Score_Diff</th>\n",
       "      <th>Conv_Diff</th>\n",
       "      <th>Tries_Diff</th>\n",
       "      <th>Passes_Diff</th>\n",
       "      <th>Contestable_KO_Win_pct_Diff</th>\n",
       "      <th>PenFK_Against_Diff</th>\n",
       "      <th>RuckMaul_Diff</th>\n",
       "      <th>Ruck_Win_pct_Diff</th>\n",
       "      <th>Cards_diff</th>\n",
       "      <th>Lineout_Win_Pct_Diff</th>\n",
       "      <th>Scrum_Win_Pct_Diff</th>\n",
       "    </tr>\n",
       "  </thead>\n",
       "  <tbody>\n",
       "    <tr>\n",
       "      <th>0</th>\n",
       "      <td>AUSTRALIA</td>\n",
       "      <td>2015_Cape_Town</td>\n",
       "      <td>13.966480</td>\n",
       "      <td>-10.638298</td>\n",
       "      <td>-14.285714</td>\n",
       "      <td>0.250000</td>\n",
       "      <td>25.925926</td>\n",
       "      <td>-50.000000</td>\n",
       "      <td>0.000000</td>\n",
       "      <td>0.000000</td>\n",
       "      <td>0.083333</td>\n",
       "      <td>50.0</td>\n",
       "      <td>0.333333</td>\n",
       "      <td>1.0</td>\n",
       "    </tr>\n",
       "    <tr>\n",
       "      <th>1</th>\n",
       "      <td>WALES</td>\n",
       "      <td>2015_Cape_Town</td>\n",
       "      <td>7.471264</td>\n",
       "      <td>15.555556</td>\n",
       "      <td>14.285714</td>\n",
       "      <td>0.083333</td>\n",
       "      <td>27.868852</td>\n",
       "      <td>25.000000</td>\n",
       "      <td>-20.000000</td>\n",
       "      <td>-100.000000</td>\n",
       "      <td>0.250000</td>\n",
       "      <td>0.0</td>\n",
       "      <td>-1.000000</td>\n",
       "      <td>0.0</td>\n",
       "    </tr>\n",
       "    <tr>\n",
       "      <th>2</th>\n",
       "      <td>KENYA</td>\n",
       "      <td>2015_Cape_Town</td>\n",
       "      <td>-33.136095</td>\n",
       "      <td>-44.444444</td>\n",
       "      <td>-33.333333</td>\n",
       "      <td>-0.750000</td>\n",
       "      <td>-10.638298</td>\n",
       "      <td>-16.666667</td>\n",
       "      <td>66.666667</td>\n",
       "      <td>60.000000</td>\n",
       "      <td>-0.550000</td>\n",
       "      <td>0.0</td>\n",
       "      <td>-1.000000</td>\n",
       "      <td>0.0</td>\n",
       "    </tr>\n",
       "    <tr>\n",
       "      <th>3</th>\n",
       "      <td>NEW ZEALAND</td>\n",
       "      <td>2015_Cape_Town</td>\n",
       "      <td>51.758794</td>\n",
       "      <td>33.333333</td>\n",
       "      <td>33.333333</td>\n",
       "      <td>0.000000</td>\n",
       "      <td>76.119403</td>\n",
       "      <td>-75.000000</td>\n",
       "      <td>-50.000000</td>\n",
       "      <td>-100.000000</td>\n",
       "      <td>0.250000</td>\n",
       "      <td>0.0</td>\n",
       "      <td>0.000000</td>\n",
       "      <td>-1.0</td>\n",
       "    </tr>\n",
       "    <tr>\n",
       "      <th>4</th>\n",
       "      <td>FIJI</td>\n",
       "      <td>2015_Cape_Town</td>\n",
       "      <td>12.880562</td>\n",
       "      <td>-20.833333</td>\n",
       "      <td>-25.000000</td>\n",
       "      <td>0.266667</td>\n",
       "      <td>38.461538</td>\n",
       "      <td>-66.666667</td>\n",
       "      <td>-33.333333</td>\n",
       "      <td>-33.333333</td>\n",
       "      <td>0.208333</td>\n",
       "      <td>0.0</td>\n",
       "      <td>-1.000000</td>\n",
       "      <td>0.0</td>\n",
       "    </tr>\n",
       "  </tbody>\n",
       "</table>\n",
       "</div>"
      ],
      "text/plain": [
       "           Opp      Tournament  Poss_Time_Diff  Score_Diff  Conv_Diff  \\\n",
       "0    AUSTRALIA  2015_Cape_Town       13.966480  -10.638298 -14.285714   \n",
       "1        WALES  2015_Cape_Town        7.471264   15.555556  14.285714   \n",
       "2        KENYA  2015_Cape_Town      -33.136095  -44.444444 -33.333333   \n",
       "3  NEW ZEALAND  2015_Cape_Town       51.758794   33.333333  33.333333   \n",
       "4         FIJI  2015_Cape_Town       12.880562  -20.833333 -25.000000   \n",
       "\n",
       "   Tries_Diff  Passes_Diff  Contestable_KO_Win_pct_Diff  PenFK_Against_Diff  \\\n",
       "0    0.250000    25.925926                   -50.000000            0.000000   \n",
       "1    0.083333    27.868852                    25.000000          -20.000000   \n",
       "2   -0.750000   -10.638298                   -16.666667           66.666667   \n",
       "3    0.000000    76.119403                   -75.000000          -50.000000   \n",
       "4    0.266667    38.461538                   -66.666667          -33.333333   \n",
       "\n",
       "   RuckMaul_Diff  Ruck_Win_pct_Diff  Cards_diff  Lineout_Win_Pct_Diff  \\\n",
       "0       0.000000           0.083333        50.0              0.333333   \n",
       "1    -100.000000           0.250000         0.0             -1.000000   \n",
       "2      60.000000          -0.550000         0.0             -1.000000   \n",
       "3    -100.000000           0.250000         0.0              0.000000   \n",
       "4     -33.333333           0.208333         0.0             -1.000000   \n",
       "\n",
       "   Scrum_Win_Pct_Diff  \n",
       "0                 1.0  \n",
       "1                 0.0  \n",
       "2                 0.0  \n",
       "3                -1.0  \n",
       "4                 0.0  "
      ]
     },
     "execution_count": 171,
     "metadata": {},
     "output_type": "execute_result"
    }
   ],
   "source": [
    "df.head()"
   ]
  },
  {
   "cell_type": "code",
   "execution_count": 172,
   "metadata": {},
   "outputs": [
    {
     "name": "stdout",
     "output_type": "stream",
     "text": [
      "<class 'pandas.core.frame.DataFrame'>\n",
      "RangeIndex: 168 entries, 0 to 167\n",
      "Data columns (total 14 columns):\n",
      "Opp                            168 non-null object\n",
      "Tournament                     168 non-null object\n",
      "Poss_Time_Diff                 168 non-null float64\n",
      "Score_Diff                     168 non-null float64\n",
      "Conv_Diff                      168 non-null float64\n",
      "Tries_Diff                     168 non-null float64\n",
      "Passes_Diff                    168 non-null float64\n",
      "Contestable_KO_Win_pct_Diff    168 non-null float64\n",
      "PenFK_Against_Diff             168 non-null float64\n",
      "RuckMaul_Diff                  168 non-null float64\n",
      "Ruck_Win_pct_Diff              168 non-null float64\n",
      "Cards_diff                     168 non-null float64\n",
      "Lineout_Win_Pct_Diff           168 non-null float64\n",
      "Scrum_Win_Pct_Diff             168 non-null float64\n",
      "dtypes: float64(12), object(2)\n",
      "memory usage: 18.5+ KB\n"
     ]
    }
   ],
   "source": [
    "# Get layout of data file\n",
    "df.info()"
   ]
  },
  {
   "cell_type": "code",
   "execution_count": 173,
   "metadata": {},
   "outputs": [
    {
     "data": {
      "text/html": [
       "<div>\n",
       "<style scoped>\n",
       "    .dataframe tbody tr th:only-of-type {\n",
       "        vertical-align: middle;\n",
       "    }\n",
       "\n",
       "    .dataframe tbody tr th {\n",
       "        vertical-align: top;\n",
       "    }\n",
       "\n",
       "    .dataframe thead th {\n",
       "        text-align: right;\n",
       "    }\n",
       "</style>\n",
       "<table border=\"1\" class=\"dataframe\">\n",
       "  <thead>\n",
       "    <tr style=\"text-align: right;\">\n",
       "      <th></th>\n",
       "      <th>Poss_Time_Diff</th>\n",
       "      <th>Score_Diff</th>\n",
       "      <th>Conv_Diff</th>\n",
       "      <th>Tries_Diff</th>\n",
       "      <th>Passes_Diff</th>\n",
       "      <th>Contestable_KO_Win_pct_Diff</th>\n",
       "      <th>PenFK_Against_Diff</th>\n",
       "      <th>RuckMaul_Diff</th>\n",
       "      <th>Ruck_Win_pct_Diff</th>\n",
       "      <th>Cards_diff</th>\n",
       "      <th>Lineout_Win_Pct_Diff</th>\n",
       "      <th>Scrum_Win_Pct_Diff</th>\n",
       "    </tr>\n",
       "  </thead>\n",
       "  <tbody>\n",
       "    <tr>\n",
       "      <th>count</th>\n",
       "      <td>168.000000</td>\n",
       "      <td>168.000000</td>\n",
       "      <td>168.000000</td>\n",
       "      <td>168.000000</td>\n",
       "      <td>168.000000</td>\n",
       "      <td>168.000000</td>\n",
       "      <td>168.000000</td>\n",
       "      <td>168.000000</td>\n",
       "      <td>168.000000</td>\n",
       "      <td>168.000000</td>\n",
       "      <td>168.000000</td>\n",
       "      <td>168.000000</td>\n",
       "    </tr>\n",
       "    <tr>\n",
       "      <th>mean</th>\n",
       "      <td>10.300503</td>\n",
       "      <td>10.149582</td>\n",
       "      <td>10.554611</td>\n",
       "      <td>0.002636</td>\n",
       "      <td>17.536614</td>\n",
       "      <td>-1.675170</td>\n",
       "      <td>-4.105118</td>\n",
       "      <td>-2.860922</td>\n",
       "      <td>0.061262</td>\n",
       "      <td>6.845238</td>\n",
       "      <td>0.146230</td>\n",
       "      <td>-0.069940</td>\n",
       "    </tr>\n",
       "    <tr>\n",
       "      <th>std</th>\n",
       "      <td>21.003810</td>\n",
       "      <td>45.368439</td>\n",
       "      <td>44.598731</td>\n",
       "      <td>0.475043</td>\n",
       "      <td>27.496685</td>\n",
       "      <td>46.170040</td>\n",
       "      <td>51.236345</td>\n",
       "      <td>59.978021</td>\n",
       "      <td>0.201257</td>\n",
       "      <td>27.860643</td>\n",
       "      <td>0.660731</td>\n",
       "      <td>0.625296</td>\n",
       "    </tr>\n",
       "    <tr>\n",
       "      <th>min</th>\n",
       "      <td>-43.478261</td>\n",
       "      <td>-100.000000</td>\n",
       "      <td>-100.000000</td>\n",
       "      <td>-1.000000</td>\n",
       "      <td>-58.490566</td>\n",
       "      <td>-166.666667</td>\n",
       "      <td>-100.000000</td>\n",
       "      <td>-100.000000</td>\n",
       "      <td>-0.550000</td>\n",
       "      <td>-50.000000</td>\n",
       "      <td>-1.000000</td>\n",
       "      <td>-1.000000</td>\n",
       "    </tr>\n",
       "    <tr>\n",
       "      <th>25%</th>\n",
       "      <td>-3.485695</td>\n",
       "      <td>-19.423077</td>\n",
       "      <td>-20.000000</td>\n",
       "      <td>-0.333333</td>\n",
       "      <td>1.867414</td>\n",
       "      <td>-33.333333</td>\n",
       "      <td>-33.333333</td>\n",
       "      <td>-33.333333</td>\n",
       "      <td>-0.083333</td>\n",
       "      <td>0.000000</td>\n",
       "      <td>0.000000</td>\n",
       "      <td>0.000000</td>\n",
       "    </tr>\n",
       "    <tr>\n",
       "      <th>50%</th>\n",
       "      <td>10.644855</td>\n",
       "      <td>8.391608</td>\n",
       "      <td>0.000000</td>\n",
       "      <td>0.000000</td>\n",
       "      <td>17.020251</td>\n",
       "      <td>0.000000</td>\n",
       "      <td>0.000000</td>\n",
       "      <td>0.000000</td>\n",
       "      <td>0.078571</td>\n",
       "      <td>0.000000</td>\n",
       "      <td>0.000000</td>\n",
       "      <td>0.000000</td>\n",
       "    </tr>\n",
       "    <tr>\n",
       "      <th>75%</th>\n",
       "      <td>23.599703</td>\n",
       "      <td>41.248207</td>\n",
       "      <td>42.857143</td>\n",
       "      <td>0.333333</td>\n",
       "      <td>34.727772</td>\n",
       "      <td>33.333333</td>\n",
       "      <td>33.333333</td>\n",
       "      <td>33.333333</td>\n",
       "      <td>0.182197</td>\n",
       "      <td>0.000000</td>\n",
       "      <td>0.812500</td>\n",
       "      <td>0.000000</td>\n",
       "    </tr>\n",
       "    <tr>\n",
       "      <th>max</th>\n",
       "      <td>72.272727</td>\n",
       "      <td>100.000000</td>\n",
       "      <td>100.000000</td>\n",
       "      <td>1.000000</td>\n",
       "      <td>90.909091</td>\n",
       "      <td>133.333333</td>\n",
       "      <td>100.000000</td>\n",
       "      <td>100.000000</td>\n",
       "      <td>0.875000</td>\n",
       "      <td>100.000000</td>\n",
       "      <td>1.000000</td>\n",
       "      <td>1.000000</td>\n",
       "    </tr>\n",
       "  </tbody>\n",
       "</table>\n",
       "</div>"
      ],
      "text/plain": [
       "       Poss_Time_Diff  Score_Diff   Conv_Diff  Tries_Diff  Passes_Diff  \\\n",
       "count      168.000000  168.000000  168.000000  168.000000   168.000000   \n",
       "mean        10.300503   10.149582   10.554611    0.002636    17.536614   \n",
       "std         21.003810   45.368439   44.598731    0.475043    27.496685   \n",
       "min        -43.478261 -100.000000 -100.000000   -1.000000   -58.490566   \n",
       "25%         -3.485695  -19.423077  -20.000000   -0.333333     1.867414   \n",
       "50%         10.644855    8.391608    0.000000    0.000000    17.020251   \n",
       "75%         23.599703   41.248207   42.857143    0.333333    34.727772   \n",
       "max         72.272727  100.000000  100.000000    1.000000    90.909091   \n",
       "\n",
       "       Contestable_KO_Win_pct_Diff  PenFK_Against_Diff  RuckMaul_Diff  \\\n",
       "count                   168.000000          168.000000     168.000000   \n",
       "mean                     -1.675170           -4.105118      -2.860922   \n",
       "std                      46.170040           51.236345      59.978021   \n",
       "min                    -166.666667         -100.000000    -100.000000   \n",
       "25%                     -33.333333          -33.333333     -33.333333   \n",
       "50%                       0.000000            0.000000       0.000000   \n",
       "75%                      33.333333           33.333333      33.333333   \n",
       "max                     133.333333          100.000000     100.000000   \n",
       "\n",
       "       Ruck_Win_pct_Diff  Cards_diff  Lineout_Win_Pct_Diff  Scrum_Win_Pct_Diff  \n",
       "count         168.000000  168.000000            168.000000          168.000000  \n",
       "mean            0.061262    6.845238              0.146230           -0.069940  \n",
       "std             0.201257   27.860643              0.660731            0.625296  \n",
       "min            -0.550000  -50.000000             -1.000000           -1.000000  \n",
       "25%            -0.083333    0.000000              0.000000            0.000000  \n",
       "50%             0.078571    0.000000              0.000000            0.000000  \n",
       "75%             0.182197    0.000000              0.812500            0.000000  \n",
       "max             0.875000  100.000000              1.000000            1.000000  "
      ]
     },
     "execution_count": 173,
     "metadata": {},
     "output_type": "execute_result"
    }
   ],
   "source": [
    "df.describe()"
   ]
  },
  {
   "cell_type": "markdown",
   "metadata": {},
   "source": [
    "I've written a functino that will create a column for 'result' - win = 1, loss = 0, tie = 2, based on the score difference.  Then I've created separate dataframes for wins and losses. For the purposes of this test, we will not consider ties."
   ]
  },
  {
   "cell_type": "code",
   "execution_count": 174,
   "metadata": {},
   "outputs": [],
   "source": [
    "# function create a column to hold 'result': win = 1, loss = 0\n",
    "# if 'Score_Diff' is > 0 = win, if < 0, else tie\n",
    "def createResult(x):\n",
    "    if x > 0:\n",
    "        return 1\n",
    "    elif x < 0:\n",
    "        return 0\n",
    "    elif x == 0:\n",
    "        return 2\n",
    "\n",
    "df.loc[:,'Result'] = df.loc[:,'Score_Diff'].apply(createResult)\n",
    "\n",
    "#Coerce Result to Int\n",
    "df['Result'] = df['Result'].astype(int)"
   ]
  },
  {
   "cell_type": "code",
   "execution_count": 176,
   "metadata": {},
   "outputs": [],
   "source": [
    "#Get all USA Wins\n",
    "usa_w = df[df['Result'] == 1]\n",
    "#Get all USA Losses\n",
    "usa_l = df[df['Result'] == 0]\n",
    "#Get all USA Ties\n",
    "#usa_t = df[df['Result'] == 2]\n",
    "\n",
    "# concat USA ties and losses into one DF\n",
    "#usa_LT = pd.concat([usa_l, usa_t])"
   ]
  },
  {
   "cell_type": "code",
   "execution_count": 175,
   "metadata": {},
   "outputs": [
    {
     "data": {
      "text/plain": [
       "Opp                            0\n",
       "Tournament                     0\n",
       "Poss_Time_Diff                 0\n",
       "Score_Diff                     0\n",
       "Conv_Diff                      0\n",
       "Tries_Diff                     0\n",
       "Passes_Diff                    0\n",
       "Contestable_KO_Win_pct_Diff    0\n",
       "PenFK_Against_Diff             0\n",
       "RuckMaul_Diff                  0\n",
       "Ruck_Win_pct_Diff              0\n",
       "Cards_diff                     0\n",
       "Lineout_Win_Pct_Diff           0\n",
       "Scrum_Win_Pct_Diff             0\n",
       "Result                         0\n",
       "dtype: int64"
      ]
     },
     "execution_count": 175,
     "metadata": {},
     "output_type": "execute_result"
    }
   ],
   "source": [
    "#Check for NAs\n",
    "df.isnull().sum()"
   ]
  },
  {
   "cell_type": "code",
   "execution_count": 177,
   "metadata": {},
   "outputs": [
    {
     "data": {
      "text/plain": [
       "array(['AUSTRALIA', 'WALES', 'KENYA', 'NEW ZEALAND', 'FIJI', 'PORTUGAL',\n",
       "       'FRANCE', 'SOUTH AFRICA', 'ENGLAND', 'RUSSIA', 'SCOTLAND',\n",
       "       'UGANDA', 'SAMOA', 'ARGENTINA', 'CANADA', 'JAPAN', 'CHILE',\n",
       "       'IRELAND', 'PNG', 'SPAIN', 'URUGUAY'], dtype=object)"
      ]
     },
     "execution_count": 177,
     "metadata": {},
     "output_type": "execute_result"
    }
   ],
   "source": [
    "# Convert Opp team names to uppercase for consistency\n",
    "df['Opp'] = df['Opp'].str.upper()\n",
    "df.Opp.unique()"
   ]
  },
  {
   "cell_type": "markdown",
   "metadata": {},
   "source": [
    "### Exploratory Data Analysis\n",
    "Since a large amount of EDA was done as part of the [Data Storytelling project](https://github.com/chudzikr/Data_Storytelling/blob/master/Data%20Storytelling%20Exercise.ipynb), I will \n",
    "simply focus on the relationships between the independent variable Contestable Kickoff Win Percentage ('Contestable_KO_Win_pct_Diff') and the dependent variable - the difference in points scored ('Score_Diff'), which will serve as a proxy for a win or a loss."
   ]
  },
  {
   "cell_type": "code",
   "execution_count": 79,
   "metadata": {},
   "outputs": [
    {
     "data": {
      "image/png": "[encoded data removed]",
      "text/plain": [
       "<Figure size 432x432 with 3 Axes>"
      ]
     },
     "metadata": {
      "needs_background": "light"
     },
     "output_type": "display_data"
    }
   ],
   "source": [
    "#Plot relationship between Contestable_KO_Win_pct_Diff and Points Scored Diff\n",
    "\n",
    "j = sns.jointplot(x='Score_Diff', y='Contestable_KO_Win_pct_Diff', data=df, scatter_kws = {'alpha' : 0.5}, kind = 'reg')\n",
    "j.annotate(stats.pearsonr)\n",
    "plt.show()"
   ]
  },
  {
   "cell_type": "markdown",
   "metadata": {},
   "source": [
    "After plotting the relationships between 'Contestable_KO_Win_pct_Diff' and 'Points Scored Diff' and calculating the Pearson's R value, we find that there is a  small, positive relationship between 'Contestable_KO_Win_pct_Diff' and 'Points Scored Diff' (r = 0.18).\n",
    "\n",
    "Because 'Points Scored Diff' is a proxy for a win or loss, we will use this variable and 'Contestable_KO_Win_pct_Diff' to test the hypothesis that the USA wins matches when they have a positive difference in Contestable Kickoff Win Percentage ('Contestable_KO_Win_pct_Diff')."
   ]
  },
  {
   "cell_type": "markdown",
   "metadata": {},
   "source": [
    "## Hypothesis\n",
    "\n",
    "Despite the initial analysis that there is only a very small positive correlation between the USA's Contestable Kickoff Win Percentage Difference and Points Scored Difference, I will test the commonly-held belief that the key to USA 7s winning matches is winning their own kickoffs/restarts.\n",
    "\n",
    "However, the statement above is a very general statement, and we need a specific measure to test. Specifically, I will test the hypothesis that if the USA outperforms their opponent in Contestable Kickoff Win Percentage (Contestable_KO_Win_pct_Diff > 0), they win the match.\n",
    "\n",
    "We will using α = .10  as our alpha, because, let's face it - we're not curing cancer here!\n",
    "\n",
    "**Hypothesis Test**  \n",
    "H<sub>0</sub>: There is no difference between the proportion of Contestable_KO_Win_pct_Diff in wins and losses (Contestable_KO_Win_pct_Diff_w - Contestable_KO_Win_pct_Diff_l = 0).  \n",
    "H<sub>1</sub>: There is a difference between the proportion Contestable_KO_Win_pct_Diff in wins and losses (Contestable_KO_Win_pct_Diff_w - Contestable_KO_Win_pct_Diff_l != 0)  \n",
    "α = .10  \n",
    "\n",
    "**Start with 'Contestable_KO_Win_pct_Diff' > 0 as hypothesis.**"
   ]
  },
  {
   "cell_type": "markdown",
   "metadata": {},
   "source": [
    "### Means of USA wins, losses, overall\n",
    "Get means of KOs for wins and losses\n"
   ]
  },
  {
   "cell_type": "code",
   "execution_count": 129,
   "metadata": {},
   "outputs": [],
   "source": [
    "# Create a new column called df.ko_res where the value is 1\n",
    "# if df.Contestable_KO_Win_pct_Diff is greater than 0 and 0 if not\n",
    "df['ko_res'] = np.where(df['Contestable_KO_Win_pct_Diff']>0, 1, 0)"
   ]
  },
  {
   "cell_type": "code",
   "execution_count": 132,
   "metadata": {},
   "outputs": [
    {
     "data": {
      "text/plain": [
       "168"
      ]
     },
     "execution_count": 132,
     "metadata": {},
     "output_type": "execute_result"
    }
   ],
   "source": [
    "len(df)"
   ]
  },
  {
   "cell_type": "raw",
   "metadata": {},
   "source": [
    "n = len(df)\n",
    "\n",
    "w = df[df.race=='w']\n",
    "b = df[df.race=='b']\n",
    "\n",
    "w_call = w['call']\n",
    "b_call = b['call']\n",
    "\n",
    "# count of records in each sample\n",
    "w_cnt = w['call'].count()\n",
    "b_cnt = b['call'].count()\n",
    "\n",
    "# count of successful call-backs ('1') in each sample\n",
    "w_s = sum(w.call)\n",
    "b_s = sum(b.call)\n",
    "sum_calls = (w_s + b_s)"
   ]
  },
  {
   "cell_type": "code",
   "execution_count": 164,
   "metadata": {},
   "outputs": [
    {
     "name": "stdout",
     "output_type": "stream",
     "text": [
      "Sum of Contestable_KO_Win_pct_Diff results > 0 in USA wins:  43\n",
      "Sum of Contestable_KO_Win_pct_Diff results > 0 in USA losses:  21\n",
      "Sum of all matches > 0:  64\n",
      "Count of matches - USA wins:  91\n",
      "Count of matches - USA losses:  70\n"
     ]
    }
   ],
   "source": [
    "n = len(df)\n",
    "\n",
    "#USA wins df\n",
    "#usa_w\n",
    "#USA losses df\n",
    "#usa_l\n",
    "\n",
    "w_ko = usa_w['ko_res']\n",
    "l_ko = usa_l['ko_res']\n",
    "\n",
    "# Get counts of each\n",
    "w_cnt = w_ko.count()\n",
    "l_cnt = l_ko.count()\n",
    "\n",
    "# count of successful KO% ('1') in each sample\n",
    "w_s = sum(usa_w.ko_res)\n",
    "l_s = sum(usa_l.ko_res)\n",
    "sum_pos = (w_s + l_s)\n",
    "\n",
    "\n",
    "print(\"Sum of Contestable_KO_Win_pct_Diff results > 0 in USA wins: \", w_s)\n",
    "print(\"Sum of Contestable_KO_Win_pct_Diff results > 0 in USA losses: \", l_s)\n",
    "print(\"Sum of all matches > 0: \", sum_pos)\n",
    "# print counts\n",
    "print(\"Count of matches - USA wins: \", w_cnt)\n",
    "print(\"Count of matches - USA losses: \", l_cnt)"
   ]
  },
  {
   "cell_type": "code",
   "execution_count": 139,
   "metadata": {},
   "outputs": [
    {
     "name": "stdout",
     "output_type": "stream",
     "text": [
      "0.4725274725274725 0.3\n",
      "Proportion of > 0 KO Win Diff in Win sample:  0.4725274725274725\n",
      "Proportion of > 0 KO Win Diff in Loss sample:  0.3\n"
     ]
    }
   ],
   "source": [
    "#Calculating the proportions per win/loss group \n",
    "prop_l = (sum(usa_l.ko_res))/(len(usa_l.ko_res))\n",
    "prop_w = (sum(usa_w.ko_res))/(len(usa_w.ko_res))\n",
    "print(prop_w, prop_l) # p-hats for both wins and losses\n",
    "print(\"Proportion of > 0 KO Win Diff in Win sample: \", prop_w)\n",
    "print(\"Proportion of > 0 KO Win Diff in Loss sample: \", prop_l)"
   ]
  },
  {
   "cell_type": "code",
   "execution_count": 150,
   "metadata": {},
   "outputs": [
    {
     "name": "stdout",
     "output_type": "stream",
     "text": [
      "Kickoff Win % Difference in USA Wins:  0.4725274725274725\n"
     ]
    }
   ],
   "source": [
    "# Or, instead of calculating proportions, can just use .mean()\n",
    "usa_w_mean = usa_w.ko_res.mean()\n",
    "print(\"Kickoff Win % Difference in USA Wins: \",usa_w_mean)"
   ]
  },
  {
   "cell_type": "code",
   "execution_count": 151,
   "metadata": {},
   "outputs": [
    {
     "name": "stdout",
     "output_type": "stream",
     "text": [
      "Kickoff Win % Difference in USA Losses:  0.3\n"
     ]
    }
   ],
   "source": [
    "usa_l_mean = usa_l.ko_res.mean()\n",
    "print(\"Kickoff Win % Difference in USA Losses: \",usa_l_mean)"
   ]
  },
  {
   "cell_type": "code",
   "execution_count": 152,
   "metadata": {},
   "outputs": [],
   "source": [
    "# Function to calculate ECDF\n",
    "def ecdf(data):\n",
    "    \"\"\"Compute ECDF for a one-dimensional array of measurements.\"\"\"\n",
    "    # Number of data points: n\n",
    "    n = len(data)\n",
    "\n",
    "    # x-data for the ECDF: x\n",
    "    x = np.sort(data)\n",
    "\n",
    "    # y-data for the ECDF: y\n",
    "    # np.arange(1, len(x)+1) / len(x)\n",
    "    y = np.arange(1, n+1) / n\n",
    "\n",
    "    return x, y"
   ]
  },
  {
   "cell_type": "code",
   "execution_count": 153,
   "metadata": {},
   "outputs": [
    {
     "data": {
      "image/png": "[encoded data removed]",
      "text/plain": [
       "<Figure size 432x288 with 1 Axes>"
      ]
     },
     "metadata": {},
     "output_type": "display_data"
    }
   ],
   "source": [
    "# Plot CDFs of KO Win % Diff > for wins vs. losses\n",
    "w_samples = np.random.binomial(w_cnt, prop_w, size=10000)\n",
    "l_samples = np.random.binomial(l_cnt, prop_l, size=10000)\n",
    "\n",
    "bx, by = ecdf(l_samples)\n",
    "_ = plt.plot(bx, by, marker='.', linestyle='none')\n",
    "\n",
    "wx, wy = ecdf(w_samples)\n",
    "_ = plt.plot(wx, wy, marker='.', linestyle='none')\n",
    "\n",
    "plt.margins = 0.02\n",
    "\n",
    "_ = plt.xlabel('count of callbacks')\n",
    "_ = plt.ylabel('CDF')\n",
    "_ = plt.title('KO Win % Difference > 0 in Wins vs. Losses')\n",
    "_ = plt.legend(('Losses', 'Wins'), loc='lower right', fontsize='large', markerscale=2)\n",
    "\n"
   ]
  },
  {
   "cell_type": "markdown",
   "metadata": {},
   "source": [
    "## Frequentist approach: Z-test on Diff data"
   ]
  },
  {
   "cell_type": "markdown",
   "metadata": {},
   "source": [
    "<span style=\"color:red\">Will the z-test only work on Diff data?  Looking for KO Win % Diff > 0?</span>"
   ]
  },
  {
   "cell_type": "code",
   "execution_count": 160,
   "metadata": {},
   "outputs": [
    {
     "name": "stdout",
     "output_type": "stream",
     "text": [
      "z-score is  2.2175073099556135\n",
      "P-value is  0.013\n"
     ]
    }
   ],
   "source": [
    "# Use statsmodels.stats.proportion.proportions_ztest for a test for proportions based on normal (z) test\n",
    "# https://www.statsmodels.org/dev/generated/statsmodels.stats.proportion.proportions_ztest.html#statsmodels.stats.proportion.proportions_ztest\n",
    "z, p_value = sm.stats.proportions_ztest([w_s, l_s], [w_cnt, l_cnt], alternative='larger')\n",
    "print(\"z-score is \",z)\n",
    "#print(\"P-value is \",p_value)\n",
    "print(\"P-value is \",'{0:0.3f}'.format(p_value))"
   ]
  },
  {
   "cell_type": "markdown",
   "metadata": {},
   "source": [
    "## Revisit how to interpret CIs"
   ]
  },
  {
   "cell_type": "code",
   "execution_count": 161,
   "metadata": {
    "scrolled": true
   },
   "outputs": [
    {
     "name": "stdout",
     "output_type": "stream",
     "text": [
      "(0.04573331998712188, 0.29932162506782317)\n"
     ]
    }
   ],
   "source": [
    "# Confidence interval (95%)\n",
    "# statsmodel confidence interval for z-test for proportion only seems to handle one sample\n",
    "#prop_diff = prop_w - prop_b\n",
    "#print(\"Observed difference in proportions = \", prop_diff)\n",
    "\n",
    "ci = sm.stats.zconfint(w_ko, l_ko, alpha=0.1, alternative='two-sided', ddof=1.0)\n",
    "print(ci)"
   ]
  },
  {
   "cell_type": "code",
   "execution_count": 163,
   "metadata": {},
   "outputs": [
    {
     "name": "stdout",
     "output_type": "stream",
     "text": [
      "Observed difference in proportions =  0.17252747252747253\n",
      "95% conf int: \t 0.024045875942739547 - 0.3210090691122055\n",
      "Margin of err: \t +/-0.14848159658473298\n"
     ]
    }
   ],
   "source": [
    "# Confidence interval (95%)\n",
    "# statsmodel confidence interval for z-test for proportion only seems to handle one sample\n",
    "prop_diff = prop_w - prop_l\n",
    "print(\"Observed difference in proportions = \", prop_diff)\n",
    "\n",
    "z_crit = 1.96\n",
    "p_hat1 = prop_w*(1-prop_w)/w_cnt\n",
    "p_hat2 =  prop_l*(1-prop_l)/l_cnt\n",
    "ci_high = prop_diff + z_crit*(np.sqrt(p_hat1 + p_hat2))\n",
    "ci_low = prop_diff - z_crit*(np.sqrt(p_hat1 + p_hat2))\n",
    "\n",
    "print('95% conf int: \\t {} - {}'.format(ci_low, ci_high))\n",
    "ME = (ci_high - ci_low)/2\n",
    "print('Margin of err: \\t +/-{}'.format(ME))"
   ]
  },
  {
   "cell_type": "markdown",
   "metadata": {},
   "source": [
    "### Plot CDFs"
   ]
  },
  {
   "cell_type": "code",
   "execution_count": 108,
   "metadata": {},
   "outputs": [],
   "source": [
    "# Function to calculate ECDF\n",
    "def ecdf(data):\n",
    "    \"\"\"Compute ECDF for a one-dimensional array of measurements.\"\"\"\n",
    "    # Number of data points: n\n",
    "    n = len(data)\n",
    "\n",
    "    # x-data for the ECDF: x\n",
    "    x = np.sort(data)\n",
    "\n",
    "    # y-data for the ECDF: y\n",
    "    # np.arange(1, len(x)+1) / len(x)\n",
    "    y = np.arange(1, n+1) / n\n",
    "\n",
    "    return x, y"
   ]
  },
  {
   "cell_type": "code",
   "execution_count": 74,
   "metadata": {},
   "outputs": [
    {
     "data": {
      "image/png": "[encoded data removed]",
      "text/plain": [
       "<Figure size 432x288 with 1 Axes>"
      ]
     },
     "metadata": {
      "needs_background": "light"
     },
     "output_type": "display_data"
    }
   ],
   "source": [
    "# Plot CDFs of KO Win Pct Diff for USA Wins and Losses/Ties\n",
    "w_samples = np.random.binomial(w_cnt, w_prop, size=10000)\n",
    "lt_samples = np.random.binomial(lt_cnt, l_prop, size=10000)\n",
    "\n",
    "wx, wy = ecdf(w_samples)\n",
    "_ = plt.plot(wx, wy, marker='.', linestyle='none')\n",
    "\n",
    "lx, ly = ecdf(lt_samples)\n",
    "_ = plt.plot(lx, ly, marker='.', linestyle='none')\n",
    "\n",
    "plt.margins = 0.02\n",
    "\n",
    "_ = plt.xlabel('KO%')\n",
    "_ = plt.ylabel('CDF')\n",
    "_ = plt.title('KO % Diff in Wins vs. Losses')\n",
    "_ = plt.legend(('Wins', 'Losses'), loc='lower right', fontsize='large', markerscale=2)"
   ]
  },
  {
   "cell_type": "markdown",
   "metadata": {},
   "source": [
    "## Create Bootstrap Test"
   ]
  },
  {
   "cell_type": "code",
   "execution_count": 166,
   "metadata": {},
   "outputs": [
    {
     "name": "stdout",
     "output_type": "stream",
     "text": [
      "obs diff: 0.17252747252747253\n",
      "\n",
      "p-value: 0.2283\n",
      "90% conf. int.: [-0.02857143  0.25714286]\n"
     ]
    }
   ],
   "source": [
    "# Construct arrays of data: white-sounding names, black-sounding names\n",
    "all_matches = np.array([True] * int(sum_pos) + [False] * int(n-sum_pos))\n",
    "size = 10000\n",
    "\n",
    "#create an empty array of 10,000 bootstrap replicates\n",
    "bs_reps_diff = np.empty(size)\n",
    "\n",
    "# create bootstrap replicates and replicates of difference\n",
    "for i in range(size):\n",
    "    w_bs_replicates = np.sum(np.random.choice(all_matches, size=w_cnt))\n",
    "    l_bs_replicates = np.sum(np.random.choice(all_matches, size=l_cnt))\n",
    "    \n",
    "    bs_reps_diff[i] = (w_bs_replicates - l_bs_replicates)/l_cnt\n",
    "\n",
    "bs_p_value = np.sum(bs_reps_diff >= prop_diff) / len(bs_reps_diff)\n",
    "\n",
    "# calculate 90% CI\n",
    "bs_ci = np.percentile(bs_reps_diff, [5, 95])\n",
    "bs_mean_diff = np.mean(bs_reps_diff)\n",
    "\n",
    "\n",
    "print('obs diff: {}\\n'.format(prop_diff))\n",
    "print('p-value: {}\\n90% conf. int.: {}'.format(bs_p_value, bs_ci))"
   ]
  },
  {
   "cell_type": "code",
   "execution_count": 167,
   "metadata": {},
   "outputs": [
    {
     "name": "stdout",
     "output_type": "stream",
     "text": [
      "0.45714285714285713\n"
     ]
    }
   ],
   "source": [
    "print(np.max(bs_reps_diff))"
   ]
  },
  {
   "cell_type": "markdown",
   "metadata": {},
   "source": [
    "### UPDATE\n",
    "\n",
    "The p-value for both the frequentist approach is less than .10, so we can reject the null hypothesis that there is no difference in the proportion/rate of call-backs between the ko win % Diff > 0 in Wins vs. Losses (call_back_rate_w - call_back_rate_b = 0).\n",
    "\n",
    "The null hypothesis states that (proportion of call-backs for white-sounding names - proportion of call-backs for white-sounding names = 0). Using the frequentist approach, the 95% confidence interval is 1.68% - 4.73%, which is above 0%, so the null hypothesis can be rejected."
   ]
  },
  {
   "cell_type": "code",
   "execution_count": null,
   "metadata": {},
   "outputs": [],
   "source": []
  },
  {
   "cell_type": "markdown",
   "metadata": {},
   "source": [
    "### Instructions\n",
    "\n",
    "At this point, you have obtained the data set for your Capstone project, cleaned and wrangled it into a form that's ready for analysis. It's now time to apply the inferential statistics techniques you have learned to explore the data. For example, are there variables that are particularly significant in terms of explaining the answer to your project question? Are there strong correlations between pairs of independent variables, or between an independent and a dependent variable? \n",
    "\n",
    "**Submission:** Write a short report (1-2 pages) on the inferential statistics steps you performed and your findings. Check this report into your github and submit a link to it. Eventually, this report can be incorporated into your Milestone report."
   ]
  }
 ],
 "metadata": {
  "hide_input": false,
  "kernelspec": {
   "display_name": "Python 3",
   "language": "python",
   "name": "python3"
  },
  "language_info": {
   "codemirror_mode": {
    "name": "ipython",
    "version": 3
   },
   "file_extension": ".py",
   "mimetype": "text/x-python",
   "name": "python",
   "nbconvert_exporter": "python",
   "pygments_lexer": "ipython3",
   "version": "3.6.6"
  }
 },
 "nbformat": 4,
 "nbformat_minor": 2
}
