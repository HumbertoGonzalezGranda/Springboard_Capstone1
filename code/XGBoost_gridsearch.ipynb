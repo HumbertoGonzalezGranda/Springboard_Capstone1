{
 "cells": [
  {
   "cell_type": "markdown",
   "metadata": {},
   "source": [
    "## XGBoost Model parameter tuning and evalution using Gridsearch\n",
    "USA World Series Results,\n",
    "Run on \"Diff\" data"
   ]
  },
  {
   "cell_type": "code",
   "execution_count": 1,
   "metadata": {},
   "outputs": [],
   "source": [
    "import pandas as pd\n",
    "import numpy as np\n",
    "import matplotlib.pyplot as plt\n",
    "import seaborn as sns\n",
    "%matplotlib inline"
   ]
  },
  {
   "cell_type": "code",
   "execution_count": 2,
   "metadata": {},
   "outputs": [
    {
     "data": {
      "text/html": [
       "<div>\n",
       "<style scoped>\n",
       "    .dataframe tbody tr th:only-of-type {\n",
       "        vertical-align: middle;\n",
       "    }\n",
       "\n",
       "    .dataframe tbody tr th {\n",
       "        vertical-align: top;\n",
       "    }\n",
       "\n",
       "    .dataframe thead th {\n",
       "        text-align: right;\n",
       "    }\n",
       "</style>\n",
       "<table border=\"1\" class=\"dataframe\">\n",
       "  <thead>\n",
       "    <tr style=\"text-align: right;\">\n",
       "      <th></th>\n",
       "      <th>Opp</th>\n",
       "      <th>Tournament</th>\n",
       "      <th>Poss_Time_Diff</th>\n",
       "      <th>Score_Diff</th>\n",
       "      <th>Conv_Diff</th>\n",
       "      <th>Tries_Diff</th>\n",
       "      <th>Passes_Diff</th>\n",
       "      <th>Contestable_KO_Win_pct_Diff</th>\n",
       "      <th>PenFK_Against_Diff</th>\n",
       "      <th>RuckMaul_Diff</th>\n",
       "      <th>...</th>\n",
       "      <th>-99 : -75</th>\n",
       "      <th>-74 : -25</th>\n",
       "      <th>-24 : -1</th>\n",
       "      <th>0 : 25</th>\n",
       "      <th>26 : 50</th>\n",
       "      <th>51 : 75</th>\n",
       "      <th>76 : 100</th>\n",
       "      <th>101 : 125</th>\n",
       "      <th>126 : 150</th>\n",
       "      <th>Result</th>\n",
       "    </tr>\n",
       "  </thead>\n",
       "  <tbody>\n",
       "    <tr>\n",
       "      <th>0</th>\n",
       "      <td>AUSTRALIA</td>\n",
       "      <td>2015_Cape_Town</td>\n",
       "      <td>13.966480</td>\n",
       "      <td>-10.638298</td>\n",
       "      <td>-14.285714</td>\n",
       "      <td>0.250000</td>\n",
       "      <td>25.925926</td>\n",
       "      <td>-50.000000</td>\n",
       "      <td>0.000000</td>\n",
       "      <td>0.000000</td>\n",
       "      <td>...</td>\n",
       "      <td>0.0</td>\n",
       "      <td>-12.5</td>\n",
       "      <td>0.0</td>\n",
       "      <td>0.0</td>\n",
       "      <td>0.0</td>\n",
       "      <td>0.0</td>\n",
       "      <td>0.0</td>\n",
       "      <td>0.0</td>\n",
       "      <td>0.0</td>\n",
       "      <td>0</td>\n",
       "    </tr>\n",
       "    <tr>\n",
       "      <th>1</th>\n",
       "      <td>WALES</td>\n",
       "      <td>2015_Cape_Town</td>\n",
       "      <td>7.471264</td>\n",
       "      <td>15.555556</td>\n",
       "      <td>14.285714</td>\n",
       "      <td>0.083333</td>\n",
       "      <td>27.868852</td>\n",
       "      <td>25.000000</td>\n",
       "      <td>-20.000000</td>\n",
       "      <td>-100.000000</td>\n",
       "      <td>...</td>\n",
       "      <td>0.0</td>\n",
       "      <td>0.0</td>\n",
       "      <td>0.0</td>\n",
       "      <td>12.5</td>\n",
       "      <td>0.0</td>\n",
       "      <td>0.0</td>\n",
       "      <td>0.0</td>\n",
       "      <td>0.0</td>\n",
       "      <td>0.0</td>\n",
       "      <td>1</td>\n",
       "    </tr>\n",
       "    <tr>\n",
       "      <th>2</th>\n",
       "      <td>KENYA</td>\n",
       "      <td>2015_Cape_Town</td>\n",
       "      <td>-33.136095</td>\n",
       "      <td>-44.444444</td>\n",
       "      <td>-33.333333</td>\n",
       "      <td>-0.750000</td>\n",
       "      <td>-10.638298</td>\n",
       "      <td>-16.666667</td>\n",
       "      <td>66.666667</td>\n",
       "      <td>60.000000</td>\n",
       "      <td>...</td>\n",
       "      <td>0.0</td>\n",
       "      <td>0.0</td>\n",
       "      <td>-5.0</td>\n",
       "      <td>0.0</td>\n",
       "      <td>0.0</td>\n",
       "      <td>0.0</td>\n",
       "      <td>0.0</td>\n",
       "      <td>0.0</td>\n",
       "      <td>0.0</td>\n",
       "      <td>0</td>\n",
       "    </tr>\n",
       "    <tr>\n",
       "      <th>3</th>\n",
       "      <td>NEW ZEALAND</td>\n",
       "      <td>2015_Cape_Town</td>\n",
       "      <td>51.758794</td>\n",
       "      <td>33.333333</td>\n",
       "      <td>33.333333</td>\n",
       "      <td>0.000000</td>\n",
       "      <td>76.119403</td>\n",
       "      <td>-75.000000</td>\n",
       "      <td>-50.000000</td>\n",
       "      <td>-100.000000</td>\n",
       "      <td>...</td>\n",
       "      <td>-37.5</td>\n",
       "      <td>0.0</td>\n",
       "      <td>0.0</td>\n",
       "      <td>0.0</td>\n",
       "      <td>0.0</td>\n",
       "      <td>0.0</td>\n",
       "      <td>0.0</td>\n",
       "      <td>0.0</td>\n",
       "      <td>0.0</td>\n",
       "      <td>1</td>\n",
       "    </tr>\n",
       "    <tr>\n",
       "      <th>4</th>\n",
       "      <td>FIJI</td>\n",
       "      <td>2015_Cape_Town</td>\n",
       "      <td>12.880562</td>\n",
       "      <td>-20.833333</td>\n",
       "      <td>-25.000000</td>\n",
       "      <td>0.266667</td>\n",
       "      <td>38.461538</td>\n",
       "      <td>-66.666667</td>\n",
       "      <td>-33.333333</td>\n",
       "      <td>-33.333333</td>\n",
       "      <td>...</td>\n",
       "      <td>0.0</td>\n",
       "      <td>-12.5</td>\n",
       "      <td>0.0</td>\n",
       "      <td>0.0</td>\n",
       "      <td>0.0</td>\n",
       "      <td>0.0</td>\n",
       "      <td>0.0</td>\n",
       "      <td>0.0</td>\n",
       "      <td>0.0</td>\n",
       "      <td>0</td>\n",
       "    </tr>\n",
       "  </tbody>\n",
       "</table>\n",
       "<p>5 rows × 27 columns</p>\n",
       "</div>"
      ],
      "text/plain": [
       "           Opp      Tournament  Poss_Time_Diff  Score_Diff  Conv_Diff  \\\n",
       "0    AUSTRALIA  2015_Cape_Town       13.966480  -10.638298 -14.285714   \n",
       "1        WALES  2015_Cape_Town        7.471264   15.555556  14.285714   \n",
       "2        KENYA  2015_Cape_Town      -33.136095  -44.444444 -33.333333   \n",
       "3  NEW ZEALAND  2015_Cape_Town       51.758794   33.333333  33.333333   \n",
       "4         FIJI  2015_Cape_Town       12.880562  -20.833333 -25.000000   \n",
       "\n",
       "   Tries_Diff  Passes_Diff  Contestable_KO_Win_pct_Diff  PenFK_Against_Diff  \\\n",
       "0    0.250000    25.925926                   -50.000000            0.000000   \n",
       "1    0.083333    27.868852                    25.000000          -20.000000   \n",
       "2   -0.750000   -10.638298                   -16.666667           66.666667   \n",
       "3    0.000000    76.119403                   -75.000000          -50.000000   \n",
       "4    0.266667    38.461538                   -66.666667          -33.333333   \n",
       "\n",
       "   RuckMaul_Diff   ...    -99 : -75  -74 : -25  -24 : -1  0 : 25  26 : 50  \\\n",
       "0       0.000000   ...          0.0      -12.5       0.0     0.0      0.0   \n",
       "1    -100.000000   ...          0.0        0.0       0.0    12.5      0.0   \n",
       "2      60.000000   ...          0.0        0.0      -5.0     0.0      0.0   \n",
       "3    -100.000000   ...        -37.5        0.0       0.0     0.0      0.0   \n",
       "4     -33.333333   ...          0.0      -12.5       0.0     0.0      0.0   \n",
       "\n",
       "   51 : 75  76 : 100  101 : 125  126 : 150  Result  \n",
       "0      0.0       0.0        0.0        0.0       0  \n",
       "1      0.0       0.0        0.0        0.0       1  \n",
       "2      0.0       0.0        0.0        0.0       0  \n",
       "3      0.0       0.0        0.0        0.0       1  \n",
       "4      0.0       0.0        0.0        0.0       0  \n",
       "\n",
       "[5 rows x 27 columns]"
      ]
     },
     "execution_count": 2,
     "metadata": {},
     "output_type": "execute_result"
    }
   ],
   "source": [
    "#Import Data - USA's differential data\n",
    "df = pd.read_csv('../data/output/new_features_diffdata.csv')\n",
    "#Import validation data\n",
    "valdf = pd.read_csv('../data/output/new_features_diffdata_validate.csv')\n",
    "df.head()"
   ]
  },
  {
   "cell_type": "code",
   "execution_count": 3,
   "metadata": {},
   "outputs": [
    {
     "name": "stdout",
     "output_type": "stream",
     "text": [
      "<class 'pandas.core.frame.DataFrame'>\n",
      "RangeIndex: 156 entries, 0 to 155\n",
      "Data columns (total 27 columns):\n",
      "Opp                            156 non-null object\n",
      "Tournament                     156 non-null object\n",
      "Poss_Time_Diff                 156 non-null float64\n",
      "Score_Diff                     156 non-null float64\n",
      "Conv_Diff                      156 non-null float64\n",
      "Tries_Diff                     156 non-null float64\n",
      "Passes_Diff                    156 non-null float64\n",
      "Contestable_KO_Win_pct_Diff    156 non-null float64\n",
      "PenFK_Against_Diff             156 non-null float64\n",
      "RuckMaul_Diff                  156 non-null float64\n",
      "Ruck_Win_pct_Diff              156 non-null float64\n",
      "Cards_diff                     156 non-null float64\n",
      "Lineout_Win_Pct_Diff           156 non-null float64\n",
      "Scrum_Win_Pct_Diff             156 non-null float64\n",
      "-175 : -150                    156 non-null float64\n",
      "-149 : -125                    156 non-null float64\n",
      "-124 : -100                    156 non-null float64\n",
      "-99 : -75                      156 non-null float64\n",
      "-74 : -25                      156 non-null float64\n",
      "-24 : -1                       156 non-null float64\n",
      "0 : 25                         156 non-null float64\n",
      "26 : 50                        156 non-null float64\n",
      "51 : 75                        156 non-null float64\n",
      "76 : 100                       156 non-null float64\n",
      "101 : 125                      156 non-null float64\n",
      "126 : 150                      156 non-null float64\n",
      "Result                         156 non-null int64\n",
      "dtypes: float64(24), int64(1), object(2)\n",
      "memory usage: 33.0+ KB\n"
     ]
    },
    {
     "data": {
      "text/plain": [
       "['Opp',\n",
       " 'Tournament',\n",
       " 'Poss_Time_Diff',\n",
       " 'Score_Diff',\n",
       " 'Conv_Diff',\n",
       " 'Tries_Diff',\n",
       " 'Passes_Diff',\n",
       " 'Contestable_KO_Win_pct_Diff',\n",
       " 'PenFK_Against_Diff',\n",
       " 'RuckMaul_Diff',\n",
       " 'Ruck_Win_pct_Diff',\n",
       " 'Cards_diff',\n",
       " 'Lineout_Win_Pct_Diff',\n",
       " 'Scrum_Win_Pct_Diff',\n",
       " '-175 : -150',\n",
       " '-149 : -125',\n",
       " '-124 : -100',\n",
       " '-99 : -75',\n",
       " '-74 : -25',\n",
       " '-24 : -1',\n",
       " '0 : 25',\n",
       " '26 : 50',\n",
       " '51 : 75',\n",
       " '76 : 100',\n",
       " '101 : 125',\n",
       " '126 : 150',\n",
       " 'Result']"
      ]
     },
     "execution_count": 3,
     "metadata": {},
     "output_type": "execute_result"
    }
   ],
   "source": [
    "df.info()\n",
    "list(df.columns)"
   ]
  },
  {
   "cell_type": "code",
   "execution_count": 4,
   "metadata": {},
   "outputs": [],
   "source": [
    "from sklearn.model_selection import train_test_split"
   ]
  },
  {
   "cell_type": "code",
   "execution_count": 5,
   "metadata": {},
   "outputs": [],
   "source": [
    "#Create a list of features to drop that are unneccessary or will bias the prediction\n",
    "droplist = ['Opp', 'Score_Diff', 'Tries_Diff','Tournament', 'Conv_Diff','-175 : -150', '-149 : -125','-124 : -100', '-99 : -75', '-74 : -25','-24 : -1','0 : 25','26 : 50','51 : 75','76 : 100','101 : 125','126 : 150']\n",
    "\n",
    "rf_data = df.drop((droplist), axis=1)\n",
    "#Drop rows with Result == \"T\" (Ties). This label messes up classification models\n",
    "rf_data.drop(rf_data[rf_data.Result == 2].index, inplace=True)"
   ]
  },
  {
   "cell_type": "code",
   "execution_count": 6,
   "metadata": {},
   "outputs": [
    {
     "data": {
      "text/plain": [
       "count    151.000000\n",
       "mean       0.562914\n",
       "std        0.497677\n",
       "min        0.000000\n",
       "25%        0.000000\n",
       "50%        1.000000\n",
       "75%        1.000000\n",
       "max        1.000000\n",
       "Name: Result, dtype: float64"
      ]
     },
     "execution_count": 6,
     "metadata": {},
     "output_type": "execute_result"
    }
   ],
   "source": [
    "rf_data.head()\n",
    "#Check to insure 'Result' only contains 2 values (W, L)\n",
    "rf_data['Result'].describe()\n",
    "#rf_data.describe()"
   ]
  },
  {
   "cell_type": "markdown",
   "metadata": {},
   "source": [
    "### Set up train/test split"
   ]
  },
  {
   "cell_type": "code",
   "execution_count": 7,
   "metadata": {},
   "outputs": [],
   "source": [
    "#Pull out the variable we're trying to predict: 'Result'\n",
    "X = rf_data.drop('Result',axis=1)\n",
    "y = rf_data['Result']\n",
    "#X_train, X_test, y_train, y_test = train_test_split( X, y, test_size=0.30)"
   ]
  },
  {
   "cell_type": "markdown",
   "metadata": {},
   "source": [
    "### Scale Data"
   ]
  },
  {
   "cell_type": "code",
   "execution_count": 8,
   "metadata": {},
   "outputs": [],
   "source": [
    "from sklearn.preprocessing import StandardScaler\n",
    "scaler = StandardScaler()\n",
    "X = scaler.fit_transform(X)"
   ]
  },
  {
   "cell_type": "markdown",
   "metadata": {},
   "source": [
    "### Run train/test split"
   ]
  },
  {
   "cell_type": "code",
   "execution_count": 9,
   "metadata": {},
   "outputs": [],
   "source": [
    "#Split into train/test/validate sets\n",
    "#OR, keep as is and use new data for validate\n",
    "#156 rows in original dataframe\n",
    "X_train, X_test, y_train, y_test = train_test_split(X, y, test_size=0.3, random_state=101)"
   ]
  },
  {
   "cell_type": "markdown",
   "metadata": {},
   "source": [
    "### Validation set\n",
    "Imported last two series stops (London & Paris - 12 matches total) to use as a validation set.\n",
    "\n",
    "Need to incorporate into larger data set later."
   ]
  },
  {
   "cell_type": "code",
   "execution_count": 10,
   "metadata": {},
   "outputs": [],
   "source": [
    "#Create a list of features to drop that are unneccessary or will bias the prediction\n",
    "droplist = ['Opp', 'Score_Diff', 'Tries_Diff','Tournament', 'Conv_Diff','-175 : -150', '-149 : -125','-124 : -100', '-99 : -75', '-74 : -25','-24 : -1','0 : 25','26 : 50','51 : 75','76 : 100','101 : 125','126 : 150']\n",
    "\n",
    "rf_val_data = valdf.drop((droplist), axis=1)\n",
    "\n",
    "#Drop rows with Result == \"T\" (Ties). This label messes up classification models\n",
    "rf_val_data.drop(rf_val_data[rf_val_data.Result == 2].index, inplace=True)"
   ]
  },
  {
   "cell_type": "code",
   "execution_count": 11,
   "metadata": {},
   "outputs": [],
   "source": [
    "#Pull out the variable we're trying to predict: 'Result'\n",
    "X_val = rf_val_data.drop('Result',axis=1)\n",
    "y_val = rf_val_data['Result']"
   ]
  },
  {
   "cell_type": "markdown",
   "metadata": {},
   "source": [
    "### Scale the Data"
   ]
  },
  {
   "cell_type": "code",
   "execution_count": 12,
   "metadata": {},
   "outputs": [
    {
     "name": "stderr",
     "output_type": "stream",
     "text": [
      "/Users/admin/anaconda3/lib/python3.6/site-packages/sklearn/preprocessing/data.py:617: DataConversionWarning: Data with input dtype int64, float64 were all converted to float64 by StandardScaler.\n",
      "  return self.partial_fit(X, y)\n",
      "/Users/admin/anaconda3/lib/python3.6/site-packages/sklearn/base.py:462: DataConversionWarning: Data with input dtype int64, float64 were all converted to float64 by StandardScaler.\n",
      "  return self.fit(X, **fit_params).transform(X)\n"
     ]
    }
   ],
   "source": [
    "from sklearn.preprocessing import StandardScaler\n",
    "scaler = StandardScaler()\n",
    "X_val = scaler.fit_transform(X_val)"
   ]
  },
  {
   "cell_type": "markdown",
   "metadata": {},
   "source": [
    "## Train an XGBoost Classifier Model\n",
    "Info from https://jessesw.com/XG-Boost/"
   ]
  },
  {
   "cell_type": "code",
   "execution_count": 13,
   "metadata": {},
   "outputs": [],
   "source": [
    "import xgboost as xgb\n",
    "from sklearn.model_selection import GridSearchCV"
   ]
  },
  {
   "cell_type": "markdown",
   "metadata": {},
   "source": [
    "## Set up hyperparameter tuning/Grid Search¶"
   ]
  },
  {
   "cell_type": "code",
   "execution_count": 14,
   "metadata": {},
   "outputs": [],
   "source": [
    "#Set parameters for first grid search. Start tuning on the maximum depth of the trees first, \n",
    "#along with the min_child_weight, which is very similar to min_samples_split in sklearn’s version \n",
    "#of gradient boosted trees. We set the objective to ‘binary:logistic’ since this is a binary \n",
    "#classification problem\n",
    "cv_params = {'max_depth': [3,5,7], 'min_child_weight': [1,3,5]}\n",
    "ind_params = {'learning_rate': 0.1, 'n_estimators': 100, 'seed':101, 'subsample': 0.8, 'colsample_bytree': 0.8, \n",
    "             'objective': 'binary:logistic', 'random_state':101}\n",
    "\n",
    "optimized_GBM = GridSearchCV(xgb.XGBClassifier(**ind_params), \n",
    "                            cv_params, \n",
    "                             scoring = 'accuracy', cv = 5, n_jobs = -1) \n",
    "# Optimize for accuracy"
   ]
  },
  {
   "cell_type": "code",
   "execution_count": 15,
   "metadata": {},
   "outputs": [
    {
     "data": {
      "text/plain": [
       "GridSearchCV(cv=5, error_score='raise-deprecating',\n",
       "       estimator=XGBClassifier(base_score=0.5, booster='gbtree', colsample_bylevel=1,\n",
       "       colsample_bytree=0.8, gamma=0, learning_rate=0.1, max_delta_step=0,\n",
       "       max_depth=3, min_child_weight=1, missing=None, n_estimators=100,\n",
       "       n_jobs=1, nthread=None, objective='binary:logistic',\n",
       "       random_state=101, reg_alpha=0, reg_lambda=1, scale_pos_weight=1,\n",
       "       seed=101, silent=True, subsample=0.8),\n",
       "       fit_params=None, iid='warn', n_jobs=-1,\n",
       "       param_grid={'max_depth': [3, 5, 7], 'min_child_weight': [1, 3, 5]},\n",
       "       pre_dispatch='2*n_jobs', refit=True, return_train_score='warn',\n",
       "       scoring='accuracy', verbose=0)"
      ]
     },
     "execution_count": 15,
     "metadata": {},
     "output_type": "execute_result"
    }
   ],
   "source": [
    "optimized_GBM"
   ]
  },
  {
   "cell_type": "code",
   "execution_count": 16,
   "metadata": {},
   "outputs": [
    {
     "name": "stderr",
     "output_type": "stream",
     "text": [
      "/Users/admin/anaconda3/lib/python3.6/site-packages/sklearn/model_selection/_search.py:841: DeprecationWarning: The default of the `iid` parameter will change from True to False in version 0.22 and will be removed in 0.24. This will change numeric results when test-set sizes are unequal.\n",
      "  DeprecationWarning)\n"
     ]
    },
    {
     "data": {
      "text/plain": [
       "GridSearchCV(cv=5, error_score='raise-deprecating',\n",
       "       estimator=XGBClassifier(base_score=0.5, booster='gbtree', colsample_bylevel=1,\n",
       "       colsample_bytree=0.8, gamma=0, learning_rate=0.1, max_delta_step=0,\n",
       "       max_depth=3, min_child_weight=1, missing=None, n_estimators=100,\n",
       "       n_jobs=1, nthread=None, objective='binary:logistic',\n",
       "       random_state=101, reg_alpha=0, reg_lambda=1, scale_pos_weight=1,\n",
       "       seed=101, silent=True, subsample=0.8),\n",
       "       fit_params=None, iid='warn', n_jobs=-1,\n",
       "       param_grid={'max_depth': [3, 5, 7], 'min_child_weight': [1, 3, 5]},\n",
       "       pre_dispatch='2*n_jobs', refit=True, return_train_score='warn',\n",
       "       scoring='accuracy', verbose=0)"
      ]
     },
     "execution_count": 16,
     "metadata": {},
     "output_type": "execute_result"
    }
   ],
   "source": [
    "# Run the grid search\n",
    "optimized_GBM.fit(X_train, y_train)"
   ]
  },
  {
   "cell_type": "code",
   "execution_count": 17,
   "metadata": {},
   "outputs": [
    {
     "name": "stderr",
     "output_type": "stream",
     "text": [
      "/Users/admin/anaconda3/lib/python3.6/site-packages/sklearn/utils/deprecation.py:125: FutureWarning: You are accessing a training score ('split0_train_score'), which will not be available by default any more in 0.21. If you need training scores, please set return_train_score=True\n",
      "  warnings.warn(*warn_args, **warn_kwargs)\n",
      "/Users/admin/anaconda3/lib/python3.6/site-packages/sklearn/utils/deprecation.py:125: FutureWarning: You are accessing a training score ('split1_train_score'), which will not be available by default any more in 0.21. If you need training scores, please set return_train_score=True\n",
      "  warnings.warn(*warn_args, **warn_kwargs)\n",
      "/Users/admin/anaconda3/lib/python3.6/site-packages/sklearn/utils/deprecation.py:125: FutureWarning: You are accessing a training score ('split2_train_score'), which will not be available by default any more in 0.21. If you need training scores, please set return_train_score=True\n",
      "  warnings.warn(*warn_args, **warn_kwargs)\n",
      "/Users/admin/anaconda3/lib/python3.6/site-packages/sklearn/utils/deprecation.py:125: FutureWarning: You are accessing a training score ('split3_train_score'), which will not be available by default any more in 0.21. If you need training scores, please set return_train_score=True\n",
      "  warnings.warn(*warn_args, **warn_kwargs)\n",
      "/Users/admin/anaconda3/lib/python3.6/site-packages/sklearn/utils/deprecation.py:125: FutureWarning: You are accessing a training score ('split4_train_score'), which will not be available by default any more in 0.21. If you need training scores, please set return_train_score=True\n",
      "  warnings.warn(*warn_args, **warn_kwargs)\n",
      "/Users/admin/anaconda3/lib/python3.6/site-packages/sklearn/utils/deprecation.py:125: FutureWarning: You are accessing a training score ('mean_train_score'), which will not be available by default any more in 0.21. If you need training scores, please set return_train_score=True\n",
      "  warnings.warn(*warn_args, **warn_kwargs)\n",
      "/Users/admin/anaconda3/lib/python3.6/site-packages/sklearn/utils/deprecation.py:125: FutureWarning: You are accessing a training score ('std_train_score'), which will not be available by default any more in 0.21. If you need training scores, please set return_train_score=True\n",
      "  warnings.warn(*warn_args, **warn_kwargs)\n"
     ]
    },
    {
     "data": {
      "text/plain": [
       "{'mean_fit_time': array([0.0169301 , 0.0161499 , 0.01471996, 0.01963601, 0.0180223 ,\n",
       "        0.01899333, 0.02069335, 0.01354899, 0.01116328]),\n",
       " 'std_fit_time': array([0.00071912, 0.00209905, 0.0020378 , 0.0009389 , 0.00391475,\n",
       "        0.00324873, 0.00205747, 0.00141454, 0.0011915 ]),\n",
       " 'mean_score_time': array([0.00177789, 0.00090137, 0.00093274, 0.00091143, 0.00147295,\n",
       "        0.00148501, 0.00089359, 0.00087299, 0.00078082]),\n",
       " 'std_score_time': array([4.86399729e-04, 4.58110241e-05, 1.01304433e-04, 2.67842450e-05,\n",
       "        1.01499061e-03, 6.88196484e-04, 1.06996563e-05, 2.44931137e-04,\n",
       "        6.70320100e-05]),\n",
       " 'param_max_depth': masked_array(data=[3, 3, 3, 5, 5, 5, 7, 7, 7],\n",
       "              mask=[False, False, False, False, False, False, False, False,\n",
       "                    False],\n",
       "        fill_value='?',\n",
       "             dtype=object),\n",
       " 'param_min_child_weight': masked_array(data=[1, 3, 5, 1, 3, 5, 1, 3, 5],\n",
       "              mask=[False, False, False, False, False, False, False, False,\n",
       "                    False],\n",
       "        fill_value='?',\n",
       "             dtype=object),\n",
       " 'params': [{'max_depth': 3, 'min_child_weight': 1},\n",
       "  {'max_depth': 3, 'min_child_weight': 3},\n",
       "  {'max_depth': 3, 'min_child_weight': 5},\n",
       "  {'max_depth': 5, 'min_child_weight': 1},\n",
       "  {'max_depth': 5, 'min_child_weight': 3},\n",
       "  {'max_depth': 5, 'min_child_weight': 5},\n",
       "  {'max_depth': 7, 'min_child_weight': 1},\n",
       "  {'max_depth': 7, 'min_child_weight': 3},\n",
       "  {'max_depth': 7, 'min_child_weight': 5}],\n",
       " 'split0_test_score': array([0.68181818, 0.63636364, 0.54545455, 0.63636364, 0.63636364,\n",
       "        0.54545455, 0.63636364, 0.63636364, 0.54545455]),\n",
       " 'split1_test_score': array([0.59090909, 0.54545455, 0.63636364, 0.59090909, 0.54545455,\n",
       "        0.63636364, 0.54545455, 0.54545455, 0.63636364]),\n",
       " 'split2_test_score': array([0.66666667, 0.61904762, 0.57142857, 0.61904762, 0.66666667,\n",
       "        0.57142857, 0.61904762, 0.66666667, 0.57142857]),\n",
       " 'split3_test_score': array([0.55, 0.55, 0.6 , 0.55, 0.5 , 0.6 , 0.55, 0.5 , 0.6 ]),\n",
       " 'split4_test_score': array([0.55, 0.7 , 0.55, 0.55, 0.7 , 0.55, 0.55, 0.7 , 0.55]),\n",
       " 'mean_test_score': array([0.60952381, 0.60952381, 0.58095238, 0.59047619, 0.60952381,\n",
       "        0.58095238, 0.58095238, 0.60952381, 0.58095238]),\n",
       " 'std_test_score': array([0.05630702, 0.05712482, 0.03430855, 0.03505157, 0.07421686,\n",
       "        0.03430855, 0.03952929, 0.07421686, 0.03430855]),\n",
       " 'rank_test_score': array([1, 1, 6, 5, 1, 6, 6, 1, 6], dtype=int32),\n",
       " 'split0_train_score': array([1.        , 0.90361446, 0.77108434, 1.        , 0.89156627,\n",
       "        0.77108434, 1.        , 0.89156627, 0.77108434]),\n",
       " 'split1_train_score': array([1.        , 0.89156627, 0.74698795, 1.        , 0.89156627,\n",
       "        0.74698795, 1.        , 0.89156627, 0.74698795]),\n",
       " 'split2_train_score': array([1.        , 0.89285714, 0.78571429, 1.        , 0.88095238,\n",
       "        0.78571429, 1.        , 0.88095238, 0.78571429]),\n",
       " 'split3_train_score': array([0.98823529, 0.91764706, 0.8       , 0.98823529, 0.89411765,\n",
       "        0.8       , 0.98823529, 0.89411765, 0.8       ]),\n",
       " 'split4_train_score': array([0.98823529, 0.94117647, 0.8       , 0.98823529, 0.94117647,\n",
       "        0.8       , 0.98823529, 0.94117647, 0.8       ]),\n",
       " 'mean_train_score': array([0.99529412, 0.90937228, 0.78075731, 0.99529412, 0.89987581,\n",
       "        0.78075731, 0.99529412, 0.89987581, 0.78075731]),\n",
       " 'std_train_score': array([0.00576351, 0.018455  , 0.01999535, 0.00576351, 0.02114282,\n",
       "        0.01999535, 0.00576351, 0.02114282, 0.01999535])}"
      ]
     },
     "execution_count": 17,
     "metadata": {},
     "output_type": "execute_result"
    }
   ],
   "source": [
    "# Check grid scores (see deprecation warning - change from grid_scores_ to cv_results_ attribute\n",
    "optimized_GBM.cv_results_\n",
    "# score decreased from RF to 62% from 71%:\n",
    "# mean: 0.62857, std: 0.13399, params: {'max_depth': 3, 'min_child_weight': 5}"
   ]
  },
  {
   "cell_type": "markdown",
   "metadata": {},
   "source": [
    "### Select best parameters\n",
    "\n",
    "use these parameters (resulting in mean: 0.60952):\n",
    "\n",
    "mean: 0.60952, std: 0.11613, params: {'max_depth': 3, 'min_child_weight': 1}\n",
    "\n",
    "** params: {'max_depth': 3, 'min_child_weight': 1} **\n",
    "\n",
    "Adjust subsampling along with lowering the learning rate to see if that helps"
   ]
  },
  {
   "cell_type": "code",
   "execution_count": 19,
   "metadata": {},
   "outputs": [
    {
     "name": "stdout",
     "output_type": "stream",
     "text": [
      "Best score: 0.6095238095238096\n",
      "Best parameter set: {'max_depth': 3, 'min_child_weight': 1}\n"
     ]
    }
   ],
   "source": [
    "# Best score and parameter set\n",
    "print(\"Best score: %s\" % (optimized_GBM.best_score_))\n",
    "print(\"Best parameter set: %s\" % (optimized_GBM.best_params_))"
   ]
  },
  {
   "cell_type": "code",
   "execution_count": 20,
   "metadata": {},
   "outputs": [
    {
     "name": "stderr",
     "output_type": "stream",
     "text": [
      "/Users/admin/anaconda3/lib/python3.6/site-packages/sklearn/model_selection/_search.py:841: DeprecationWarning: The default of the `iid` parameter will change from True to False in version 0.22 and will be removed in 0.24. This will change numeric results when test-set sizes are unequal.\n",
      "  DeprecationWarning)\n"
     ]
    },
    {
     "data": {
      "text/plain": [
       "GridSearchCV(cv=5, error_score='raise-deprecating',\n",
       "       estimator=XGBClassifier(base_score=0.5, booster='gbtree', colsample_bylevel=1,\n",
       "       colsample_bytree=0.8, gamma=0, learning_rate=0.1, max_delta_step=0,\n",
       "       max_depth=3, min_child_weight=1, missing=None, n_estimators=100,\n",
       "       n_jobs=1, nthread=None, objective='binary:logistic',\n",
       "       random_state=101, reg_alpha=0, reg_lambda=1, scale_pos_weight=1,\n",
       "       seed=101, silent=True, subsample=1),\n",
       "       fit_params=None, iid='warn', n_jobs=-1,\n",
       "       param_grid={'learning_rate': [0.1, 0.01], 'subsample': [0.7, 0.8, 0.9], 'n_estimators': [100, 500, 1000]},\n",
       "       pre_dispatch='2*n_jobs', refit=True, return_train_score='warn',\n",
       "       scoring='accuracy', verbose=0)"
      ]
     },
     "execution_count": 20,
     "metadata": {},
     "output_type": "execute_result"
    }
   ],
   "source": [
    "cv_params = {'learning_rate': [0.1, 0.01], 'subsample': [0.7,0.8,0.9], 'n_estimators': [100, 500, 1000]}\n",
    "ind_params = {'seed':101, 'colsample_bytree': 0.8, 'objective': 'binary:logistic', 'max_depth': 3, 'min_child_weight': 1, 'random_state': 101}\n",
    "\n",
    "\n",
    "optimized_GBM = GridSearchCV(xgb.XGBClassifier(**ind_params), \n",
    "                            cv_params, \n",
    "                             scoring = 'accuracy', cv = 5, n_jobs = -1)\n",
    "# Run the grid search again\n",
    "optimized_GBM.fit(X_train, y_train)"
   ]
  },
  {
   "cell_type": "code",
   "execution_count": 21,
   "metadata": {},
   "outputs": [
    {
     "name": "stdout",
     "output_type": "stream",
     "text": [
      "Best score: 0.6190476190476191\n",
      "Best parameter set: {'learning_rate': 0.1, 'n_estimators': 100, 'subsample': 0.9}\n"
     ]
    }
   ],
   "source": [
    "# check the Grid Scores again - increased to 0.67619 by tweaking parameters\n",
    "# Increased CV folds to cv=11, {'max_depth': 5, 'min_child_weight': 1}\n",
    "# mean: 0.68571, std: 0.13895, params: {'learning_rate': 0.1, 'subsample': 0.8}\n",
    "# Best score and parameter set\n",
    "print(\"Best score: %s\" % (optimized_GBM.best_score_))\n",
    "print(\"Best parameter set: %s\" % (optimized_GBM.best_params_))\n",
    "#optimized_GBM.cv_results_\n"
   ]
  },
  {
   "cell_type": "code",
   "execution_count": 22,
   "metadata": {},
   "outputs": [
    {
     "data": {
      "text/plain": [
       "GridSearchCV(cv=5, error_score='raise-deprecating',\n",
       "       estimator=XGBClassifier(base_score=0.5, booster='gbtree', colsample_bylevel=1,\n",
       "       colsample_bytree=0.8, gamma=0, learning_rate=0.1, max_delta_step=0,\n",
       "       max_depth=3, min_child_weight=1, missing=None, n_estimators=100,\n",
       "       n_jobs=1, nthread=None, objective='binary:logistic',\n",
       "       random_state=101, reg_alpha=0, reg_lambda=1, scale_pos_weight=1,\n",
       "       seed=101, silent=True, subsample=1),\n",
       "       fit_params=None, iid='warn', n_jobs=-1,\n",
       "       param_grid={'learning_rate': [0.1, 0.01], 'subsample': [0.7, 0.8, 0.9], 'n_estimators': [100, 500, 1000]},\n",
       "       pre_dispatch='2*n_jobs', refit=True, return_train_score='warn',\n",
       "       scoring='accuracy', verbose=0)"
      ]
     },
     "execution_count": 22,
     "metadata": {},
     "output_type": "execute_result"
    }
   ],
   "source": [
    "optimized_GBM"
   ]
  },
  {
   "cell_type": "markdown",
   "metadata": {},
   "source": [
    "### Final parameters:\n",
    "No increase in mean.\n",
    "\n",
    "Improved to 62% (mean: mean: 0.62857, std: 0.09520):\n",
    "\n",
    "**params: {'learning_rate': 0.1, 'n_estimators': 100, 'subsample': 0.9}**\n",
    "\n",
    "<code>\n",
    "GridSearchCV(cv=5, error_score='raise-deprecating',\n",
    "       estimator=XGBClassifier(base_score=0.5, booster='gbtree', colsample_bylevel=1,\n",
    "       colsample_bytree=0.8, gamma=0, learning_rate=0.1, max_delta_step=0,\n",
    "       max_depth=3, min_child_weight=1, missing=None, n_estimators=100,\n",
    "       n_jobs=1, nthread=None, objective='binary:logistic',\n",
    "       random_state=101, reg_alpha=0, reg_lambda=1, scale_pos_weight=1,\n",
    "       seed=101, silent=True, subsample=1),\n",
    "       fit_params=None, iid='warn', n_jobs=-1,\n",
    "       params={'learning_rate': 0.1, 'n_estimators': 100, 'subsample': 0.9},\n",
    "       pre_dispatch='2*n_jobs', refit=True, return_train_score='warn',\n",
    "       scoring='accuracy', verbose=0)\n",
    "</code>\n",
    "ind_params = {'seed':101, 'colsample_bytree': 0.8, 'objective': 'binary:logistic', 'max_depth': 3, 'min_child_weight': 3, 'random_state': 101}"
   ]
  },
  {
   "cell_type": "markdown",
   "metadata": {},
   "source": [
    "## Create a DMatrix\n",
    "To increase the performance of XGBoost's speed through many iterations of the training set, and since we are using only XGBoost's API and not sklearn's anymore, we can create a DMatrix. This sorts the data initially to optimize for XGBoost when it builds trees, making the algorithm more efficient. This is especially helpful when you have a very large number of training examples. To create a DMatrix:"
   ]
  },
  {
   "cell_type": "code",
   "execution_count": 23,
   "metadata": {},
   "outputs": [],
   "source": [
    "# Create our DMatrix to make XGBoost more efficient\n",
    "xgdmat = xgb.DMatrix(X_train, y_train) "
   ]
  },
  {
   "cell_type": "markdown",
   "metadata": {
    "collapsed": true
   },
   "source": [
    "## Early Stopping CV"
   ]
  },
  {
   "cell_type": "code",
   "execution_count": 24,
   "metadata": {},
   "outputs": [],
   "source": [
    "our_params = {'n_estimators': 100, 'learning_rate': 0.01, 'subsample': 0.9, 'max_depth': 3, 'min_child_weight': 1, 'colsample_bytree': 0.8, \n",
    "             'objective': 'binary:logistic'} \n",
    "# Grid Search CV optimized settings\n",
    "\n",
    "cv_xgb = xgb.cv(params = our_params, dtrain = xgdmat, num_boost_round = 3000, nfold = 5,\n",
    "                metrics = ['error'], # Make sure you enter metrics inside a list or you may encounter issues!\n",
    "                early_stopping_rounds = 100) # Look for early stopping that minimizes error"
   ]
  },
  {
   "cell_type": "code",
   "execution_count": 25,
   "metadata": {},
   "outputs": [
    {
     "data": {
      "text/html": [
       "<div>\n",
       "<style scoped>\n",
       "    .dataframe tbody tr th:only-of-type {\n",
       "        vertical-align: middle;\n",
       "    }\n",
       "\n",
       "    .dataframe tbody tr th {\n",
       "        vertical-align: top;\n",
       "    }\n",
       "\n",
       "    .dataframe thead th {\n",
       "        text-align: right;\n",
       "    }\n",
       "</style>\n",
       "<table border=\"1\" class=\"dataframe\">\n",
       "  <thead>\n",
       "    <tr style=\"text-align: right;\">\n",
       "      <th></th>\n",
       "      <th>train-error-mean</th>\n",
       "      <th>train-error-std</th>\n",
       "      <th>test-error-mean</th>\n",
       "      <th>test-error-std</th>\n",
       "    </tr>\n",
       "  </thead>\n",
       "  <tbody>\n",
       "    <tr>\n",
       "      <th>25</th>\n",
       "      <td>0.152381</td>\n",
       "      <td>0.023084</td>\n",
       "      <td>0.352381</td>\n",
       "      <td>0.038095</td>\n",
       "    </tr>\n",
       "    <tr>\n",
       "      <th>26</th>\n",
       "      <td>0.159524</td>\n",
       "      <td>0.017817</td>\n",
       "      <td>0.361904</td>\n",
       "      <td>0.038095</td>\n",
       "    </tr>\n",
       "    <tr>\n",
       "      <th>27</th>\n",
       "      <td>0.157143</td>\n",
       "      <td>0.020482</td>\n",
       "      <td>0.352381</td>\n",
       "      <td>0.038095</td>\n",
       "    </tr>\n",
       "    <tr>\n",
       "      <th>28</th>\n",
       "      <td>0.150000</td>\n",
       "      <td>0.024514</td>\n",
       "      <td>0.342857</td>\n",
       "      <td>0.035635</td>\n",
       "    </tr>\n",
       "    <tr>\n",
       "      <th>29</th>\n",
       "      <td>0.152381</td>\n",
       "      <td>0.020482</td>\n",
       "      <td>0.342857</td>\n",
       "      <td>0.035635</td>\n",
       "    </tr>\n",
       "  </tbody>\n",
       "</table>\n",
       "</div>"
      ],
      "text/plain": [
       "    train-error-mean  train-error-std  test-error-mean  test-error-std\n",
       "25          0.152381         0.023084         0.352381        0.038095\n",
       "26          0.159524         0.017817         0.361904        0.038095\n",
       "27          0.157143         0.020482         0.352381        0.038095\n",
       "28          0.150000         0.024514         0.342857        0.035635\n",
       "29          0.152381         0.020482         0.342857        0.035635"
      ]
     },
     "execution_count": 25,
     "metadata": {},
     "output_type": "execute_result"
    }
   ],
   "source": [
    "cv_xgb.tail(5)"
   ]
  },
  {
   "cell_type": "markdown",
   "metadata": {
    "collapsed": true
   },
   "source": [
    "### Results\n",
    "Test error mean of 0.361904, or 64% accuracy\n",
    "\n",
    "Now that we have our best settings, create this as an XGBoost object model that we can reference later."
   ]
  },
  {
   "cell_type": "code",
   "execution_count": 26,
   "metadata": {},
   "outputs": [],
   "source": [
    "#our_params = {'eta': 0.1, 'seed':101, 'subsample': 0.8, 'colsample_bytree': 0.8, 'objective': 'binary:logistic', 'max_depth':3, 'min_child_weight':3} \n",
    "\n",
    "final_gb = xgb.train(our_params, xgdmat, num_boost_round = 8)"
   ]
  },
  {
   "cell_type": "code",
   "execution_count": 27,
   "metadata": {},
   "outputs": [],
   "source": [
    "# Plot feature importances\n",
    "%matplotlib inline\n",
    "#sns.set(font_scale = 1.5)"
   ]
  },
  {
   "cell_type": "code",
   "execution_count": 65,
   "metadata": {
    "scrolled": true
   },
   "outputs": [
    {
     "data": {
      "text/plain": [
       "<matplotlib.axes._subplots.AxesSubplot at 0x1a1f20d710>"
      ]
     },
     "execution_count": 65,
     "metadata": {},
     "output_type": "execute_result"
    },
    {
     "data": {
      "image/png": "[encoded data removed]",
      "text/plain": [
       "<Figure size 432x288 with 1 Axes>"
      ]
     },
     "metadata": {
      "needs_background": "light"
     },
     "output_type": "display_data"
    }
   ],
   "source": [
    "xgb.plot_importance(final_gb, importance_type='weight')"
   ]
  },
  {
   "cell_type": "code",
   "execution_count": null,
   "metadata": {},
   "outputs": [],
   "source": [
    "#print(xgb.feature_importances_)"
   ]
  },
  {
   "cell_type": "code",
   "execution_count": 28,
   "metadata": {},
   "outputs": [
    {
     "data": {
      "text/plain": [
       "{'f5': 6, 'f6': 2, 'f3': 8, 'f0': 5, 'f7': 7, 'f2': 5, 'f1': 4}"
      ]
     },
     "execution_count": 28,
     "metadata": {},
     "output_type": "execute_result"
    }
   ],
   "source": [
    "importances = final_gb.get_fscore()\n",
    "importances"
   ]
  },
  {
   "cell_type": "code",
   "execution_count": 29,
   "metadata": {},
   "outputs": [],
   "source": [
    "testdmat = xgb.DMatrix(X_test, y_test)"
   ]
  },
  {
   "cell_type": "code",
   "execution_count": 30,
   "metadata": {},
   "outputs": [],
   "source": [
    "from sklearn.metrics import accuracy_score\n",
    "y_pred = final_gb.predict(testdmat) # Predict using our testdmat\n",
    "#y_pred"
   ]
  },
  {
   "cell_type": "code",
   "execution_count": 31,
   "metadata": {},
   "outputs": [],
   "source": [
    "y_pred[y_pred > 0.5] = 1\n",
    "y_pred[y_pred <= 0.5] = 0\n",
    "#y_pred"
   ]
  },
  {
   "cell_type": "code",
   "execution_count": 32,
   "metadata": {},
   "outputs": [
    {
     "data": {
      "text/plain": [
       "(0.5, 0.5)"
      ]
     },
     "execution_count": 32,
     "metadata": {},
     "output_type": "execute_result"
    }
   ],
   "source": [
    "accuracy_score(y_pred, y_test), 1-accuracy_score(y_pred, y_test)"
   ]
  },
  {
   "cell_type": "markdown",
   "metadata": {},
   "source": [
    "**Accuracy is 54%**"
   ]
  },
  {
   "cell_type": "code",
   "execution_count": 33,
   "metadata": {},
   "outputs": [
    {
     "name": "stdout",
     "output_type": "stream",
     "text": [
      "Confusion Matrix\n",
      "[[ 8 15]\n",
      " [ 8 15]]\n",
      "\n",
      "\n",
      "Classification Report\n",
      "              precision    recall  f1-score   support\n",
      "\n",
      "           0       0.50      0.35      0.41        23\n",
      "           1       0.50      0.65      0.57        23\n",
      "\n",
      "   micro avg       0.50      0.50      0.50        46\n",
      "   macro avg       0.50      0.50      0.49        46\n",
      "weighted avg       0.50      0.50      0.49        46\n",
      "\n",
      "\n",
      "\n",
      "Accuracy Score\n",
      "0.5\n"
     ]
    }
   ],
   "source": [
    "from sklearn.metrics import classification_report,confusion_matrix,accuracy_score\n",
    "\n",
    "#Output confusion matrix\n",
    "print(\"Confusion Matrix\")\n",
    "print(confusion_matrix(y_test,y_pred))\n",
    "\n",
    "#import libraries to ignore UndefinedMetricWarning\n",
    "import warnings\n",
    "import sklearn.exceptions\n",
    "warnings.filterwarnings(\"ignore\", category=sklearn.exceptions.UndefinedMetricWarning)\n",
    "\n",
    "#get the model's accuracy score\n",
    "accuracy_score(y_test, y_pred)\n",
    "print(\"\\n\")\n",
    "print(\"Classification Report\")\n",
    "print(classification_report(y_test, y_pred))\n",
    "\n",
    "#print accuracy score\n",
    "print(\"\\n\")\n",
    "print(\"Accuracy Score\")\n",
    "print(accuracy_score(y_pred, y_test))"
   ]
  },
  {
   "cell_type": "markdown",
   "metadata": {},
   "source": [
    "### Predict Values using Validation Set"
   ]
  },
  {
   "cell_type": "code",
   "execution_count": 34,
   "metadata": {},
   "outputs": [],
   "source": [
    "valdmat = xgb.DMatrix(X_val, y_val)"
   ]
  },
  {
   "cell_type": "code",
   "execution_count": 35,
   "metadata": {},
   "outputs": [],
   "source": [
    "y_val_pred = final_gb.predict(valdmat) # Predict using our testdmat\n",
    "#y_val_pred"
   ]
  },
  {
   "cell_type": "code",
   "execution_count": 36,
   "metadata": {},
   "outputs": [
    {
     "data": {
      "text/plain": [
       "array([1., 0., 1., 1., 1., 1., 0., 1., 1., 1.], dtype=float32)"
      ]
     },
     "execution_count": 36,
     "metadata": {},
     "output_type": "execute_result"
    }
   ],
   "source": [
    "y_val_pred[y_val_pred > 0.5] = 1\n",
    "y_val_pred[y_val_pred <= 0.5] = 0\n",
    "y_val_pred"
   ]
  },
  {
   "cell_type": "code",
   "execution_count": 37,
   "metadata": {},
   "outputs": [
    {
     "data": {
      "text/plain": [
       "(0.6, 0.4)"
      ]
     },
     "execution_count": 37,
     "metadata": {},
     "output_type": "execute_result"
    }
   ],
   "source": [
    "accuracy_score(y_val_pred, y_val), 1-accuracy_score(y_val_pred, y_val)"
   ]
  },
  {
   "cell_type": "markdown",
   "metadata": {},
   "source": [
    "**Accuracy on validation data is 60%**"
   ]
  },
  {
   "cell_type": "code",
   "execution_count": 38,
   "metadata": {},
   "outputs": [
    {
     "name": "stdout",
     "output_type": "stream",
     "text": [
      "Confusion Matrix\n",
      "[[1 3]\n",
      " [1 5]]\n",
      "\n",
      "\n",
      "Classification Report\n",
      "              precision    recall  f1-score   support\n",
      "\n",
      "           0       0.50      0.25      0.33         4\n",
      "           1       0.62      0.83      0.71         6\n",
      "\n",
      "   micro avg       0.60      0.60      0.60        10\n",
      "   macro avg       0.56      0.54      0.52        10\n",
      "weighted avg       0.57      0.60      0.56        10\n",
      "\n",
      "\n",
      "\n",
      "Accuracy Score\n",
      "0.6\n"
     ]
    }
   ],
   "source": [
    "#Output confusion matrix\n",
    "print(\"Confusion Matrix\")\n",
    "print(confusion_matrix(y_val,y_val_pred))\n",
    "\n",
    "#import libraries to ignore UndefinedMetricWarning\n",
    "import warnings\n",
    "import sklearn.exceptions\n",
    "warnings.filterwarnings(\"ignore\", category=sklearn.exceptions.UndefinedMetricWarning)\n",
    "\n",
    "#get the model's accuracy score\n",
    "accuracy_score(y_val, y_val_pred)\n",
    "print(\"\\n\")\n",
    "print(\"Classification Report\")\n",
    "print(classification_report(y_val, y_val_pred))\n",
    "\n",
    "#print accuracy score\n",
    "print(\"\\n\")\n",
    "print(\"Accuracy Score\")\n",
    "print(accuracy_score(y_val_pred, y_val))"
   ]
  },
  {
   "cell_type": "code",
   "execution_count": 41,
   "metadata": {},
   "outputs": [
    {
     "data": {
      "text/plain": [
       "0.7142857142857143"
      ]
     },
     "execution_count": 41,
     "metadata": {},
     "output_type": "execute_result"
    }
   ],
   "source": [
    "from sklearn.metrics import f1_score\n",
    "f1_score(y_val_pred, y_val, average='binary')"
   ]
  },
  {
   "cell_type": "code",
   "execution_count": null,
   "metadata": {},
   "outputs": [],
   "source": []
  }
 ],
 "metadata": {
  "hide_input": false,
  "kernelspec": {
   "display_name": "Python 3",
   "language": "python",
   "name": "python3"
  },
  "language_info": {
   "codemirror_mode": {
    "name": "ipython",
    "version": 3
   },
   "file_extension": ".py",
   "mimetype": "text/x-python",
   "name": "python",
   "nbconvert_exporter": "python",
   "pygments_lexer": "ipython3",
   "version": "3.6.7"
  }
 },
 "nbformat": 4,
 "nbformat_minor": 2
}
