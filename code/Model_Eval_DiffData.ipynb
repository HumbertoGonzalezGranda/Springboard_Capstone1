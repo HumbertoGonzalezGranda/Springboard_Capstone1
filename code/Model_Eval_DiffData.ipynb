{
 "cells": [
  {
   "cell_type": "markdown",
   "metadata": {},
   "source": [
    "## Decision Tree, Random Forest, XGBoost Models on Diff Data\n",
    "USA World Series Results,\n",
    "Run on \"Diff\" data"
   ]
  },
  {
   "cell_type": "code",
   "execution_count": null,
   "metadata": {
    "collapsed": true
   },
   "outputs": [],
   "source": [
    "import pandas as pd\n",
    "import numpy as np\n",
    "import matplotlib.pyplot as plt\n",
    "import seaborn as sns\n",
    "%matplotlib inline"
   ]
  },
  {
   "cell_type": "code",
   "execution_count": null,
   "metadata": {},
   "outputs": [],
   "source": [
    "#Import Data - only want USA matches\n",
    "df = pd.read_csv('../data/output/final_diffs_all.csv')\n",
    "df.head()"
   ]
  },
  {
   "cell_type": "code",
   "execution_count": 6,
   "metadata": {
    "collapsed": true
   },
   "outputs": [],
   "source": [
    "# Replace NaN's with zero\n",
    "df.fillna(value=0, inplace=True)"
   ]
  },
  {
   "cell_type": "code",
   "execution_count": 7,
   "metadata": {
    "collapsed": true
   },
   "outputs": [],
   "source": [
    "# create result label: change from 1,0,2 to win, loss, tie\n",
    "# if 'Score_Diff' is > 0 = win, if < 0, else tie\n",
    "def createResult(x):\n",
    "    if x > 0:\n",
    "        return \"W\"\n",
    "    elif x < 0:\n",
    "        return \"L\"\n",
    "    elif x == 0:\n",
    "        return \"T\"\n",
    "\n",
    "df.loc[:,'Result'] = df.loc[:,'Score_Diff'].apply(createResult)"
   ]
  },
  {
   "cell_type": "code",
   "execution_count": 8,
   "metadata": {
    "scrolled": false
   },
   "outputs": [
    {
     "data": {
      "text/html": [
       "<div>\n",
       "<style>\n",
       "    .dataframe thead tr:only-child th {\n",
       "        text-align: right;\n",
       "    }\n",
       "\n",
       "    .dataframe thead th {\n",
       "        text-align: left;\n",
       "    }\n",
       "\n",
       "    .dataframe tbody tr th {\n",
       "        vertical-align: top;\n",
       "    }\n",
       "</style>\n",
       "<table border=\"1\" class=\"dataframe\">\n",
       "  <thead>\n",
       "    <tr style=\"text-align: right;\">\n",
       "      <th></th>\n",
       "      <th>Opp</th>\n",
       "      <th>Tournament</th>\n",
       "      <th>Poss_Time_Diff</th>\n",
       "      <th>Score_Diff</th>\n",
       "      <th>Conv_Diff</th>\n",
       "      <th>Tries_Diff</th>\n",
       "      <th>Passes_Diff</th>\n",
       "      <th>Contestable_KO_Win_pct_Diff</th>\n",
       "      <th>PenFK_Against_Diff</th>\n",
       "      <th>RuckMaul_Diff</th>\n",
       "      <th>Ruck_Win_pct_Diff</th>\n",
       "      <th>Cards_diff</th>\n",
       "      <th>Lineout_Win_Pct_Diff</th>\n",
       "      <th>Scrum_Win_Pct_Diff</th>\n",
       "      <th>Result</th>\n",
       "    </tr>\n",
       "  </thead>\n",
       "  <tbody>\n",
       "    <tr>\n",
       "      <th>0</th>\n",
       "      <td>AUSTRALIA</td>\n",
       "      <td>2015_Cape_Town</td>\n",
       "      <td>13.966480</td>\n",
       "      <td>-10.638298</td>\n",
       "      <td>-14.285714</td>\n",
       "      <td>0.250000</td>\n",
       "      <td>25.925926</td>\n",
       "      <td>-50.000000</td>\n",
       "      <td>0.000000</td>\n",
       "      <td>0.000000</td>\n",
       "      <td>0.083333</td>\n",
       "      <td>50.0</td>\n",
       "      <td>0.333333</td>\n",
       "      <td>1.0</td>\n",
       "      <td>L</td>\n",
       "    </tr>\n",
       "    <tr>\n",
       "      <th>1</th>\n",
       "      <td>WALES</td>\n",
       "      <td>2015_Cape_Town</td>\n",
       "      <td>7.471264</td>\n",
       "      <td>15.555556</td>\n",
       "      <td>14.285714</td>\n",
       "      <td>0.083333</td>\n",
       "      <td>27.868852</td>\n",
       "      <td>25.000000</td>\n",
       "      <td>-20.000000</td>\n",
       "      <td>-100.000000</td>\n",
       "      <td>0.250000</td>\n",
       "      <td>0.0</td>\n",
       "      <td>-1.000000</td>\n",
       "      <td>0.0</td>\n",
       "      <td>W</td>\n",
       "    </tr>\n",
       "    <tr>\n",
       "      <th>2</th>\n",
       "      <td>KENYA</td>\n",
       "      <td>2015_Cape_Town</td>\n",
       "      <td>-33.136095</td>\n",
       "      <td>-44.444444</td>\n",
       "      <td>-33.333333</td>\n",
       "      <td>-0.750000</td>\n",
       "      <td>-10.638298</td>\n",
       "      <td>-16.666667</td>\n",
       "      <td>66.666667</td>\n",
       "      <td>60.000000</td>\n",
       "      <td>-0.550000</td>\n",
       "      <td>0.0</td>\n",
       "      <td>-1.000000</td>\n",
       "      <td>0.0</td>\n",
       "      <td>L</td>\n",
       "    </tr>\n",
       "    <tr>\n",
       "      <th>3</th>\n",
       "      <td>NEW ZEALAND</td>\n",
       "      <td>2015_Cape_Town</td>\n",
       "      <td>51.758794</td>\n",
       "      <td>33.333333</td>\n",
       "      <td>33.333333</td>\n",
       "      <td>0.000000</td>\n",
       "      <td>76.119403</td>\n",
       "      <td>-75.000000</td>\n",
       "      <td>-50.000000</td>\n",
       "      <td>-100.000000</td>\n",
       "      <td>0.250000</td>\n",
       "      <td>0.0</td>\n",
       "      <td>0.000000</td>\n",
       "      <td>-1.0</td>\n",
       "      <td>W</td>\n",
       "    </tr>\n",
       "    <tr>\n",
       "      <th>4</th>\n",
       "      <td>FIJI</td>\n",
       "      <td>2015_Cape_Town</td>\n",
       "      <td>12.880562</td>\n",
       "      <td>-20.833333</td>\n",
       "      <td>-25.000000</td>\n",
       "      <td>0.266667</td>\n",
       "      <td>38.461538</td>\n",
       "      <td>-66.666667</td>\n",
       "      <td>-33.333333</td>\n",
       "      <td>-33.333333</td>\n",
       "      <td>0.208333</td>\n",
       "      <td>0.0</td>\n",
       "      <td>-1.000000</td>\n",
       "      <td>0.0</td>\n",
       "      <td>L</td>\n",
       "    </tr>\n",
       "  </tbody>\n",
       "</table>\n",
       "</div>"
      ],
      "text/plain": [
       "           Opp      Tournament  Poss_Time_Diff  Score_Diff  Conv_Diff  \\\n",
       "0    AUSTRALIA  2015_Cape_Town       13.966480  -10.638298 -14.285714   \n",
       "1        WALES  2015_Cape_Town        7.471264   15.555556  14.285714   \n",
       "2        KENYA  2015_Cape_Town      -33.136095  -44.444444 -33.333333   \n",
       "3  NEW ZEALAND  2015_Cape_Town       51.758794   33.333333  33.333333   \n",
       "4         FIJI  2015_Cape_Town       12.880562  -20.833333 -25.000000   \n",
       "\n",
       "   Tries_Diff  Passes_Diff  Contestable_KO_Win_pct_Diff  PenFK_Against_Diff  \\\n",
       "0    0.250000    25.925926                   -50.000000            0.000000   \n",
       "1    0.083333    27.868852                    25.000000          -20.000000   \n",
       "2   -0.750000   -10.638298                   -16.666667           66.666667   \n",
       "3    0.000000    76.119403                   -75.000000          -50.000000   \n",
       "4    0.266667    38.461538                   -66.666667          -33.333333   \n",
       "\n",
       "   RuckMaul_Diff  Ruck_Win_pct_Diff  Cards_diff  Lineout_Win_Pct_Diff  \\\n",
       "0       0.000000           0.083333        50.0              0.333333   \n",
       "1    -100.000000           0.250000         0.0             -1.000000   \n",
       "2      60.000000          -0.550000         0.0             -1.000000   \n",
       "3    -100.000000           0.250000         0.0              0.000000   \n",
       "4     -33.333333           0.208333         0.0             -1.000000   \n",
       "\n",
       "   Scrum_Win_Pct_Diff Result  \n",
       "0                 1.0      L  \n",
       "1                 0.0      W  \n",
       "2                 0.0      L  \n",
       "3                -1.0      W  \n",
       "4                 0.0      L  "
      ]
     },
     "execution_count": 8,
     "metadata": {},
     "output_type": "execute_result"
    }
   ],
   "source": [
    "df.head()"
   ]
  },
  {
   "cell_type": "code",
   "execution_count": null,
   "metadata": {
    "collapsed": true
   },
   "outputs": [],
   "source": [
    "df.Contestable_KO_Win_pct_Diff.describe()"
   ]
  },
  {
   "cell_type": "code",
   "execution_count": null,
   "metadata": {
    "collapsed": true
   },
   "outputs": [],
   "source": [
    "df.Contestable_KO_Win_pct_Diff"
   ]
  },
  {
   "cell_type": "code",
   "execution_count": null,
   "metadata": {
    "scrolled": false
   },
   "outputs": [],
   "source": [
    "#Create columns for KO win % bands based on Contestable_KO_Win_pct_Diff\n",
    "# Tmp DF to hold values\n",
    "tmp = pd.DataFrame(columns=['-175 : -150', '-149 : -125', '-124 : -100', '-99 : -75', '-74 : -25', '-24 : -1', '0 : 25', '26 : 50', '51 : 75', '76 : 100', '101 : 125', '126 : 150'])\n",
    "\n",
    "#Iterate through rows and create classification for KO Win%\n",
    "for index, row in df.iterrows():\n",
    "    \n",
    "    if row['Contestable_KO_Win_pct_Diff'] > -175.0 and row['Contestable_KO_Win_pct_Diff'] <= -150.0:\n",
    "        bin0 = row['-175 : -150'] = float(-1.50*50)\n",
    "        bin1 = row['-149 : -125'] = float(0)\n",
    "        bin2 = row['-124 : -100'] = float(0)\n",
    "        bin3 = row['-99 : -75'] = float(0)\n",
    "        bin4 = row['-74 : -25'] = float(0)\n",
    "        bin5 = row['-24 : -1'] = float(0)\n",
    "        bin6 = row['0 : 25'] = float(0)\n",
    "        bin7 = row['26 : 50'] = float(0)\n",
    "        bin8 = row['51 : 75'] = float(0)\n",
    "        bin9 = row['76 : 100'] = float(0)\n",
    "        bin10 = row['101 : 125'] = float(0)\n",
    "        bin11 = row['126 : 150'] = float(0)\n",
    "        \n",
    "    elif row['Contestable_KO_Win_pct_Diff'] > -150.0 and row['Contestable_KO_Win_pct_Diff'] <= -125.0:\n",
    "        bin0 = row['-175 : -150'] = float(0)\n",
    "        bin1 = row['-149 : -125'] = float(-1.25*50)\n",
    "        bin2 = row['-124 : -100'] = float(0)\n",
    "        bin3 = row['-99 : -75'] = float(0)\n",
    "        bin4 = row['-74 : -25'] = float(0)\n",
    "        bin5 = row['-24 : -1'] = float(0)\n",
    "        bin6 = row['0 : 25'] = float(0)\n",
    "        bin7 = row['26 : 50'] = float(0)\n",
    "        bin8 = row['51 : 75'] = float(0)\n",
    "        bin9 = row['76 : 100'] = float(0)\n",
    "        bin10 = row['101 : 125'] = float(0)\n",
    "        bin11 = row['126 : 150'] = float(0)  \n",
    "      \n",
    "    elif row['Contestable_KO_Win_pct_Diff'] > -125.0 and row['Contestable_KO_Win_pct_Diff'] <= -100.0:\n",
    "        bin0 = row['-175 : -150'] = float(0)\n",
    "        bin1 = row['-149 : -125'] = float(0)\n",
    "        bin2 = row['-124 : -100'] = float(-1.00*50)\n",
    "        bin3 = row['-99 : -75'] = float(0)\n",
    "        bin4 = row['-74 : -25'] = float(0)\n",
    "        bin5 = row['-24 : -1'] = float(0)\n",
    "        bin6 = row['0 : 25'] = float(0)\n",
    "        bin7 = row['26 : 50'] = float(0)\n",
    "        bin8 = row['51 : 75'] = float(0)\n",
    "        bin9 = row['76 : 100'] = float(0)\n",
    "        bin10 = row['101 : 125'] = float(0)\n",
    "        bin11 = row['126 : 150'] = float(0)         \n",
    "         \n",
    "    elif row['Contestable_KO_Win_pct_Diff'] > -100.0 and row['Contestable_KO_Win_pct_Diff'] <= -75.0:\n",
    "        bin0 = row['-175 : -150'] = float(0)\n",
    "        bin1 = row['-149 : -125'] = float(0)\n",
    "        bin2 = row['-124 : -100'] = float(0)\n",
    "        bin3 = row['-99 : -75'] = float(-0.75*50)\n",
    "        bin4 = row['-74 : -25'] = float(0)\n",
    "        bin5 = row['-24 : -1'] = float(0)\n",
    "        bin6 = row['0 : 25'] = float(0)\n",
    "        bin7 = row['26 : 50'] = float(0)\n",
    "        bin8 = row['51 : 75'] = float(0)\n",
    "        bin9 = row['76 : 100'] = float(0)\n",
    "        bin10 = row['101 : 125'] = float(0)\n",
    "        bin11 = row['126 : 150'] = float(0)        \n",
    "          \n",
    "    elif row['Contestable_KO_Win_pct_Diff'] > -75.0 and row['Contestable_KO_Win_pct_Diff'] <= -25.0:\n",
    "        bin0 = row['-175 : -150'] = float(0)\n",
    "        bin1 = row['-149 : -125'] = float(0)\n",
    "        bin2 = row['-124 : -100'] = float(0)\n",
    "        bin3 = row['-99 : -75'] = float(0)\n",
    "        bin4 = row['-74 : -25'] = float(-0.25*50)\n",
    "        bin5 = row['-24 : -1'] = float(0)\n",
    "        bin6 = row['0 : 25'] = float(0)\n",
    "        bin7 = row['26 : 50'] = float(0)\n",
    "        bin8 = row['51 : 75'] = float(0)\n",
    "        bin9 = row['76 : 100'] = float(0)\n",
    "        bin10 = row['101 : 125'] = float(0)\n",
    "        bin11 = row['126 : 150'] = float(0)        \n",
    "          \n",
    "    elif row['Contestable_KO_Win_pct_Diff'] > -25.0 and row['Contestable_KO_Win_pct_Diff'] <= -1.0:\n",
    "        bin0 = row['-175 : -150'] = float(0)\n",
    "        bin1 = row['-149 : -125'] = float(0)\n",
    "        bin2 = row['-124 : -100'] = float(0)\n",
    "        bin3 = row['-99 : -75'] = float(0)\n",
    "        bin4 = row['-74 : -25'] = float(0)\n",
    "        bin5 = row['-24 : -1'] = float(-0.10*50)\n",
    "        bin6 = row['0 : 25'] = float(0)\n",
    "        bin7 = row['26 : 50'] = float(0)\n",
    "        bin8 = row['51 : 75'] = float(0)\n",
    "        bin9 = row['76 : 100'] = float(0)\n",
    "        bin10 = row['101 : 125'] = float(0)\n",
    "        bin11 = row['126 : 150'] = float(0)          \n",
    "        \n",
    "    elif row['Contestable_KO_Win_pct_Diff'] >= 0 and row['Contestable_KO_Win_pct_Diff'] <= 25.0:\n",
    "        bin0 = row['-175 : -150'] = float(0)\n",
    "        bin1 = row['-149 : -125'] = float(0)\n",
    "        bin2 = row['-124 : -100'] = float(0)\n",
    "        bin3 = row['-99 : -75'] = float(0)\n",
    "        bin4 = row['-74 : -25'] = float(0)\n",
    "        bin5 = row['-24 : -1'] = float(0)\n",
    "        bin6 = row['0 : 25'] = float(0.25*50)\n",
    "        bin7 = row['26 : 50'] = float(0)\n",
    "        bin8 = row['51 : 75'] = float(0)\n",
    "        bin9 = row['76 : 100'] = float(0)\n",
    "        bin10 = row['101 : 125'] = float(0)\n",
    "        bin11 = row['126 : 150'] = float(0)\n",
    "\n",
    "    elif row['Contestable_KO_Win_pct_Diff'] > 25.0 and row['Contestable_KO_Win_pct_Diff'] <= 50.0:\n",
    "        bin0 = row['-175 : -150'] = float(0)\n",
    "        bin1 = row['-149 : -125'] = float(0)\n",
    "        bin2 = row['-124 : -100'] = float(0)\n",
    "        bin3 = row['-99 : -75'] = float(0)\n",
    "        bin4 = row['-74 : -25'] = float(0)\n",
    "        bin5 = row['-24 : -1'] = float(0)\n",
    "        bin6 = row['0 : 25'] = float(0)\n",
    "        bin7 = row['26 : 50'] = float(0.50*50)\n",
    "        bin8 = row['51 : 75'] = float(0)\n",
    "        bin9 = row['76 : 100'] = float(0)\n",
    "        bin10 = row['101 : 125'] = float(0)\n",
    "        bin11 = row['126 : 150'] = float(0)\n",
    "\n",
    "    elif row['Contestable_KO_Win_pct_Diff'] > 50.0 and row['Contestable_KO_Win_pct_Diff'] <= 75.0:\n",
    "        bin0 = row['-175 : -150'] = float(0)\n",
    "        bin1 = row['-149 : -125'] = float(0)\n",
    "        bin2 = row['-124 : -100'] = float(0)\n",
    "        bin3 = row['-99 : -75'] = float(0)\n",
    "        bin4 = row['-74 : -25'] = float(0)\n",
    "        bin5 = row['-24 : -1'] = float(0)\n",
    "        bin6 = row['0 : 25'] = float(0)\n",
    "        bin7 = row['26 : 50'] = float(0)\n",
    "        bin8 = row['51 : 75'] = float(0.75*50)\n",
    "        bin9 = row['76 : 100'] = float(0)\n",
    "        bin10 = row['101 : 125'] = float(0)\n",
    "        bin11 = row['126 : 150'] = float(0)\n",
    "\n",
    "    elif row['Contestable_KO_Win_pct_Diff'] > 75.0 and row['Contestable_KO_Win_pct_Diff'] <= 100.0:\n",
    "        #zero = row['0'] = float(0)\n",
    "        bin0 = row['-175 : -150'] = float(0)\n",
    "        bin1 = row['-149 : -125'] = float(0)\n",
    "        bin2 = row['-124 : -100'] = float(0)\n",
    "        bin3 = row['-99 : -75'] = float(0)\n",
    "        bin4 = row['-74 : -25'] = float(0)\n",
    "        bin5 = row['-24 : -1'] = float(0)\n",
    "        bin6 = row['0 : 25'] = float(0)\n",
    "        bin7 = row['26 : 50'] = float(0)\n",
    "        bin8 = row['51 : 75'] = float(0)\n",
    "        bin9 = row['76 : 100'] = float(1.00*50)\n",
    "        bin10 = row['101 : 125'] = float(0)\n",
    "        bin11 = row['126 : 150'] = float(0)\n",
    "\n",
    "    elif row['Contestable_KO_Win_pct_Diff'] > 100.0 and row['Contestable_KO_Win_pct_Diff'] <= 125.0:\n",
    "        bin0 = row['-175 : -150'] = float(0)\n",
    "        bin1 = row['-149 : -125'] = float(0)\n",
    "        bin2 = row['-124 : -100'] = float(0)\n",
    "        bin3 = row['-99 : -75'] = float(0)\n",
    "        bin4 = row['-74 : -25'] = float(0)\n",
    "        bin5 = row['-24 : -1'] = float(0)\n",
    "        bin6 = row['0 : 25'] = float(0)\n",
    "        bin7 = row['26 : 50'] = float(0)\n",
    "        bin8 = row['51 : 75'] = float(0)\n",
    "        bin9 = row['76 : 100'] = float(0)\n",
    "        bin10 = row['101 : 125'] = float(1.25*50)\n",
    "        bin11 = row['126 : 150'] = float(0)        \n",
    "        \n",
    "\n",
    "    elif row['Contestable_KO_Win_pct_Diff'] > 125.0 and row['Contestable_KO_Win_pct_Diff'] <= 150.0:\n",
    "        #zero = row['0'] = float(0)\n",
    "        bin0 = row['-175 : -150'] = float(0)\n",
    "        bin1 = row['-149 : -125'] = float(0)\n",
    "        bin2 = row['-124 : -100'] = float(0)\n",
    "        bin3 = row['-99 : -75'] = float(0)\n",
    "        bin4 = row['-74 : -25'] = float(0)\n",
    "        bin5 = row['-24 : -1'] = float(0)\n",
    "        bin6 = row['0 - 25'] = float(0)\n",
    "        bin7 = row['26 - 50'] = float(0)\n",
    "        bin8 = row['51 - 75'] = float(0)\n",
    "        bin9 = row['76 - 100'] = float(0)\n",
    "        bin10 = row['101 - 125'] = float(0)\n",
    "        bin11 = row['126 - 150'] = float(1.50*50) \n",
    "        \n",
    "    tmp.loc[index] = (bin0, bin1, bin2, bin3, bin4, bin5, bin6, bin7, bin8, bin9, bin10, bin11)\n",
    "    \n",
    "#df.info()\n",
    "#type(df.Result[1])\n",
    "df = pd.concat([df, tmp], axis=1)\n",
    "\n",
    "df.to_csv(\"../data/output/matchdata_ko_bands.csv\", header=True, index=False)\n",
    "\n",
    "#print(list(df.columns))\n",
    "# ['Team', 'Date', 'Tournament', 'Match', 'Possession Time', 'Scores', 'Tries', 'Conversions', 'Passes', 'Contestable_KO_Win_pct_Diff', 'Pens_Frees Against', 'Ruck_Maul', 'Yellow_Red Cards', 'TurnoversConceded', 'Ruck_retention', 'Lineout_Win_Pct', 'Scrum_Win_Pct', 'Result', '0', '0 - 25', '25 - 50', '50 - 75', '75 - 100']\n",
    "df"
   ]
  },
  {
   "cell_type": "code",
   "execution_count": 16,
   "metadata": {},
   "outputs": [
    {
     "name": "stdout",
     "output_type": "stream",
     "text": [
      "<class 'pandas.core.frame.DataFrame'>\n",
      "RangeIndex: 156 entries, 0 to 155\n",
      "Data columns (total 27 columns):\n",
      "Opp                            156 non-null object\n",
      "Tournament                     156 non-null object\n",
      "Poss_Time_Diff                 156 non-null float64\n",
      "Score_Diff                     156 non-null float64\n",
      "Conv_Diff                      156 non-null float64\n",
      "Tries_Diff                     156 non-null float64\n",
      "Passes_Diff                    156 non-null float64\n",
      "Contestable_KO_Win_pct_Diff    156 non-null float64\n",
      "PenFK_Against_Diff             156 non-null float64\n",
      "RuckMaul_Diff                  156 non-null float64\n",
      "Ruck_Win_pct_Diff              156 non-null float64\n",
      "Cards_diff                     156 non-null float64\n",
      "Lineout_Win_Pct_Diff           156 non-null float64\n",
      "Scrum_Win_Pct_Diff             156 non-null float64\n",
      "Result                         156 non-null object\n",
      "-175 : -150                    156 non-null float64\n",
      "-149 : -125                    156 non-null float64\n",
      "-124 : -100                    156 non-null float64\n",
      "-99 : -75                      156 non-null float64\n",
      "-74 : -25                      156 non-null float64\n",
      "-24 : -1                       156 non-null float64\n",
      "0 : 25                         156 non-null float64\n",
      "26 : 50                        156 non-null float64\n",
      "51 : 75                        156 non-null float64\n",
      "76 : 100                       156 non-null float64\n",
      "101 : 125                      156 non-null float64\n",
      "126 : 150                      156 non-null float64\n",
      "dtypes: float64(24), object(3)\n",
      "memory usage: 33.0+ KB\n"
     ]
    },
    {
     "data": {
      "text/plain": [
       "['Opp',\n",
       " 'Tournament',\n",
       " 'Poss_Time_Diff',\n",
       " 'Score_Diff',\n",
       " 'Conv_Diff',\n",
       " 'Tries_Diff',\n",
       " 'Passes_Diff',\n",
       " 'Contestable_KO_Win_pct_Diff',\n",
       " 'PenFK_Against_Diff',\n",
       " 'RuckMaul_Diff',\n",
       " 'Ruck_Win_pct_Diff',\n",
       " 'Cards_diff',\n",
       " 'Lineout_Win_Pct_Diff',\n",
       " 'Scrum_Win_Pct_Diff',\n",
       " 'Result',\n",
       " '-175 : -150',\n",
       " '-149 : -125',\n",
       " '-124 : -100',\n",
       " '-99 : -75',\n",
       " '-74 : -25',\n",
       " '-24 : -1',\n",
       " '0 : 25',\n",
       " '26 : 50',\n",
       " '51 : 75',\n",
       " '76 : 100',\n",
       " '101 : 125',\n",
       " '126 : 150']"
      ]
     },
     "execution_count": 16,
     "metadata": {},
     "output_type": "execute_result"
    }
   ],
   "source": [
    "df.info()\n",
    "list(df.columns)"
   ]
  },
  {
   "cell_type": "code",
   "execution_count": 18,
   "metadata": {},
   "outputs": [
    {
     "data": {
      "text/html": [
       "<div>\n",
       "<style>\n",
       "    .dataframe thead tr:only-child th {\n",
       "        text-align: right;\n",
       "    }\n",
       "\n",
       "    .dataframe thead th {\n",
       "        text-align: left;\n",
       "    }\n",
       "\n",
       "    .dataframe tbody tr th {\n",
       "        vertical-align: top;\n",
       "    }\n",
       "</style>\n",
       "<table border=\"1\" class=\"dataframe\">\n",
       "  <thead>\n",
       "    <tr style=\"text-align: right;\">\n",
       "      <th></th>\n",
       "      <th>Opp</th>\n",
       "      <th>Tournament</th>\n",
       "      <th>Poss_Time_Diff</th>\n",
       "      <th>Score_Diff</th>\n",
       "      <th>Conv_Diff</th>\n",
       "      <th>Tries_Diff</th>\n",
       "      <th>Passes_Diff</th>\n",
       "      <th>Contestable_KO_Win_pct_Diff</th>\n",
       "      <th>PenFK_Against_Diff</th>\n",
       "      <th>RuckMaul_Diff</th>\n",
       "      <th>...</th>\n",
       "      <th>-99 : -75</th>\n",
       "      <th>-74 : -25</th>\n",
       "      <th>-24 : -1</th>\n",
       "      <th>0 : 25</th>\n",
       "      <th>26 : 50</th>\n",
       "      <th>51 : 75</th>\n",
       "      <th>76 : 100</th>\n",
       "      <th>101 : 125</th>\n",
       "      <th>126 : 150</th>\n",
       "      <th>Result</th>\n",
       "    </tr>\n",
       "  </thead>\n",
       "  <tbody>\n",
       "    <tr>\n",
       "      <th>0</th>\n",
       "      <td>AUSTRALIA</td>\n",
       "      <td>2015_Cape_Town</td>\n",
       "      <td>13.966480</td>\n",
       "      <td>-10.638298</td>\n",
       "      <td>-14.285714</td>\n",
       "      <td>0.250000</td>\n",
       "      <td>25.925926</td>\n",
       "      <td>-50.000000</td>\n",
       "      <td>0.000000</td>\n",
       "      <td>0.000000</td>\n",
       "      <td>...</td>\n",
       "      <td>0.0</td>\n",
       "      <td>-12.5</td>\n",
       "      <td>0.0</td>\n",
       "      <td>0.0</td>\n",
       "      <td>0.0</td>\n",
       "      <td>0.0</td>\n",
       "      <td>0.0</td>\n",
       "      <td>0.0</td>\n",
       "      <td>0.0</td>\n",
       "      <td>L</td>\n",
       "    </tr>\n",
       "    <tr>\n",
       "      <th>1</th>\n",
       "      <td>WALES</td>\n",
       "      <td>2015_Cape_Town</td>\n",
       "      <td>7.471264</td>\n",
       "      <td>15.555556</td>\n",
       "      <td>14.285714</td>\n",
       "      <td>0.083333</td>\n",
       "      <td>27.868852</td>\n",
       "      <td>25.000000</td>\n",
       "      <td>-20.000000</td>\n",
       "      <td>-100.000000</td>\n",
       "      <td>...</td>\n",
       "      <td>0.0</td>\n",
       "      <td>0.0</td>\n",
       "      <td>0.0</td>\n",
       "      <td>12.5</td>\n",
       "      <td>0.0</td>\n",
       "      <td>0.0</td>\n",
       "      <td>0.0</td>\n",
       "      <td>0.0</td>\n",
       "      <td>0.0</td>\n",
       "      <td>W</td>\n",
       "    </tr>\n",
       "    <tr>\n",
       "      <th>2</th>\n",
       "      <td>KENYA</td>\n",
       "      <td>2015_Cape_Town</td>\n",
       "      <td>-33.136095</td>\n",
       "      <td>-44.444444</td>\n",
       "      <td>-33.333333</td>\n",
       "      <td>-0.750000</td>\n",
       "      <td>-10.638298</td>\n",
       "      <td>-16.666667</td>\n",
       "      <td>66.666667</td>\n",
       "      <td>60.000000</td>\n",
       "      <td>...</td>\n",
       "      <td>0.0</td>\n",
       "      <td>0.0</td>\n",
       "      <td>-5.0</td>\n",
       "      <td>0.0</td>\n",
       "      <td>0.0</td>\n",
       "      <td>0.0</td>\n",
       "      <td>0.0</td>\n",
       "      <td>0.0</td>\n",
       "      <td>0.0</td>\n",
       "      <td>L</td>\n",
       "    </tr>\n",
       "    <tr>\n",
       "      <th>3</th>\n",
       "      <td>NEW ZEALAND</td>\n",
       "      <td>2015_Cape_Town</td>\n",
       "      <td>51.758794</td>\n",
       "      <td>33.333333</td>\n",
       "      <td>33.333333</td>\n",
       "      <td>0.000000</td>\n",
       "      <td>76.119403</td>\n",
       "      <td>-75.000000</td>\n",
       "      <td>-50.000000</td>\n",
       "      <td>-100.000000</td>\n",
       "      <td>...</td>\n",
       "      <td>-37.5</td>\n",
       "      <td>0.0</td>\n",
       "      <td>0.0</td>\n",
       "      <td>0.0</td>\n",
       "      <td>0.0</td>\n",
       "      <td>0.0</td>\n",
       "      <td>0.0</td>\n",
       "      <td>0.0</td>\n",
       "      <td>0.0</td>\n",
       "      <td>W</td>\n",
       "    </tr>\n",
       "    <tr>\n",
       "      <th>4</th>\n",
       "      <td>FIJI</td>\n",
       "      <td>2015_Cape_Town</td>\n",
       "      <td>12.880562</td>\n",
       "      <td>-20.833333</td>\n",
       "      <td>-25.000000</td>\n",
       "      <td>0.266667</td>\n",
       "      <td>38.461538</td>\n",
       "      <td>-66.666667</td>\n",
       "      <td>-33.333333</td>\n",
       "      <td>-33.333333</td>\n",
       "      <td>...</td>\n",
       "      <td>0.0</td>\n",
       "      <td>-12.5</td>\n",
       "      <td>0.0</td>\n",
       "      <td>0.0</td>\n",
       "      <td>0.0</td>\n",
       "      <td>0.0</td>\n",
       "      <td>0.0</td>\n",
       "      <td>0.0</td>\n",
       "      <td>0.0</td>\n",
       "      <td>L</td>\n",
       "    </tr>\n",
       "  </tbody>\n",
       "</table>\n",
       "<p>5 rows × 27 columns</p>\n",
       "</div>"
      ],
      "text/plain": [
       "           Opp      Tournament  Poss_Time_Diff  Score_Diff  Conv_Diff  \\\n",
       "0    AUSTRALIA  2015_Cape_Town       13.966480  -10.638298 -14.285714   \n",
       "1        WALES  2015_Cape_Town        7.471264   15.555556  14.285714   \n",
       "2        KENYA  2015_Cape_Town      -33.136095  -44.444444 -33.333333   \n",
       "3  NEW ZEALAND  2015_Cape_Town       51.758794   33.333333  33.333333   \n",
       "4         FIJI  2015_Cape_Town       12.880562  -20.833333 -25.000000   \n",
       "\n",
       "   Tries_Diff  Passes_Diff  Contestable_KO_Win_pct_Diff  PenFK_Against_Diff  \\\n",
       "0    0.250000    25.925926                   -50.000000            0.000000   \n",
       "1    0.083333    27.868852                    25.000000          -20.000000   \n",
       "2   -0.750000   -10.638298                   -16.666667           66.666667   \n",
       "3    0.000000    76.119403                   -75.000000          -50.000000   \n",
       "4    0.266667    38.461538                   -66.666667          -33.333333   \n",
       "\n",
       "   RuckMaul_Diff   ...    -99 : -75  -74 : -25  -24 : -1  0 : 25  26 : 50  \\\n",
       "0       0.000000   ...          0.0      -12.5       0.0     0.0      0.0   \n",
       "1    -100.000000   ...          0.0        0.0       0.0    12.5      0.0   \n",
       "2      60.000000   ...          0.0        0.0      -5.0     0.0      0.0   \n",
       "3    -100.000000   ...        -37.5        0.0       0.0     0.0      0.0   \n",
       "4     -33.333333   ...          0.0      -12.5       0.0     0.0      0.0   \n",
       "\n",
       "   51 : 75  76 : 100  101 : 125  126 : 150  Result  \n",
       "0      0.0       0.0        0.0        0.0       L  \n",
       "1      0.0       0.0        0.0        0.0       W  \n",
       "2      0.0       0.0        0.0        0.0       L  \n",
       "3      0.0       0.0        0.0        0.0       W  \n",
       "4      0.0       0.0        0.0        0.0       L  \n",
       "\n",
       "[5 rows x 27 columns]"
      ]
     },
     "execution_count": 18,
     "metadata": {},
     "output_type": "execute_result"
    }
   ],
   "source": [
    "# reorder columns\n",
    "df = df[['Opp','Tournament','Poss_Time_Diff','Score_Diff','Conv_Diff','Tries_Diff','Passes_Diff','Contestable_KO_Win_pct_Diff','PenFK_Against_Diff','RuckMaul_Diff','Ruck_Win_pct_Diff','Cards_diff','Lineout_Win_Pct_Diff','Scrum_Win_Pct_Diff','-175 : -150','-149 : -125','-124 : -100','-99 : -75','-74 : -25','-24 : -1','0 : 25','26 : 50','51 : 75','76 : 100', '101 : 125','126 : 150','Result']]\n",
    "df.head()"
   ]
  },
  {
   "cell_type": "code",
   "execution_count": 12,
   "metadata": {
    "collapsed": true
   },
   "outputs": [],
   "source": [
    "from sklearn.model_selection import train_test_split"
   ]
  },
  {
   "cell_type": "code",
   "execution_count": 19,
   "metadata": {
    "collapsed": true
   },
   "outputs": [],
   "source": [
    "#Drop features that are unneccessary/str or will bias the prediction\n",
    "rf_data = df.drop((['Opp', 'Score_Diff', 'Tries_Diff','Tournament', 'Conv_Diff']), axis=1)\n",
    "\n",
    "#Pull out the variable we're trying to predict: 'Result'\n",
    "X = rf_data.drop('Result',axis=1)\n",
    "y = rf_data['Result']"
   ]
  },
  {
   "cell_type": "code",
   "execution_count": 20,
   "metadata": {},
   "outputs": [
    {
     "data": {
      "text/html": [
       "<div>\n",
       "<style>\n",
       "    .dataframe thead tr:only-child th {\n",
       "        text-align: right;\n",
       "    }\n",
       "\n",
       "    .dataframe thead th {\n",
       "        text-align: left;\n",
       "    }\n",
       "\n",
       "    .dataframe tbody tr th {\n",
       "        vertical-align: top;\n",
       "    }\n",
       "</style>\n",
       "<table border=\"1\" class=\"dataframe\">\n",
       "  <thead>\n",
       "    <tr style=\"text-align: right;\">\n",
       "      <th></th>\n",
       "      <th>Poss_Time_Diff</th>\n",
       "      <th>Passes_Diff</th>\n",
       "      <th>Contestable_KO_Win_pct_Diff</th>\n",
       "      <th>PenFK_Against_Diff</th>\n",
       "      <th>RuckMaul_Diff</th>\n",
       "      <th>Ruck_Win_pct_Diff</th>\n",
       "      <th>Cards_diff</th>\n",
       "      <th>Lineout_Win_Pct_Diff</th>\n",
       "      <th>Scrum_Win_Pct_Diff</th>\n",
       "      <th>-175 : -150</th>\n",
       "      <th>...</th>\n",
       "      <th>-99 : -75</th>\n",
       "      <th>-74 : -25</th>\n",
       "      <th>-24 : -1</th>\n",
       "      <th>0 : 25</th>\n",
       "      <th>26 : 50</th>\n",
       "      <th>51 : 75</th>\n",
       "      <th>76 : 100</th>\n",
       "      <th>101 : 125</th>\n",
       "      <th>126 : 150</th>\n",
       "      <th>Result</th>\n",
       "    </tr>\n",
       "  </thead>\n",
       "  <tbody>\n",
       "    <tr>\n",
       "      <th>0</th>\n",
       "      <td>13.966480</td>\n",
       "      <td>25.925926</td>\n",
       "      <td>-50.000000</td>\n",
       "      <td>0.000000</td>\n",
       "      <td>0.000000</td>\n",
       "      <td>0.083333</td>\n",
       "      <td>50.0</td>\n",
       "      <td>0.333333</td>\n",
       "      <td>1.0</td>\n",
       "      <td>0.0</td>\n",
       "      <td>...</td>\n",
       "      <td>0.0</td>\n",
       "      <td>-12.5</td>\n",
       "      <td>0.0</td>\n",
       "      <td>0.0</td>\n",
       "      <td>0.0</td>\n",
       "      <td>0.0</td>\n",
       "      <td>0.0</td>\n",
       "      <td>0.0</td>\n",
       "      <td>0.0</td>\n",
       "      <td>L</td>\n",
       "    </tr>\n",
       "    <tr>\n",
       "      <th>1</th>\n",
       "      <td>7.471264</td>\n",
       "      <td>27.868852</td>\n",
       "      <td>25.000000</td>\n",
       "      <td>-20.000000</td>\n",
       "      <td>-100.000000</td>\n",
       "      <td>0.250000</td>\n",
       "      <td>0.0</td>\n",
       "      <td>-1.000000</td>\n",
       "      <td>0.0</td>\n",
       "      <td>0.0</td>\n",
       "      <td>...</td>\n",
       "      <td>0.0</td>\n",
       "      <td>0.0</td>\n",
       "      <td>0.0</td>\n",
       "      <td>12.5</td>\n",
       "      <td>0.0</td>\n",
       "      <td>0.0</td>\n",
       "      <td>0.0</td>\n",
       "      <td>0.0</td>\n",
       "      <td>0.0</td>\n",
       "      <td>W</td>\n",
       "    </tr>\n",
       "    <tr>\n",
       "      <th>2</th>\n",
       "      <td>-33.136095</td>\n",
       "      <td>-10.638298</td>\n",
       "      <td>-16.666667</td>\n",
       "      <td>66.666667</td>\n",
       "      <td>60.000000</td>\n",
       "      <td>-0.550000</td>\n",
       "      <td>0.0</td>\n",
       "      <td>-1.000000</td>\n",
       "      <td>0.0</td>\n",
       "      <td>0.0</td>\n",
       "      <td>...</td>\n",
       "      <td>0.0</td>\n",
       "      <td>0.0</td>\n",
       "      <td>-5.0</td>\n",
       "      <td>0.0</td>\n",
       "      <td>0.0</td>\n",
       "      <td>0.0</td>\n",
       "      <td>0.0</td>\n",
       "      <td>0.0</td>\n",
       "      <td>0.0</td>\n",
       "      <td>L</td>\n",
       "    </tr>\n",
       "    <tr>\n",
       "      <th>3</th>\n",
       "      <td>51.758794</td>\n",
       "      <td>76.119403</td>\n",
       "      <td>-75.000000</td>\n",
       "      <td>-50.000000</td>\n",
       "      <td>-100.000000</td>\n",
       "      <td>0.250000</td>\n",
       "      <td>0.0</td>\n",
       "      <td>0.000000</td>\n",
       "      <td>-1.0</td>\n",
       "      <td>0.0</td>\n",
       "      <td>...</td>\n",
       "      <td>-37.5</td>\n",
       "      <td>0.0</td>\n",
       "      <td>0.0</td>\n",
       "      <td>0.0</td>\n",
       "      <td>0.0</td>\n",
       "      <td>0.0</td>\n",
       "      <td>0.0</td>\n",
       "      <td>0.0</td>\n",
       "      <td>0.0</td>\n",
       "      <td>W</td>\n",
       "    </tr>\n",
       "    <tr>\n",
       "      <th>4</th>\n",
       "      <td>12.880562</td>\n",
       "      <td>38.461538</td>\n",
       "      <td>-66.666667</td>\n",
       "      <td>-33.333333</td>\n",
       "      <td>-33.333333</td>\n",
       "      <td>0.208333</td>\n",
       "      <td>0.0</td>\n",
       "      <td>-1.000000</td>\n",
       "      <td>0.0</td>\n",
       "      <td>0.0</td>\n",
       "      <td>...</td>\n",
       "      <td>0.0</td>\n",
       "      <td>-12.5</td>\n",
       "      <td>0.0</td>\n",
       "      <td>0.0</td>\n",
       "      <td>0.0</td>\n",
       "      <td>0.0</td>\n",
       "      <td>0.0</td>\n",
       "      <td>0.0</td>\n",
       "      <td>0.0</td>\n",
       "      <td>L</td>\n",
       "    </tr>\n",
       "  </tbody>\n",
       "</table>\n",
       "<p>5 rows × 22 columns</p>\n",
       "</div>"
      ],
      "text/plain": [
       "   Poss_Time_Diff  Passes_Diff  Contestable_KO_Win_pct_Diff  \\\n",
       "0       13.966480    25.925926                   -50.000000   \n",
       "1        7.471264    27.868852                    25.000000   \n",
       "2      -33.136095   -10.638298                   -16.666667   \n",
       "3       51.758794    76.119403                   -75.000000   \n",
       "4       12.880562    38.461538                   -66.666667   \n",
       "\n",
       "   PenFK_Against_Diff  RuckMaul_Diff  Ruck_Win_pct_Diff  Cards_diff  \\\n",
       "0            0.000000       0.000000           0.083333        50.0   \n",
       "1          -20.000000    -100.000000           0.250000         0.0   \n",
       "2           66.666667      60.000000          -0.550000         0.0   \n",
       "3          -50.000000    -100.000000           0.250000         0.0   \n",
       "4          -33.333333     -33.333333           0.208333         0.0   \n",
       "\n",
       "   Lineout_Win_Pct_Diff  Scrum_Win_Pct_Diff  -175 : -150   ...    -99 : -75  \\\n",
       "0              0.333333                 1.0          0.0   ...          0.0   \n",
       "1             -1.000000                 0.0          0.0   ...          0.0   \n",
       "2             -1.000000                 0.0          0.0   ...          0.0   \n",
       "3              0.000000                -1.0          0.0   ...        -37.5   \n",
       "4             -1.000000                 0.0          0.0   ...          0.0   \n",
       "\n",
       "   -74 : -25  -24 : -1  0 : 25  26 : 50  51 : 75  76 : 100  101 : 125  \\\n",
       "0      -12.5       0.0     0.0      0.0      0.0       0.0        0.0   \n",
       "1        0.0       0.0    12.5      0.0      0.0       0.0        0.0   \n",
       "2        0.0      -5.0     0.0      0.0      0.0       0.0        0.0   \n",
       "3        0.0       0.0     0.0      0.0      0.0       0.0        0.0   \n",
       "4      -12.5       0.0     0.0      0.0      0.0       0.0        0.0   \n",
       "\n",
       "   126 : 150  Result  \n",
       "0        0.0       L  \n",
       "1        0.0       W  \n",
       "2        0.0       L  \n",
       "3        0.0       W  \n",
       "4        0.0       L  \n",
       "\n",
       "[5 rows x 22 columns]"
      ]
     },
     "execution_count": 20,
     "metadata": {},
     "output_type": "execute_result"
    }
   ],
   "source": [
    "rf_data.head()"
   ]
  },
  {
   "cell_type": "code",
   "execution_count": 21,
   "metadata": {
    "collapsed": true
   },
   "outputs": [],
   "source": [
    "X_train, X_test, y_train, y_test = train_test_split(X, y, test_size=0.30)"
   ]
  },
  {
   "cell_type": "markdown",
   "metadata": {},
   "source": [
    "## Decision Tree"
   ]
  },
  {
   "cell_type": "code",
   "execution_count": null,
   "metadata": {
    "collapsed": true
   },
   "outputs": [],
   "source": [
    "#y_test"
   ]
  },
  {
   "cell_type": "code",
   "execution_count": 22,
   "metadata": {
    "collapsed": true
   },
   "outputs": [],
   "source": [
    "from sklearn.tree import DecisionTreeClassifier"
   ]
  },
  {
   "cell_type": "code",
   "execution_count": 23,
   "metadata": {
    "collapsed": true
   },
   "outputs": [],
   "source": [
    "dtree = DecisionTreeClassifier()"
   ]
  },
  {
   "cell_type": "code",
   "execution_count": 24,
   "metadata": {},
   "outputs": [
    {
     "data": {
      "text/plain": [
       "DecisionTreeClassifier(class_weight=None, criterion='gini', max_depth=None,\n",
       "            max_features=None, max_leaf_nodes=None,\n",
       "            min_impurity_decrease=0.0, min_impurity_split=None,\n",
       "            min_samples_leaf=1, min_samples_split=2,\n",
       "            min_weight_fraction_leaf=0.0, presort=False, random_state=None,\n",
       "            splitter='best')"
      ]
     },
     "execution_count": 24,
     "metadata": {},
     "output_type": "execute_result"
    }
   ],
   "source": [
    "dtree.fit(X_train,y_train)"
   ]
  },
  {
   "cell_type": "code",
   "execution_count": 25,
   "metadata": {
    "collapsed": true
   },
   "outputs": [],
   "source": [
    "predictions = dtree.predict(X_test)"
   ]
  },
  {
   "cell_type": "code",
   "execution_count": 26,
   "metadata": {
    "collapsed": true
   },
   "outputs": [],
   "source": [
    "from sklearn.metrics import classification_report,confusion_matrix,accuracy_score"
   ]
  },
  {
   "cell_type": "code",
   "execution_count": 27,
   "metadata": {},
   "outputs": [
    {
     "data": {
      "text/plain": [
       "0.34042553191489361"
      ]
     },
     "execution_count": 27,
     "metadata": {},
     "output_type": "execute_result"
    }
   ],
   "source": [
    "#get the model's accuracy score\n",
    "accuracy_score(y_test, predictions)"
   ]
  },
  {
   "cell_type": "code",
   "execution_count": 28,
   "metadata": {},
   "outputs": [
    {
     "name": "stdout",
     "output_type": "stream",
     "text": [
      "             precision    recall  f1-score   support\n",
      "\n",
      "          L       0.30      0.33      0.32        21\n",
      "          T       0.00      0.00      0.00         1\n",
      "          W       0.39      0.36      0.37        25\n",
      "\n",
      "avg / total       0.34      0.34      0.34        47\n",
      "\n"
     ]
    }
   ],
   "source": [
    "print(classification_report(y_test,predictions))"
   ]
  },
  {
   "cell_type": "code",
   "execution_count": 29,
   "metadata": {},
   "outputs": [
    {
     "name": "stdout",
     "output_type": "stream",
     "text": [
      "[[ 7  1 13]\n",
      " [ 0  0  1]\n",
      " [16  0  9]]\n"
     ]
    }
   ],
   "source": [
    "print(confusion_matrix(y_test,predictions))"
   ]
  },
  {
   "cell_type": "markdown",
   "metadata": {},
   "source": [
    "## Tree Visualization"
   ]
  },
  {
   "cell_type": "code",
   "execution_count": null,
   "metadata": {
    "collapsed": true
   },
   "outputs": [],
   "source": [
    "from IPython.display import Image  \n",
    "from sklearn.externals.six import StringIO  \n",
    "from sklearn.tree import export_graphviz\n",
    "import pydot \n",
    "\n",
    "features = list(rf_data.columns[0:-1])\n",
    "features"
   ]
  },
  {
   "cell_type": "code",
   "execution_count": null,
   "metadata": {
    "collapsed": true
   },
   "outputs": [],
   "source": [
    "dot_data = StringIO()  \n",
    "export_graphviz(dtree, out_file=dot_data,feature_names=features,filled=True,rounded=True)\n",
    "\n",
    "graph = pydot.graph_from_dot_data(dot_data.getvalue())  \n",
    "Image(graph[0].create_png())"
   ]
  },
  {
   "cell_type": "markdown",
   "metadata": {},
   "source": [
    "## Random Forest"
   ]
  },
  {
   "cell_type": "code",
   "execution_count": 30,
   "metadata": {},
   "outputs": [
    {
     "data": {
      "text/plain": [
       "RandomForestClassifier(bootstrap=True, class_weight=None, criterion='gini',\n",
       "            max_depth=None, max_features='auto', max_leaf_nodes=None,\n",
       "            min_impurity_decrease=0.0, min_impurity_split=None,\n",
       "            min_samples_leaf=1, min_samples_split=2,\n",
       "            min_weight_fraction_leaf=0.0, n_estimators=200, n_jobs=1,\n",
       "            oob_score=False, random_state=None, verbose=0,\n",
       "            warm_start=False)"
      ]
     },
     "execution_count": 30,
     "metadata": {},
     "output_type": "execute_result"
    }
   ],
   "source": [
    "from sklearn.ensemble import RandomForestClassifier\n",
    "rfc = RandomForestClassifier(n_estimators=200, verbose=0)\n",
    "rfc.fit(X_train, y_train)"
   ]
  },
  {
   "cell_type": "code",
   "execution_count": 31,
   "metadata": {
    "collapsed": true
   },
   "outputs": [],
   "source": [
    "rfc_pred = rfc.predict(X_test)"
   ]
  },
  {
   "cell_type": "code",
   "execution_count": null,
   "metadata": {},
   "outputs": [],
   "source": [
    "#import matplotlib.pyplot as plt\n",
    "from sklearn.metrics import confusion_matrix\n",
    "conf = confusion_matrix(y_test,rfc_pred)\n",
    "plt.imshow(conf, cmap='binary', interpolation='None')\n",
    "plt.show()"
   ]
  },
  {
   "cell_type": "code",
   "execution_count": 38,
   "metadata": {
    "collapsed": true,
    "scrolled": true
   },
   "outputs": [],
   "source": [
    "impt = df[['Poss_Time_Diff','Passes_Diff','Contestable_KO_Win_pct_Diff','PenFK_Against_Diff',\n",
    "             'Ruck_Win_pct_Diff', 'Result']]"
   ]
  },
  {
   "cell_type": "code",
   "execution_count": null,
   "metadata": {},
   "outputs": [],
   "source": [
    "sns.pairplot(impt,hue='Result', palette='Set1') #hue='Result'"
   ]
  },
  {
   "cell_type": "markdown",
   "metadata": {},
   "source": [
    "## Random Forest Model Eval"
   ]
  },
  {
   "cell_type": "code",
   "execution_count": 41,
   "metadata": {},
   "outputs": [
    {
     "name": "stdout",
     "output_type": "stream",
     "text": [
      "Confusion Matrix\n",
      "[[ 9  0 12]\n",
      " [ 0  0  1]\n",
      " [ 7  0 18]]\n",
      "\n",
      "\n",
      "Classification Report\n",
      "             precision    recall  f1-score   support\n",
      "\n",
      "          L       0.56      0.43      0.49        21\n",
      "          T       0.00      0.00      0.00         1\n",
      "          W       0.58      0.72      0.64        25\n",
      "\n",
      "avg / total       0.56      0.57      0.56        47\n",
      "\n",
      "\n",
      "\n",
      "Accuracy Score\n",
      "0.574468085106\n"
     ]
    }
   ],
   "source": [
    "from sklearn.metrics import classification_report,confusion_matrix,accuracy_score\n",
    "\n",
    "#Output confusion matrix\n",
    "print(\"Confusion Matrix\")\n",
    "print(confusion_matrix(y_test,rfc_pred))\n",
    "\n",
    "#import matplotlib.pyplot as plt\n",
    "#print(\"\\n\")\n",
    "#print(\"Confusion Matrix Plot\")\n",
    "#from sklearn.metrics import confusion_matrix\n",
    "#conf = confusion_matrix(y_test,rfc_pred)\n",
    "#plt.imshow(conf, cmap='binary', interpolation='None')\n",
    "#plt.show()\n",
    "\n",
    "#import libraries to ignore UndefinedMetricWarning\n",
    "import warnings\n",
    "import sklearn.exceptions\n",
    "warnings.filterwarnings(\"ignore\", category=sklearn.exceptions.UndefinedMetricWarning)\n",
    "\n",
    "#get the model's accuracy score\n",
    "accuracy_score(y_test, rfc_pred)\n",
    "print(\"\\n\")\n",
    "print(\"Classification Report\")\n",
    "print(classification_report(y_test,rfc_pred))\n",
    "\n",
    "#print accuracy score\n",
    "print(\"\\n\")\n",
    "print(\"Accuracy Score\")\n",
    "print(rfc.score(X_test, y_test))"
   ]
  },
  {
   "cell_type": "code",
   "execution_count": 42,
   "metadata": {},
   "outputs": [
    {
     "name": "stdout",
     "output_type": "stream",
     "text": [
      "Feature Importance\n",
      "                             importance\n",
      "Poss_Time_Diff                 0.162604\n",
      "Ruck_Win_pct_Diff              0.136296\n",
      "Passes_Diff                    0.131532\n",
      "Contestable_KO_Win_pct_Diff    0.119748\n",
      "PenFK_Against_Diff             0.113640\n",
      "RuckMaul_Diff                  0.084305\n",
      "Lineout_Win_Pct_Diff           0.065398\n",
      "Scrum_Win_Pct_Diff             0.048053\n",
      "Cards_diff                     0.030054\n",
      "0 : 25                         0.026790\n",
      "-74 : -25                      0.021165\n",
      "51 : 75                        0.018365\n",
      "26 : 50                        0.014886\n",
      "-24 : -1                       0.010186\n",
      "76 : 100                       0.004941\n",
      "-99 : -75                      0.003673\n",
      "-175 : -150                    0.003500\n",
      "126 : 150                      0.003093\n",
      "-124 : -100                    0.001770\n",
      "101 : 125                      0.000000\n",
      "-149 : -125                    0.000000\n"
     ]
    }
   ],
   "source": [
    "feature_importances = pd.DataFrame(rfc.feature_importances_,\n",
    "                                   index = X_train.columns,\n",
    "                                    columns=['importance']).sort_values('importance', ascending=False)\n",
    "\n",
    "print(\"Feature Importance\")\n",
    "print(feature_importances)"
   ]
  },
  {
   "cell_type": "markdown",
   "metadata": {},
   "source": [
    "## Train an XGBoost Classifier Model\n",
    "Info from https://jessesw.com/XG-Boost/"
   ]
  },
  {
   "cell_type": "code",
   "execution_count": 61,
   "metadata": {},
   "outputs": [],
   "source": [
    "import xgboost as xgb\n",
    "from sklearn.model_selection import GridSearchCV\n",
    "\n",
    "#grid_search"
   ]
  },
  {
   "cell_type": "markdown",
   "metadata": {},
   "source": [
    "## Set up hyperparameter tuning/Grid Search¶"
   ]
  },
  {
   "cell_type": "code",
   "execution_count": 62,
   "metadata": {
    "collapsed": true
   },
   "outputs": [],
   "source": [
    "#Set parameters for first grid search. Start tuning on the maximum depth of the trees first, \n",
    "#along with the min_child_weight, which is very similar to min_samples_split in sklearn’s version \n",
    "#of gradient boosted trees. We set the objective to ‘binary:logistic’ since this is a binary \n",
    "#classification problem\n",
    "cv_params = {'max_depth': [3,5,7], 'min_child_weight': [1,3,5]}\n",
    "ind_params = {'learning_rate': 0.1, 'n_estimators': 1000, 'seed':0, 'subsample': 0.8, 'colsample_bytree': 0.8, \n",
    "             'objective': 'binary:logistic'}\n",
    "optimized_GBM = GridSearchCV(xgb.XGBClassifier(**ind_params), \n",
    "                            cv_params, \n",
    "                             scoring = 'accuracy', cv = 4, n_jobs = -1) \n",
    "# Optimize for accuracy\n"
   ]
  },
  {
   "cell_type": "markdown",
   "metadata": {},
   "source": [
    "ERROR: /Users/admin/anaconda3/lib/python3.6/site-packages/sklearn/cross_validation.py:553: Warning: The least populated class in y has only 4 members, which is too few. The minimum number of labels for any class cannot be less than n_folds=5.\n",
    "  % (min_labels, self.n_folds)), Warning)\n",
    "  \n",
    "  The Tie ('T') result is likely the cause of this.  For now, change to CV = 4"
   ]
  },
  {
   "cell_type": "code",
   "execution_count": 49,
   "metadata": {},
   "outputs": [
    {
     "data": {
      "text/plain": [
       "GridSearchCV(cv=4, error_score='raise',\n",
       "       estimator=XGBClassifier(base_score=0.5, booster='gbtree', colsample_bylevel=1,\n",
       "       colsample_bytree=0.8, gamma=0, learning_rate=0.1, max_delta_step=0,\n",
       "       max_depth=3, min_child_weight=1, missing=None, n_estimators=1000,\n",
       "       n_jobs=1, nthread=None, objective='binary:logistic', random_state=0,\n",
       "       reg_alpha=0, reg_lambda=1, scale_pos_weight=1, seed=0, silent=True,\n",
       "       subsample=0.8),\n",
       "       fit_params={}, iid=True, n_jobs=-1,\n",
       "       param_grid={'max_depth': [3, 5, 7], 'min_child_weight': [1, 3, 5]},\n",
       "       pre_dispatch='2*n_jobs', refit=True, scoring='accuracy', verbose=0)"
      ]
     },
     "execution_count": 49,
     "metadata": {},
     "output_type": "execute_result"
    }
   ],
   "source": [
    "# Run the grid search\n",
    "optimized_GBM.fit(X_train, y_train)"
   ]
  },
  {
   "cell_type": "code",
   "execution_count": 50,
   "metadata": {},
   "outputs": [
    {
     "data": {
      "text/plain": [
       "[mean: 0.61468, std: 0.05469, params: {'max_depth': 3, 'min_child_weight': 1},\n",
       " mean: 0.58716, std: 0.01909, params: {'max_depth': 3, 'min_child_weight': 3},\n",
       " mean: 0.55963, std: 0.05080, params: {'max_depth': 3, 'min_child_weight': 5},\n",
       " mean: 0.60550, std: 0.01515, params: {'max_depth': 5, 'min_child_weight': 1},\n",
       " mean: 0.59633, std: 0.00630, params: {'max_depth': 5, 'min_child_weight': 3},\n",
       " mean: 0.55046, std: 0.03262, params: {'max_depth': 5, 'min_child_weight': 5},\n",
       " mean: 0.60550, std: 0.04002, params: {'max_depth': 7, 'min_child_weight': 1},\n",
       " mean: 0.59633, std: 0.00630, params: {'max_depth': 7, 'min_child_weight': 3},\n",
       " mean: 0.55046, std: 0.03262, params: {'max_depth': 7, 'min_child_weight': 5}]"
      ]
     },
     "execution_count": 50,
     "metadata": {},
     "output_type": "execute_result"
    }
   ],
   "source": [
    "# Check grid scores\n",
    "optimized_GBM.grid_scores_\n",
    "# increased score to 61% - over 57% of Random Forest:\n",
    "# mean: 0.61468, std: 0.05469, params: {'max_depth': 3, 'min_child_weight': 1}"
   ]
  },
  {
   "cell_type": "markdown",
   "metadata": {},
   "source": [
    "use these parameters (resulting in mean: 0.61468):\n",
    "\n",
    "** params: {'max_depth': 3, 'min_child_weight': 1} **\n",
    "\n",
    "Adjust subsampling along with lowering the learning rate to see if that helps"
   ]
  },
  {
   "cell_type": "code",
   "execution_count": 56,
   "metadata": {},
   "outputs": [
    {
     "data": {
      "text/plain": [
       "GridSearchCV(cv=4, error_score='raise',\n",
       "       estimator=XGBClassifier(base_score=0.5, booster='gbtree', colsample_bylevel=1,\n",
       "       colsample_bytree=0.8, gamma=0, learning_rate=0.1, max_delta_step=0,\n",
       "       max_depth=3, min_child_weight=1, missing=None, n_estimators=100,\n",
       "       n_jobs=1, nthread=None, objective='binary:logistic', random_state=0,\n",
       "       reg_alpha=0, reg_lambda=1, scale_pos_weight=1, seed=0, silent=True,\n",
       "       subsample=1),\n",
       "       fit_params={}, iid=True, n_jobs=-1,\n",
       "       param_grid={'learning_rate': [0.1, 0.01], 'subsample': [0.7, 0.8, 0.9]},\n",
       "       pre_dispatch='2*n_jobs', refit=True, scoring='accuracy', verbose=0)"
      ]
     },
     "execution_count": 56,
     "metadata": {},
     "output_type": "execute_result"
    }
   ],
   "source": [
    "cv_params = {'learning_rate': [0.1, 0.01], 'subsample': [0.7,0.8,0.9]}\n",
    "ind_params = {'n_estimators': 100, 'seed':0, 'colsample_bytree': 0.8, \n",
    "             'objective': 'binary:logistic', 'max_depth': 3, 'min_child_weight': 1}\n",
    "\n",
    "\n",
    "optimized_GBM = GridSearchCV(xgb.XGBClassifier(**ind_params), \n",
    "                            cv_params, \n",
    "                             scoring = 'accuracy', cv = 4, n_jobs = -1)\n",
    "# Run the grid search again\n",
    "optimized_GBM.fit(X_train, y_train)"
   ]
  },
  {
   "cell_type": "code",
   "execution_count": 57,
   "metadata": {},
   "outputs": [
    {
     "data": {
      "text/plain": [
       "[mean: 0.63303, std: 0.05657, params: {'learning_rate': 0.1, 'subsample': 0.7},\n",
       " mean: 0.59633, std: 0.04255, params: {'learning_rate': 0.1, 'subsample': 0.8},\n",
       " mean: 0.62385, std: 0.08564, params: {'learning_rate': 0.1, 'subsample': 0.9},\n",
       " mean: 0.54128, std: 0.07335, params: {'learning_rate': 0.01, 'subsample': 0.7},\n",
       " mean: 0.53211, std: 0.05764, params: {'learning_rate': 0.01, 'subsample': 0.8},\n",
       " mean: 0.52294, std: 0.06194, params: {'learning_rate': 0.01, 'subsample': 0.9}]"
      ]
     },
     "execution_count": 57,
     "metadata": {},
     "output_type": "execute_result"
    }
   ],
   "source": [
    "# check the Grid Scores again - increased to 0.63303\n",
    "# mean: 0.63303, std: 0.05657, params: {'learning_rate': 0.1, 'subsample': 0.7}\n",
    "optimized_GBM.grid_scores_"
   ]
  },
  {
   "cell_type": "markdown",
   "metadata": {},
   "source": [
    "### Final parameters:\n",
    "Got to 63% (mean: 0.63303, std: 0.05657) with the parameters below:\n",
    "\n",
    "params: {'learning_rate': 0.1, 'subsample': 0.7, 'max_depth': 3, 'min_child_weight': 1}\n",
    "\n",
    "ind_params = {'n_estimators': 100, 'seed':0, 'colsample_bytree': 0.8, \n",
    "             'objective': 'binary:logistic', 'max_depth': 3, 'min_child_weight': 1}"
   ]
  },
  {
   "cell_type": "markdown",
   "metadata": {},
   "source": [
    "## Create a DMatrix\n",
    "To increase the performance of XGBoost's speed through many iterations of the training set, and since we are using only XGBoost's API and not sklearn's anymore, we can create a DMatrix. This sorts the data initially to optimize for XGBoost when it builds trees, making the algorithm more efficient. This is especially helpful when you have a very large number of training examples. To create a DMatrix:"
   ]
  },
  {
   "cell_type": "code",
   "execution_count": 60,
   "metadata": {},
   "outputs": [
    {
     "ename": "ValueError",
     "evalue": "could not convert string to float: 'W'",
     "output_type": "error",
     "traceback": [
      "\u001b[0;31m---------------------------------------------------------------------------\u001b[0m",
      "\u001b[0;31mValueError\u001b[0m                                Traceback (most recent call last)",
      "\u001b[0;32m<ipython-input-60-11fd6e09478a>\u001b[0m in \u001b[0;36m<module>\u001b[0;34m()\u001b[0m\n\u001b[1;32m      1\u001b[0m \u001b[0;31m# Won't work because labels are not 0,1\u001b[0m\u001b[0;34m\u001b[0m\u001b[0;34m\u001b[0m\u001b[0m\n\u001b[1;32m      2\u001b[0m \u001b[0;31m# Create our DMatrix to make XGBoost more efficient\u001b[0m\u001b[0;34m\u001b[0m\u001b[0;34m\u001b[0m\u001b[0m\n\u001b[0;32m----> 3\u001b[0;31m \u001b[0mxgdmat\u001b[0m \u001b[0;34m=\u001b[0m \u001b[0mxgb\u001b[0m\u001b[0;34m.\u001b[0m\u001b[0mDMatrix\u001b[0m\u001b[0;34m(\u001b[0m\u001b[0mX_train\u001b[0m\u001b[0;34m,\u001b[0m \u001b[0my_train\u001b[0m\u001b[0;34m)\u001b[0m\u001b[0;34m\u001b[0m\u001b[0m\n\u001b[0m",
      "\u001b[0;32m~/anaconda3/lib/python3.6/site-packages/xgboost/core.py\u001b[0m in \u001b[0;36m__init__\u001b[0;34m(self, data, label, missing, weight, silent, feature_names, feature_types, nthread)\u001b[0m\n\u001b[1;32m    285\u001b[0m         \u001b[0;32mif\u001b[0m \u001b[0mlabel\u001b[0m \u001b[0;32mis\u001b[0m \u001b[0;32mnot\u001b[0m \u001b[0;32mNone\u001b[0m\u001b[0;34m:\u001b[0m\u001b[0;34m\u001b[0m\u001b[0m\n\u001b[1;32m    286\u001b[0m             \u001b[0;32mif\u001b[0m \u001b[0misinstance\u001b[0m\u001b[0;34m(\u001b[0m\u001b[0mdata\u001b[0m\u001b[0;34m,\u001b[0m \u001b[0mnp\u001b[0m\u001b[0;34m.\u001b[0m\u001b[0mndarray\u001b[0m\u001b[0;34m)\u001b[0m\u001b[0;34m:\u001b[0m\u001b[0;34m\u001b[0m\u001b[0m\n\u001b[0;32m--> 287\u001b[0;31m                 \u001b[0mself\u001b[0m\u001b[0;34m.\u001b[0m\u001b[0mset_label_npy2d\u001b[0m\u001b[0;34m(\u001b[0m\u001b[0mlabel\u001b[0m\u001b[0;34m)\u001b[0m\u001b[0;34m\u001b[0m\u001b[0m\n\u001b[0m\u001b[1;32m    288\u001b[0m             \u001b[0;32melse\u001b[0m\u001b[0;34m:\u001b[0m\u001b[0;34m\u001b[0m\u001b[0m\n\u001b[1;32m    289\u001b[0m                 \u001b[0mself\u001b[0m\u001b[0;34m.\u001b[0m\u001b[0mset_label\u001b[0m\u001b[0;34m(\u001b[0m\u001b[0mlabel\u001b[0m\u001b[0;34m)\u001b[0m\u001b[0;34m\u001b[0m\u001b[0m\n",
      "\u001b[0;32m~/anaconda3/lib/python3.6/site-packages/xgboost/core.py\u001b[0m in \u001b[0;36mset_label_npy2d\u001b[0;34m(self, label)\u001b[0m\n\u001b[1;32m    495\u001b[0m             \u001b[0;32mfrom\u001b[0m \u001b[0mnumpy\u001b[0m \u001b[0;36m2\u001b[0m\u001b[0mD\u001b[0m \u001b[0marray\u001b[0m\u001b[0;34m\u001b[0m\u001b[0m\n\u001b[1;32m    496\u001b[0m         \"\"\"\n\u001b[0;32m--> 497\u001b[0;31m         \u001b[0mself\u001b[0m\u001b[0;34m.\u001b[0m\u001b[0mset_float_info_npy2d\u001b[0m\u001b[0;34m(\u001b[0m\u001b[0;34m'label'\u001b[0m\u001b[0;34m,\u001b[0m \u001b[0mlabel\u001b[0m\u001b[0;34m)\u001b[0m\u001b[0;34m\u001b[0m\u001b[0m\n\u001b[0m\u001b[1;32m    498\u001b[0m \u001b[0;34m\u001b[0m\u001b[0m\n\u001b[1;32m    499\u001b[0m     \u001b[0;32mdef\u001b[0m \u001b[0mset_weight\u001b[0m\u001b[0;34m(\u001b[0m\u001b[0mself\u001b[0m\u001b[0;34m,\u001b[0m \u001b[0mweight\u001b[0m\u001b[0;34m)\u001b[0m\u001b[0;34m:\u001b[0m\u001b[0;34m\u001b[0m\u001b[0m\n",
      "\u001b[0;32m~/anaconda3/lib/python3.6/site-packages/xgboost/core.py\u001b[0m in \u001b[0;36mset_float_info_npy2d\u001b[0;34m(self, field, data)\u001b[0m\n\u001b[1;32m    439\u001b[0m             \u001b[0mThe\u001b[0m \u001b[0marray\u001b[0m \u001b[0mof\u001b[0m \u001b[0mdata\u001b[0m \u001b[0mto\u001b[0m \u001b[0mbe\u001b[0m \u001b[0mset\u001b[0m\u001b[0;34m\u001b[0m\u001b[0m\n\u001b[1;32m    440\u001b[0m         \"\"\"\n\u001b[0;32m--> 441\u001b[0;31m         \u001b[0mdata\u001b[0m \u001b[0;34m=\u001b[0m \u001b[0mnp\u001b[0m\u001b[0;34m.\u001b[0m\u001b[0marray\u001b[0m\u001b[0;34m(\u001b[0m\u001b[0mdata\u001b[0m\u001b[0;34m,\u001b[0m \u001b[0mcopy\u001b[0m\u001b[0;34m=\u001b[0m\u001b[0;32mFalse\u001b[0m\u001b[0;34m,\u001b[0m \u001b[0mdtype\u001b[0m\u001b[0;34m=\u001b[0m\u001b[0mnp\u001b[0m\u001b[0;34m.\u001b[0m\u001b[0mfloat32\u001b[0m\u001b[0;34m)\u001b[0m\u001b[0;34m\u001b[0m\u001b[0m\n\u001b[0m\u001b[1;32m    442\u001b[0m         \u001b[0mc_data\u001b[0m \u001b[0;34m=\u001b[0m \u001b[0mdata\u001b[0m\u001b[0;34m.\u001b[0m\u001b[0mctypes\u001b[0m\u001b[0;34m.\u001b[0m\u001b[0mdata_as\u001b[0m\u001b[0;34m(\u001b[0m\u001b[0mctypes\u001b[0m\u001b[0;34m.\u001b[0m\u001b[0mPOINTER\u001b[0m\u001b[0;34m(\u001b[0m\u001b[0mctypes\u001b[0m\u001b[0;34m.\u001b[0m\u001b[0mc_float\u001b[0m\u001b[0;34m)\u001b[0m\u001b[0;34m)\u001b[0m\u001b[0;34m\u001b[0m\u001b[0m\n\u001b[1;32m    443\u001b[0m         _check_call(_LIB.XGDMatrixSetFloatInfo(self.handle,\n",
      "\u001b[0;31mValueError\u001b[0m: could not convert string to float: 'W'"
     ]
    }
   ],
   "source": [
    "# Won't work because labels are not 0,1\n",
    "# Create our DMatrix to make XGBoost more efficient\n",
    "xgdmat = xgb.DMatrix(X_train, y_train) "
   ]
  },
  {
   "cell_type": "code",
   "execution_count": null,
   "metadata": {
    "collapsed": true
   },
   "outputs": [],
   "source": []
  }
 ],
 "metadata": {
  "kernelspec": {
   "display_name": "Python 3",
   "language": "python",
   "name": "python3"
  },
  "language_info": {
   "codemirror_mode": {
    "name": "ipython",
    "version": 3
   },
   "file_extension": ".py",
   "mimetype": "text/x-python",
   "name": "python",
   "nbconvert_exporter": "python",
   "pygments_lexer": "ipython3",
   "version": "3.6.3"
  }
 },
 "nbformat": 4,
 "nbformat_minor": 2
}
